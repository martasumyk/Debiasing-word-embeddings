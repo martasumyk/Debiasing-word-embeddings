{
  "cells": [
    {
      "cell_type": "markdown",
      "metadata": {
        "id": "RqRdxqdZG8hT"
      },
      "source": [
        "# Debiasing word embeddings"
      ]
    },
    {
      "cell_type": "markdown",
      "metadata": {
        "id": "0EkpDRPMwdf5"
      },
      "source": [
        "Word embeddings are high-dimensional vectors, typically denoted as $\\vec{w} \\in \\mathbb{R}^d$, where $d$ signifies the dimensionality of the embedding space. These vectors are meticulously crafted to encode semantic relationships among words in natural language by positioning semantically similar words closer to each other within the embedding space. Each dimension of the vector corresponds to a distinct semantic aspect or feature of the word's meaning or usage.\n",
        "\n",
        "However, a critical challenge persists: traditional GloVe embeddings tend to cluster words based on contextual similarity, potentially adding bias based on corpus of text it was trained on. The issue of gender bias arises when the vector representation of a word, presumed to be gender-neutral (e.g., $\\overrightarrow{\\text{business}}$, $\\overrightarrow{\\text{sport}}$), exhibits closer proximity to one gender-defining word (e.g., $\\overrightarrow{\\text{male}}$) than to another (e.g., $\\overrightarrow{\\text{female}}$) within the embedding space. This phenomenon can reflect and perpetuate societal biases and imbalances, highlighting the importance of ensuring fairness and neutrality in word embeddings.\n"
      ]
    },
    {
      "cell_type": "code",
      "execution_count": 1,
      "metadata": {
        "id": "T1DyqnzaaQpE"
      },
      "outputs": [],
      "source": [
        "import csv\n",
        "import numpy as np\n",
        "from numpy import linalg as la\n",
        "import matplotlib.pyplot as plt\n",
        "from sklearn.decomposition import PCA\n",
        "from itertools import combinations\n",
        "from mpl_toolkits.mplot3d import Axes3D\n",
        "from sklearn.cluster import KMeans\n",
        "from sklearn.metrics import accuracy_score\n",
        "import random"
      ]
    },
    {
      "cell_type": "markdown",
      "metadata": {
        "id": "HEILDbf0HIoi"
      },
      "source": [
        "### Model download"
      ]
    },
    {
      "cell_type": "markdown",
      "metadata": {
        "id": "pYIj9ogTI2Es"
      },
      "source": [
        "We use Microsoft Pri-2 model - transformer with $2.7$ billion parameters.\n",
        "\n",
        "You can download it [here](https://huggingface.co/microsoft/phi-2).\n",
        "\n",
        "Phi-2 is a Transformer-based model with a next-word prediction objective, trained on 1.4T tokens from multiple passes on a mixture of Synthetic and Web datasets for NLP and coding. The training for Phi-2 took 14 days on 96 A100 GPUs."
      ]
    },
    {
      "cell_type": "code",
      "execution_count": 2,
      "metadata": {
        "colab": {
          "base_uri": "https://localhost:8080/",
          "height": 743,
          "referenced_widgets": [
            "d6f019375aef4551bd059aefad40b789",
            "68a322cf394640d4ad374310e0e92e22",
            "fcbb88fafe0c4dbfab0d07e36a754e17",
            "32c9eb42f6fe4961a4d0b5df33075c4e",
            "d393616ca81842e79770f37da99c6e17",
            "ebda76bc19f84f5bb99e3467e75a321a",
            "f20b554f0b8f4d109f6ce58f3c2af71f",
            "20237494aa7d4b64b7f8cf45f9898ad4",
            "e2e1d2efd3cc450daba9d5d5f2f0b66a",
            "d7ccd676ef954d61885ae4ec847cb3b8",
            "0601b922ee674473a9a1fd93333d9c2c",
            "ded9a11855754581a0828ed85f6cdb69",
            "9dfd4cd10796437aa0c19dba48348952",
            "1dc683f0ad0b47f6af0ed8e27cc30baa",
            "cacc883af05a47f3bb09c4d95177a765",
            "e922ec34ba3746d39d46487000c294f4",
            "bfc2f79f026f4a29be11e209300acb85",
            "f65c7559f77547ee90de08aa24df01b8",
            "a6c0bbb712ec421cb06b641e0cd9a7d7",
            "ae6aae40078e45bc95fa86ddf3085230",
            "048ea55e801942158f064d652e08de84",
            "69984f352381426994924f5a6676e2a4",
            "56e1ee1575094a469c7fcc9d0cbe6c42",
            "acb8a40cfd3d46fc9d54bfda0ce326ea",
            "00749df0446a4f789cb43e9dd97705ec",
            "c136bfe7279d48508f2345f18cc8ae79",
            "0825d081b988430ebd4f6072f2edf519",
            "6053fee330024816a5a4a290c636fe6a",
            "23590bcabfb549eab70329f67949ce7d",
            "aeb03a1d17244ddda902b3e64539cce1",
            "a009eefc94a84ee2826dc157bf10c97c",
            "967b523e5ea44c5397fe152b2d116f2b",
            "13ec0986d3954e7ebeef1943ab49e069",
            "78dfc5e190714ed182f25b1b8c3e4208",
            "b8c89b2ed06d4bafa6be4fc096f5f683",
            "0b697efc473941d591f871795375f7ee",
            "ec9130d6efda44bd99a073476ea00712",
            "d82f0458d33640c0a6fcd7c0938b1f2c",
            "ae37f4010ac24cf7b2a30cbb54212485",
            "c4a86ec663ca4c5396196d4445c84eed",
            "06d0ed0291e243158fbd69010045574c",
            "107fb41e4c584e289be6f6c930947e39",
            "8f44cf9068bc4f7ea36be3eae0546ee5",
            "dd328e666a0c478b9c223477a6a773c2",
            "aad95c1de60f41d1ad224db33ed3936f",
            "9b1016a59caa423fad42d4ac8ef1355c",
            "1d235814902744cd9c267c9ac9b57234",
            "0d4fbfb7ff714a66a7e9f6d154717eb9",
            "291908fa85a943eab0cd250708883b8c",
            "23d108549718488eadfdb08197427b3c",
            "f234e8eb740842b5a4d197c29373185e",
            "67800f430eb64187b5d2d4099475b670",
            "b3b4de2c40634cbb8c281fc607654943",
            "bd5ae86a79544eccbd803c84be834f97",
            "6ffd284a4c8943d79aa013d43fa5881d",
            "99df092e81ab4549b20c337b57e3375c",
            "875dad1cb7fe41a483df28376225264d",
            "c5a7747ff21e4d89afd8b7c13bdf7cb9",
            "0f109ec0256040e2ad9a9c1deeff6231",
            "39344d8898b54769b5fd98ce1ee655b3",
            "ea76af8771824eb68d32a0b41a9625f5",
            "c3d1eb59889a4722b031ae6315b7341a",
            "0f45e9141d564594b1df3f4f4253a5bd",
            "28a3bcbb85744d2a9fa096f7bcdb7672",
            "ebd460e6b4104e61a933bb3638bbfdb3",
            "7898758553ca40d8bb31573cf086a4ed",
            "73d0dfbec3ea4c60bf90aeda4dac089e",
            "fc56d58f074645969ee21512cbc1044e",
            "7fe4d1d88c3a48d6970bdbfcbd078394",
            "9060e097181c4498918aded1ed4bd36f",
            "87827c85b5dc472baff1cb59c3325bcc",
            "bf8144c434e74850b7265f193a4aba49",
            "b1eb5b7c624e4752834878eaaf43c448",
            "32eb2faf09854001ae6f7a9e19dbdc98",
            "82370da0c3164abf9e85f5f0257df806",
            "5c96298d64c8421395964f815d19ea8b",
            "7b2eba7b3df646d6847c390e52cf0d5d",
            "c51d0b6e4c3240738c2aa56905fdc8fe",
            "06877e7340b542ed84a6773a939f6a14",
            "78f2cecee04e47a9abd441334106261d",
            "1d202d261c6744b1ad60ba56a109c0af",
            "a976b580ba0341059ff422c7182adbe5",
            "0bc0aac445ee4ec48952d87946b96f86",
            "18e37cfec37f4ac8a3b78fceac441fc8",
            "c8bec8cc207943ef9b71f1556111edd7",
            "0662fc7480fa4a3e935955901c7507a6",
            "8bb4cca3824e4ccf8c2f51ec134d5ee0",
            "04d6f59abd99464aa3883b4167d54447",
            "1bffad5f8082444a8c13576a250d7794",
            "bd1bc8edac894b9e9022c0fb37e86a4b",
            "f29cae2c55f14cec9e3fc64247c41efd",
            "054a86b643f84ae4912cebb5a73169c5",
            "2450b90b6d8347a0b660f851e4964917",
            "0028e4ae39ef4ca5a15a049407237a30",
            "8546d644839f4f069cf8c33ffffda12c",
            "f944236a4f0b41b1a27c4babbc4fc7fe",
            "f72d1b46583e49dab59ddbe192afc2ab",
            "ce32cd43cbee4aae93ec6252bfc28f74",
            "8f9211095d2541b6a4b9b8ba02cd59df",
            "8e2030255cab4bf181f5f1f83e07d596",
            "658f1ffb2f344eb6a4ffbf43ad444ffa",
            "41beb548b76445de9368f55fcd4d3be5",
            "7c9455d1ae1747f1b7af798be1326ef3",
            "de3903c61f054068a86b27dcdbdecb6f",
            "1f2d535234304a3b94fb2e155147c77c",
            "9a15b09fea604b5794c79c23d6984cc4",
            "0e7fcdd2c2234c81b106222521b66b35",
            "b1a0be23aa8a4449b1648ea10b28b6e1",
            "0777091253a14d5ba6daaaae7f7d7f79",
            "a8c617c7447249c8b799335ccd440a4d",
            "2ff17ab018dc4fcc8d9179a6f52d3f01",
            "9e815b06a80c49138befaa460422d7a4",
            "a0a766d12e144edeb5f569d4c62ed44b",
            "e1844b13c6234f6cb3cbd75d95fe8624",
            "9742a07a05ca4514bb030b52c56d51ea",
            "05c13e452ada4cb4bd26f21cd63865ed",
            "7cf28777056e44d481913da4b895a617",
            "16b3ce32e7c04e40a08eadbb1eb885fa",
            "5181601585da4c8290bc82d615785207",
            "ca9271a5a2ef4821b5f810e24554ae4a",
            "4eb7de96c437443582099d3b7b66eb8b",
            "b2169bf1795c4b2eafe9cfad5ab82bc0",
            "b0c06416e4c34c6c851562bbfeaaac85",
            "915d45df9b2a431db91cf8991360f582",
            "05ef37f9e7f348529d5df4cd9df52b15",
            "9ab92ded217941a281cbe64ec598e46b",
            "6a38b13624544b1aac00ce04c80a6b93",
            "3567042461a04f68a4af4d19b5ab2dea",
            "95b8429bda0741f1addfa0c71d1d9fe2",
            "05347f774d2b4c69b42aa5595190f756",
            "9f0586bd1dd04325b0d40c34a1c6a5ef",
            "144ed726579e40e49ebeb62d94085467",
            "5a707d4c767a41c3b2f99b60a0ee5151",
            "825cae2b6f9a4216b52bb95968b9ca54",
            "971c045ec15e4e69bd39d36b07b9c72f",
            "e5dc6577a8e04dd3a143dc87688a587a",
            "ec72bee9c29f4ae298370843fbc16dcc",
            "333edf81244141fb8974045085757814",
            "30516a4ca50e4ecaaab3bd79784ab93b",
            "67c44e4f98914b5e8acc42d802fdcb76",
            "25cd2fe1223949c28d60c5b2ad915f34",
            "6530640f489c481fb54667fa17df9496",
            "2ff2dafa2205484aa1316d16ab973d21",
            "f3694f606b2249ab9998a80b7df4e194",
            "ea3fba0adc854776aa452571e290e596",
            "da46d61badd040afb5175f27dd50f7ed",
            "4d977ef0f26d4cbb8cbb00f0549f24ab",
            "3ad31eb4a6fe494b99d773deff1eb789",
            "825feec11a2f49658ea1028e9c6ecdfc",
            "8b3920f1a0934df58ff9697f74cf96ad",
            "317e76910d3240f98ec7702ececeab05",
            "7767f0094fb64480a72df425efe13f0a",
            "3b3c9da43380451cb3da96f582203365",
            "2b97b3a74d874f6c897b7e3fc25ea9ee",
            "b0026b02f4fa4da0aca303b23900823d",
            "454194ab468340be87705efdab904eaa",
            "a1f7387fbfa0499ab3bf92dd649726c9",
            "0d650dd3248941a19d775a38579bb893",
            "94d1927c44004d79900f114ca2ed14c6",
            "301ebd4ccdad464eaa57f6771efd6720",
            "4b29813588ce40f496c7237e3ad30b39",
            "4a8f0edf63044b43bb8eedb9d4a190f7",
            "601782ac6f5245388398879a90706f1d",
            "14ef0597ac1e47abaf1e2f6ccc3f093f",
            "f20f16d33b1f4af58fe48870d872a00e"
          ]
        },
        "id": "z3wrozP9onXg",
        "outputId": "fa18c35a-016f-434e-f97e-cb4cc239e457"
      },
      "outputs": [
        {
          "name": "stderr",
          "output_type": "stream",
          "text": [
            "/usr/local/lib/python3.10/dist-packages/huggingface_hub/utils/_token.py:88: UserWarning: \n",
            "The secret `HF_TOKEN` does not exist in your Colab secrets.\n",
            "To authenticate with the Hugging Face Hub, create a token in your settings tab (https://huggingface.co/settings/tokens), set it as secret in your Google Colab and restart your session.\n",
            "You will be able to reuse this secret in all of your notebooks.\n",
            "Please note that authentication is recommended but still optional to access public models or datasets.\n",
            "  warnings.warn(\n"
          ]
        },
        {
          "data": {
            "application/vnd.jupyter.widget-view+json": {
              "model_id": "d6f019375aef4551bd059aefad40b789",
              "version_major": 2,
              "version_minor": 0
            },
            "text/plain": [
              "config.json:   0%|          | 0.00/863 [00:00<?, ?B/s]"
            ]
          },
          "metadata": {},
          "output_type": "display_data"
        },
        {
          "data": {
            "application/vnd.jupyter.widget-view+json": {
              "model_id": "ded9a11855754581a0828ed85f6cdb69",
              "version_major": 2,
              "version_minor": 0
            },
            "text/plain": [
              "configuration_phi.py:   0%|          | 0.00/9.26k [00:00<?, ?B/s]"
            ]
          },
          "metadata": {},
          "output_type": "display_data"
        },
        {
          "name": "stderr",
          "output_type": "stream",
          "text": [
            "A new version of the following files was downloaded from https://huggingface.co/microsoft/phi-2:\n",
            "- configuration_phi.py\n",
            ". Make sure to double-check they do not contain any added malicious code. To avoid downloading new versions of the code file, you can pin a revision.\n"
          ]
        },
        {
          "data": {
            "application/vnd.jupyter.widget-view+json": {
              "model_id": "56e1ee1575094a469c7fcc9d0cbe6c42",
              "version_major": 2,
              "version_minor": 0
            },
            "text/plain": [
              "modeling_phi.py:   0%|          | 0.00/62.7k [00:00<?, ?B/s]"
            ]
          },
          "metadata": {},
          "output_type": "display_data"
        },
        {
          "name": "stderr",
          "output_type": "stream",
          "text": [
            "A new version of the following files was downloaded from https://huggingface.co/microsoft/phi-2:\n",
            "- modeling_phi.py\n",
            ". Make sure to double-check they do not contain any added malicious code. To avoid downloading new versions of the code file, you can pin a revision.\n"
          ]
        },
        {
          "data": {
            "application/vnd.jupyter.widget-view+json": {
              "model_id": "78dfc5e190714ed182f25b1b8c3e4208",
              "version_major": 2,
              "version_minor": 0
            },
            "text/plain": [
              "model.safetensors.index.json:   0%|          | 0.00/35.7k [00:00<?, ?B/s]"
            ]
          },
          "metadata": {},
          "output_type": "display_data"
        },
        {
          "data": {
            "application/vnd.jupyter.widget-view+json": {
              "model_id": "aad95c1de60f41d1ad224db33ed3936f",
              "version_major": 2,
              "version_minor": 0
            },
            "text/plain": [
              "Downloading shards:   0%|          | 0/2 [00:00<?, ?it/s]"
            ]
          },
          "metadata": {},
          "output_type": "display_data"
        },
        {
          "data": {
            "application/vnd.jupyter.widget-view+json": {
              "model_id": "99df092e81ab4549b20c337b57e3375c",
              "version_major": 2,
              "version_minor": 0
            },
            "text/plain": [
              "model-00001-of-00002.safetensors:   0%|          | 0.00/5.00G [00:00<?, ?B/s]"
            ]
          },
          "metadata": {},
          "output_type": "display_data"
        },
        {
          "data": {
            "application/vnd.jupyter.widget-view+json": {
              "model_id": "73d0dfbec3ea4c60bf90aeda4dac089e",
              "version_major": 2,
              "version_minor": 0
            },
            "text/plain": [
              "model-00002-of-00002.safetensors:   0%|          | 0.00/564M [00:00<?, ?B/s]"
            ]
          },
          "metadata": {},
          "output_type": "display_data"
        },
        {
          "data": {
            "application/vnd.jupyter.widget-view+json": {
              "model_id": "c51d0b6e4c3240738c2aa56905fdc8fe",
              "version_major": 2,
              "version_minor": 0
            },
            "text/plain": [
              "Loading checkpoint shards:   0%|          | 0/2 [00:00<?, ?it/s]"
            ]
          },
          "metadata": {},
          "output_type": "display_data"
        },
        {
          "data": {
            "application/vnd.jupyter.widget-view+json": {
              "model_id": "1bffad5f8082444a8c13576a250d7794",
              "version_major": 2,
              "version_minor": 0
            },
            "text/plain": [
              "generation_config.json:   0%|          | 0.00/124 [00:00<?, ?B/s]"
            ]
          },
          "metadata": {},
          "output_type": "display_data"
        },
        {
          "data": {
            "application/vnd.jupyter.widget-view+json": {
              "model_id": "8e2030255cab4bf181f5f1f83e07d596",
              "version_major": 2,
              "version_minor": 0
            },
            "text/plain": [
              "tokenizer_config.json:   0%|          | 0.00/7.34k [00:00<?, ?B/s]"
            ]
          },
          "metadata": {},
          "output_type": "display_data"
        },
        {
          "data": {
            "application/vnd.jupyter.widget-view+json": {
              "model_id": "2ff17ab018dc4fcc8d9179a6f52d3f01",
              "version_major": 2,
              "version_minor": 0
            },
            "text/plain": [
              "vocab.json:   0%|          | 0.00/798k [00:00<?, ?B/s]"
            ]
          },
          "metadata": {},
          "output_type": "display_data"
        },
        {
          "data": {
            "application/vnd.jupyter.widget-view+json": {
              "model_id": "b2169bf1795c4b2eafe9cfad5ab82bc0",
              "version_major": 2,
              "version_minor": 0
            },
            "text/plain": [
              "merges.txt:   0%|          | 0.00/456k [00:00<?, ?B/s]"
            ]
          },
          "metadata": {},
          "output_type": "display_data"
        },
        {
          "data": {
            "application/vnd.jupyter.widget-view+json": {
              "model_id": "5a707d4c767a41c3b2f99b60a0ee5151",
              "version_major": 2,
              "version_minor": 0
            },
            "text/plain": [
              "tokenizer.json:   0%|          | 0.00/2.11M [00:00<?, ?B/s]"
            ]
          },
          "metadata": {},
          "output_type": "display_data"
        },
        {
          "data": {
            "application/vnd.jupyter.widget-view+json": {
              "model_id": "f3694f606b2249ab9998a80b7df4e194",
              "version_major": 2,
              "version_minor": 0
            },
            "text/plain": [
              "added_tokens.json:   0%|          | 0.00/1.08k [00:00<?, ?B/s]"
            ]
          },
          "metadata": {},
          "output_type": "display_data"
        },
        {
          "data": {
            "application/vnd.jupyter.widget-view+json": {
              "model_id": "b0026b02f4fa4da0aca303b23900823d",
              "version_major": 2,
              "version_minor": 0
            },
            "text/plain": [
              "special_tokens_map.json:   0%|          | 0.00/99.0 [00:00<?, ?B/s]"
            ]
          },
          "metadata": {},
          "output_type": "display_data"
        },
        {
          "name": "stderr",
          "output_type": "stream",
          "text": [
            "Special tokens have been added in the vocabulary, make sure the associated word embeddings are fine-tuned or trained.\n"
          ]
        }
      ],
      "source": [
        "import torch\n",
        "from transformers import AutoModelForCausalLM, AutoTokenizer\n",
        "\n",
        "torch.set_default_device(\"cuda\")\n",
        "\n",
        "model = AutoModelForCausalLM.from_pretrained(\"microsoft/phi-2\", torch_dtype=\"auto\", trust_remote_code=True, output_hidden_states=True)\n",
        "tokenizer = AutoTokenizer.from_pretrained(\"microsoft/phi-2\", trust_remote_code=True)\n"
      ]
    },
    {
      "cell_type": "markdown",
      "metadata": {
        "id": "nWEKC5g9W770"
      },
      "source": [
        "### Indicating the bias"
      ]
    },
    {
      "cell_type": "markdown",
      "metadata": {
        "id": "fAV5RKMpXvi8"
      },
      "source": [
        "To measure the similarity between two words represented by their embeddings, we are going to use cosine similarity."
      ]
    },
    {
      "cell_type": "markdown",
      "metadata": {
        "id": "oZPIK03eYHez"
      },
      "source": [
        "Firstly, we define the list of words that are aimed to be gender-neutral."
      ]
    },
    {
      "cell_type": "code",
      "execution_count": 4,
      "metadata": {
        "colab": {
          "base_uri": "https://localhost:8080/"
        },
        "id": "3_8HAY4IYMqc",
        "outputId": "ae20ea78-bd0b-489f-f042-ed4c19d19f8d"
      },
      "outputs": [
        {
          "data": {
            "text/plain": [
              "['brain',\n",
              " 'super',\n",
              " 'mathematics',\n",
              " 'IT',\n",
              " 'master',\n",
              " 'chemistry',\n",
              " 'dancing',\n",
              " 'dance',\n",
              " 'dancer',\n",
              " 'athlete']"
            ]
          },
          "execution_count": 4,
          "metadata": {},
          "output_type": "execute_result"
        }
      ],
      "source": [
        "gender_neutral_words = []\n",
        "\n",
        "with open(\"neutral_words.csv\", newline='') as csvfile:\n",
        "    csv_reader = csv.reader(csvfile)\n",
        "    for row in csv_reader:\n",
        "      for word in row:\n",
        "        gender_neutral_words.append(word.strip())\n",
        "\n",
        "gender_neutral_words[:10]"
      ]
    },
    {
      "cell_type": "markdown",
      "metadata": {
        "id": "xwQIZTrMcFhg"
      },
      "source": [
        "Secondly, we want to be able to tokenize the words (meaning representing a word as a high-dimensional vector). The following function return embeddings of word. If word is encoded with multiple tokens than only encoding of first token will be returned. Firstly we will only limit with words that are encoded with single token, but further we will extend this idea to more general case, allowing multiple tokens."
      ]
    },
    {
      "cell_type": "code",
      "execution_count": 5,
      "metadata": {
        "id": "P1pZtuCtaDQf"
      },
      "outputs": [],
      "source": [
        "def get_embeddings(word: str):\n",
        "  '''\n",
        "  Get vector embedding of a specific word.\n",
        "  '''\n",
        "  tokenizer.add_special_tokens({'pad_token': '[PAD]'})\n",
        "  tokens = tokenizer(word, return_tensors=\"pt\", padding = True, return_attention_mask=False)\n",
        "  with torch.no_grad():\n",
        "      outputs = model(**tokens)\n",
        "  tokens_current = outputs.hidden_states[0].cpu()\n",
        "  tokens_current.shape\n",
        "  return tokens_current[0][0]"
      ]
    },
    {
      "cell_type": "markdown",
      "metadata": {
        "id": "Hi4jz865cOs7"
      },
      "source": [
        "For example:"
      ]
    },
    {
      "cell_type": "code",
      "execution_count": 6,
      "metadata": {
        "colab": {
          "base_uri": "https://localhost:8080/"
        },
        "id": "C3nwjsoOCh97",
        "outputId": "365553d4-c18d-4855-eaa9-943257414f97"
      },
      "outputs": [
        {
          "name": "stdout",
          "output_type": "stream",
          "text": [
            "tensor([-0.0034,  0.0041,  0.0026,  ...,  0.0219, -0.0308, -0.0073],\n",
            "       dtype=torch.float16)\n"
          ]
        }
      ],
      "source": [
        "print(get_embeddings(\"dog\"))"
      ]
    },
    {
      "cell_type": "code",
      "execution_count": 7,
      "metadata": {
        "colab": {
          "base_uri": "https://localhost:8080/"
        },
        "id": "iU9FyR3XCV6u",
        "outputId": "088824ae-40d1-40d1-9229-0f8ee0ace9df"
      },
      "outputs": [
        {
          "name": "stdout",
          "output_type": "stream",
          "text": [
            "tensor([[[ 0.0213,  0.0339, -0.0301,  ...,  0.0028, -0.0131, -0.0156]]],\n",
            "       dtype=torch.float16, grad_fn=<ToCopyBackward0>)\n"
          ]
        }
      ],
      "source": [
        "outputs = model(torch.tensor([[50000]]))\n",
        "tokens_current = outputs.hidden_states[0].cpu()\n",
        "print(tokens_current)"
      ]
    },
    {
      "cell_type": "markdown",
      "metadata": {
        "id": "yvwtO-n1X6xH"
      },
      "source": [
        "Cosine similarity computes the cosine of the angle between the vectors of the two words in the embedding space. The formula for the cosine between two vectors is defined as:\n",
        "\n",
        "$$ \\cos(\\vec{u}, \\vec{v}) = \\frac{ \\langle \\vec{u}, \\vec{v} ⟩}{\\lVert \\vec{u} \\rVert \\lVert \\vec{v} \\rVert}, $$\n",
        "\n",
        "where $\\vec{u}\\vec{v}$ denotes the inner product of the vectors $\\vec{u}$ and $\\vec{v}$ and $\\lVert \\vec{u} \\rVert$, $\\lVert \\vec{v} \\rVert$ denote the norms of the vectors $\\vec{u} $ and $\\vec{v} $ respectively.\n",
        "\n",
        "It quantifies the similarity in direction between the vectors, with a value close to $1$ indicating high similarity and a value close to $-1$ indicating dissimilarity. However, it does not capture the magnitudes of the vectors.  In the context of ensuring fairness or lack of bias, we aim for equal cosine similarities between a given word and two gender-specific terms, typically male and female. For instance, if we consider the word 'business' as gender-neutral, then the cosine similarity between $\\overrightarrow{business}$ and $\\overrightarrow{male}$ should ideally be equal to the cosine similarity between $\\overrightarrow{business}$ and $\\overrightarrow{female}$, or at least very close to each other. This ensures that the representation of the word 'business' in the embedding space exhibits neutrality with respect to gender associations.\n",
        "\n",
        "As a metrics of the biasness we chose the absolute difference between the cosine similarities of the word and two gender-specific words. For instance, for word $\\vec{w}$:\n",
        "\n",
        "$$\\mbox{difference} = |cos(\\overrightarrow{w}, \\overrightarrow{\\mbox{he}}) - cos(\\overrightarrow{w}, \\overrightarrow{\\mbox{she}})|$$\n",
        "The smaller is this difference, the less bias the particular word has.\n",
        "\n",
        "It is important to note that there is no ideal way to describe biasness. Cosine similarity is just one of the metrics that is usually used."
      ]
    },
    {
      "cell_type": "code",
      "execution_count": 8,
      "metadata": {
        "id": "8LDdZ8kMXQdT"
      },
      "outputs": [],
      "source": [
        "def cosine_similarity(u, v):\n",
        "  '''\n",
        "  Calculates the cosine similarity bettwen two vectors.\n",
        "  It is the inner product of two vectors divided by product of their norms.\n",
        "  '''\n",
        "  return np.dot(u, v) / (np.linalg.norm(u) * np.linalg.norm(v))\n",
        "\n",
        "def calculate_gender_bias(neutral_word, male_gender, female_gender):\n",
        "  '''\n",
        "  Calculates the bias. If the sign is positive - the word is biased in male direction; if negative - in female direction.\n",
        "  '''\n",
        "  return cosine_similarity(neutral_word, male_gender) - cosine_similarity(neutral_word, female_gender)\n",
        "\n",
        "def calculate_difference(neutral_word, male_gender, female_gender):\n",
        "  '''\n",
        "  Calculates the absolute difference between cosine similarities of two vectors with other.\n",
        "  '''\n",
        "  return abs(calculate_gender_bias(neutral_word, male_gender, female_gender))"
      ]
    },
    {
      "cell_type": "markdown",
      "metadata": {
        "id": "2LFUiuq-YAoj"
      },
      "source": [
        "### Define gender-specific words"
      ]
    },
    {
      "cell_type": "markdown",
      "metadata": {
        "id": "4daEfqTIHiMA"
      },
      "source": [
        "To define the gender-specific subspace $G$ we need to define the pairs of gender-specific words:"
      ]
    },
    {
      "cell_type": "code",
      "execution_count": 9,
      "metadata": {
        "id": "IecQT3GIOXl-"
      },
      "outputs": [],
      "source": [
        "gender_words_female = []\n",
        "gender_words_male = []\n",
        "\n",
        "with open(\"female_words.csv\", newline='') as csvfile:\n",
        "    csv_reader = csv.reader(csvfile)\n",
        "    for row in csv_reader:\n",
        "      for word in row:\n",
        "        gender_words_female.append(word.strip())\n",
        "\n",
        "with open(\"male_words.csv\", newline='') as csvfile:\n",
        "    csv_reader = csv.reader(csvfile)\n",
        "    for row in csv_reader:\n",
        "      for word in row:\n",
        "        gender_words_male.append(word.strip())\n",
        "\n",
        "tokens_list = []\n",
        "tokenizer.pad_token = tokenizer.eos_token\n",
        "for index, pair in enumerate(zip(gender_words_female, gender_words_male)):\n",
        "  embeddings = []\n",
        "  tokens = tokenizer(pair, return_tensors=\"pt\", padding = True, return_attention_mask=False)\n",
        "  with torch.no_grad():\n",
        "      outputs = model(**tokens)\n",
        "  tokens_current = outputs.hidden_states[0].cpu()\n",
        "  if tokens_current.shape == torch.Size([2, 1, 2560]):\n",
        "    tokens_list.append(pair)"
      ]
    },
    {
      "cell_type": "markdown",
      "metadata": {
        "id": "h2aNULtHgj3u"
      },
      "source": [
        "Then, we choose only words that are represented by a single token."
      ]
    },
    {
      "cell_type": "code",
      "execution_count": 10,
      "metadata": {
        "id": "8zZ3CTF-QWpO"
      },
      "outputs": [],
      "source": [
        "tokens = tokenizer(\"mr\", return_tensors=\"pt\", padding = True, return_attention_mask=False)\n",
        "with torch.no_grad():\n",
        "    outputs = model(**tokens)\n",
        "tokens_current = outputs.hidden_states[0].cpu()"
      ]
    },
    {
      "cell_type": "code",
      "execution_count": 11,
      "metadata": {
        "colab": {
          "base_uri": "https://localhost:8080/"
        },
        "id": "2-qqL8sUMTJc",
        "outputId": "94db0043-832f-4911-8e3f-5106742dd15f"
      },
      "outputs": [
        {
          "data": {
            "text/plain": [
              "{('aunt', 'uncle'),\n",
              " ('daughter', 'son'),\n",
              " ('female', 'male'),\n",
              " ('girl', 'boy'),\n",
              " ('her', 'his'),\n",
              " ('lass', 'lad'),\n",
              " ('miss', 'mr'),\n",
              " ('mom', 'dad'),\n",
              " ('mother', 'father'),\n",
              " ('she', 'he'),\n",
              " ('wife', 'husband'),\n",
              " ('woman', 'man'),\n",
              " ('women', 'men')}"
            ]
          },
          "execution_count": 11,
          "metadata": {},
          "output_type": "execute_result"
        }
      ],
      "source": [
        "set(tokens_list)"
      ]
    },
    {
      "cell_type": "markdown",
      "metadata": {
        "id": "4e0Y26CsH7Yf"
      },
      "source": [
        "As we can see, we defined the $13$ pairs of gender-specific words."
      ]
    },
    {
      "cell_type": "markdown",
      "metadata": {
        "id": "Q06EzSfoH0lm"
      },
      "source": [
        "### Form differences of gender-specific words"
      ]
    },
    {
      "cell_type": "markdown",
      "metadata": {
        "id": "JuagKjp8IcvO"
      },
      "source": [
        "So we need to form the vectors as differences of the above vectors, because the differences define the gender subset."
      ]
    },
    {
      "cell_type": "code",
      "execution_count": 12,
      "metadata": {
        "id": "5-DfB8b_KSSa"
      },
      "outputs": [],
      "source": [
        "words = list(set(tokens_list))\n",
        "\n",
        "difference_vectors = []\n",
        "for word_female, word_male in words:\n",
        "  differece = get_embeddings(word_female) - get_embeddings(word_male)\n",
        "  difference_vectors.append(differece)\n",
        "\n",
        "\n",
        "difference_vectors = np.array(difference_vectors)\n",
        "difference_vectors = difference_vectors.astype(np.float32)"
      ]
    },
    {
      "cell_type": "markdown",
      "metadata": {
        "id": "e6zhBXEjIxRS"
      },
      "source": [
        "Now we have $13$ vectors that define the gender subset $G$."
      ]
    },
    {
      "cell_type": "markdown",
      "metadata": {
        "id": "IqpWveNrIIqc"
      },
      "source": [
        "### Dimensionality reduction"
      ]
    },
    {
      "cell_type": "markdown",
      "metadata": {
        "id": "0L1BcYaMI-xd"
      },
      "source": [
        "In order to word with less than $13$ vectors that define $G$, we use the principal component analysis to find the $k$ most significant vectors. Also, this vectors will be orthogonal. This is needed to capture more generalized difference between genders.\n",
        "\n",
        "PCA analyzes the variance of the data in its original basis and aims  identify the directions in which the variance is maximal. Subsequently, PCA utilizes first $k$ significant directions to define the new basis.\n",
        "\n",
        "Let difference vectors be $v_1, ..., v_n$.\n",
        "\n",
        "To perform PCA, we need to construct a matrix taking vectors $v_1, ..., v_n$ as rows:\n",
        "\n",
        "$$X = \\begin{bmatrix}\n",
        "    v_{1}\\\\\n",
        "    v_{2}\\\\\n",
        "    \\cdots\\\\\n",
        "    v_{13}  \n",
        " \\end{bmatrix}$$\n",
        "\n",
        "\n",
        " Then, we need to center the matrix $X$ by subtracting its mean from it:\n",
        "\n",
        "$$X_{i, j} = X_{i, j} - \\bar{X_j},$$\n",
        "\n",
        " where $X_{i, j}$ denotes the $(i, j)$-th element of $X$ and $\\bar{X_j}$ denotes the mean value of the variable $X_j$.\n",
        "\n",
        "Now we need to construct the covariance matrix of matrix $X$, which is defined as\n",
        "\n",
        "\n",
        "$$C = \\begin{bmatrix}\n",
        "    \\mbox{Var}(X_1) & \\mbox{Cov}(X_1, X_2) & ... & \\mbox{Cov}(X_1, X_n) \\\\\n",
        "    \\mbox{Cov}(X_2, X_1) & \\mbox{Var}(X_2) & ... & \\mbox{Cov}(X_1, X_n) \\\\\n",
        "    \\cdots & \\cdots & \\cdots & \\cdots\\\\\n",
        "    \\mbox{Cov}(X_n, X_1) & \\mbox{Cov}(X_n, X_2) & ... & \\mbox{Var}(X_n)\n",
        " \\end{bmatrix}$$\n",
        "In our case:\n",
        " $$C = XX^T = \\begin{bmatrix}\n",
        "    v_1v_1^T & v_1v_2^T & ... & v_1v_n^T \\\\\n",
        "    v_2v_1^T & v_2v_2^T & ... & v_2v_n^T \\\\\n",
        "    \\cdots & \\cdots & \\cdots & \\cdots\\\\\n",
        "    v_nv_1^T & v_nv_2^T & ... & v_nv_n^T\n",
        " \\end{bmatrix}$$\n",
        "\n",
        "Note that this matrix is symmetric since $\\mbox{Cov}(X_i, X_ j) = \\mbox{Cov}(X_j, X_i)$.\n",
        "\n",
        "Next, we proceed to find the eigenvalues and eigenvectors of the matrix $C$.\n",
        "Suppose the $\\lambda_1, \\lambda_2, ..., \\lambda_n$ are eigenvalues of the matrix $C$, sorted in the descending order. Then the first $k$ eigenvectors are considered to be principal eigenvectors and the $\\frac{\\lambda_i}{\\sum{\\lambda_j}}$ is the proportion of variance explained by the $i$-th eigenvector.\n"
      ]
    },
    {
      "cell_type": "code",
      "execution_count": 13,
      "metadata": {
        "id": "GpZLfApIuUV2"
      },
      "outputs": [],
      "source": [
        "n, p =  2560, 13\n",
        "X = difference_vectors.T\n",
        "X -= np.mean(X, axis=0)\n",
        "\n",
        "C = np.cov(X, rowvar=False)\n",
        "l, principal_axes = la.eig(C)\n",
        "\n",
        "idx = l.argsort()[::-1]\n",
        "l, principal_axes = l[idx], principal_axes[:, idx]\n",
        "principal_components = X.dot(principal_axes)"
      ]
    },
    {
      "cell_type": "markdown",
      "metadata": {
        "id": "XpccdvApLO9d"
      },
      "source": [
        "Now, our task is to determine the appropriate value for $k$. One common method used for this purpose is the Elbow method. It aims to plot the cumulative explained variance agains the number of components."
      ]
    },
    {
      "cell_type": "code",
      "execution_count": 14,
      "metadata": {
        "colab": {
          "base_uri": "https://localhost:8080/",
          "height": 472
        },
        "id": "lnHPOqR9UbBr",
        "outputId": "0c82db94-894e-41cf-9ba7-7d1cc82f5d84"
      },
      "outputs": [
        {
          "data": {
            "image/png": "[encoded data removed]",
            "text/plain": [
              "<Figure size 640x480 with 1 Axes>"
            ]
          },
          "metadata": {},
          "output_type": "display_data"
        }
      ],
      "source": [
        "eigenvalues, eigenvectors = la.eigh(C)\n",
        "sorted_indices = np.argsort(eigenvalues)[::-1]\n",
        "sorted_eigenvalues = eigenvalues[sorted_indices]\n",
        "\n",
        "eigenvalue_sum = np.sum(sorted_eigenvalues)\n",
        "\n",
        "normalized_eigenvalues = sorted_eigenvalues / eigenvalue_sum\n",
        "\n",
        "plt.plot(normalized_eigenvalues, marker='o')\n",
        "plt.xlabel('Index')\n",
        "plt.ylabel('Eigenvalue / Sum of Eigenvalues')\n",
        "plt.title('Eigenvalues of Symmetric Matrix C (Normalized)')\n",
        "plt.grid(True)\n",
        "\n",
        "plt.axhline(y=normalized_eigenvalues[7], color='r', linestyle='--', label='Elbow')\n",
        "\n",
        "plt.legend()\n",
        "plt.show()\n"
      ]
    },
    {
      "cell_type": "markdown",
      "metadata": {
        "id": "mjwV50c6LiI5"
      },
      "source": [
        "Once $k$ reaches 7, it becomes apparent from the graph that additional reductions do not result in a significant decrease. Therefore, we have opted for $k=7$ and have extracted the first 7 eigenvectors for further analysis to serve as the basis vectors for the space $G$. These eigenvectors are denoted as $g_1, ..., g_7$. Being eigenvectors of a symmetric matrix, they are pairwise orthogonal."
      ]
    },
    {
      "cell_type": "code",
      "execution_count": 15,
      "metadata": {
        "id": "Hmcx1U40K4MS"
      },
      "outputs": [],
      "source": [
        "k = 7\n",
        "PCA_k = principal_components[:, 0:k]"
      ]
    },
    {
      "cell_type": "markdown",
      "metadata": {
        "id": "ThdiInOjIZKU"
      },
      "source": [
        "### Soft debiasing"
      ]
    },
    {
      "cell_type": "markdown",
      "metadata": {
        "id": "Ca4UeKQtcATf"
      },
      "source": [
        "To neutralize the bias component of a given word vector $\\vec{w}$, we aim to project this vector onto the gender-neutral subspace $N$. Given that $N + G = \\mathbb{R}^d$, the spaces $G$ and $N$ are orthogonal. Consequently, every vector $\\vec{w} \\in \\mathbb{R}^d$ can be decomposed as:\n",
        "\n",
        "$$\\vec{w} = \\vec{w_{G}} + \\vec{w_{N}},$$\n",
        "\n",
        "where $\\vec{w_{N}}$ represents the projection of $\\vec{w}$ onto the affine space $N$, and $\\vec{w_{G}}$ signifies the projection onto $G$.\n",
        "\n",
        "Therefore,\n",
        "$$\\vec{w_{N}} = \\vec{w} - \\vec{w_{G}}$$\n",
        "\n",
        "Given that the basis vectors of $G$ are orthogonal, we can obtain $\\vec{w_{G}}$ as the sum of the projections onto these basis vectors:\n",
        "\n",
        "$$\\vec{w_{G}} = \\sum_{i=1}^{7}{\\vec{w_{g_i}}}$$\n",
        "where $\\vec{w_{g_i}}$ denotes the projection of $\\vec{w}$ onto the basis vector $g_i$.\n",
        "The projection matrix onto the linear span of $g_i$ is defined as:\n",
        "\n",
        "$$P_{g_i} = \\frac{g_ig_i^T}{g_i^Tg_i}$$\n",
        "\n",
        "So the overall projection is calculated as follows:\n",
        "\n",
        "$$\\vec{w_{G}} = \\sum_{i=1}^{7}{P_{g_i}g_i} = \\sum_{i=1}^{7}{\\frac{g_ig_i^T}{g_i^Tg_i}g_i}$$"
      ]
    },
    {
      "cell_type": "markdown",
      "metadata": {
        "id": "XDRt9aNo9f_c"
      },
      "source": [
        "Here we find projectors for each vector."
      ]
    },
    {
      "cell_type": "code",
      "execution_count": 16,
      "metadata": {
        "id": "JSIvD_qSGV2h"
      },
      "outputs": [],
      "source": [
        "projectors = []\n",
        "for i in range(PCA_k.shape[-1]):\n",
        "  a = PCA_k[:, i]\n",
        "  projectors.append(np.outer(a, a) / np.inner(a, a))"
      ]
    },
    {
      "cell_type": "markdown",
      "metadata": {
        "id": "gOrzPqIZOHVI"
      },
      "source": [
        "### Example of debiasing"
      ]
    },
    {
      "cell_type": "markdown",
      "metadata": {
        "id": "ZeMLhGAwd_6H"
      },
      "source": [
        "The debiased vector looks as follows:\n",
        "\n",
        "$$\\vec{w_{N}} = \\vec{w} - \\sum_{i=1}^{7}{P_{g_i}g_i} = \\vec{w} - \\sum_{i=1}^{7}{\\frac{g_ig_i^T}{g_i^Tg_i}g_i}$$"
      ]
    },
    {
      "cell_type": "code",
      "execution_count": 17,
      "metadata": {
        "id": "8MN2UAgriGMR"
      },
      "outputs": [],
      "source": [
        "def debias_word(word):\n",
        "  '''\n",
        "  Debiasing the word by taking projection.\n",
        "  '''\n",
        "  projection = projectors[0] @ word\n",
        "  for i in range(1, 7):\n",
        "    projection += projectors[i] @ word\n",
        "  return word - projection"
      ]
    },
    {
      "cell_type": "code",
      "execution_count": 18,
      "metadata": {
        "id": "go_ldP6Umz7B"
      },
      "outputs": [],
      "source": [
        "football = get_embeddings(\"good\").numpy()\n",
        "\n",
        "male = get_embeddings(words[2][0]).numpy()\n",
        "female = get_embeddings(words[2][1]).numpy()"
      ]
    },
    {
      "cell_type": "code",
      "execution_count": 19,
      "metadata": {
        "id": "J-zzQ0bAJfls"
      },
      "outputs": [],
      "source": [
        "unbiased = debias_word(football)"
      ]
    },
    {
      "cell_type": "markdown",
      "metadata": {
        "id": "Sq4p-YYuhV1u"
      },
      "source": [
        "Cosine similarities before the debias:"
      ]
    },
    {
      "cell_type": "code",
      "execution_count": 20,
      "metadata": {
        "colab": {
          "base_uri": "https://localhost:8080/"
        },
        "id": "ZxDwb4jSLtFE",
        "outputId": "21e4eec5-3fc8-4ef3-a168-066fbacbbeef"
      },
      "outputs": [
        {
          "name": "stdout",
          "output_type": "stream",
          "text": [
            "0.0349\n",
            "0.02026\n"
          ]
        }
      ],
      "source": [
        "print(cosine_similarity(football, male))\n",
        "print(cosine_similarity(football, female))"
      ]
    },
    {
      "cell_type": "markdown",
      "metadata": {
        "id": "2jHhBZjChZIV"
      },
      "source": [
        "Cosine similarities after the debias:"
      ]
    },
    {
      "cell_type": "code",
      "execution_count": 21,
      "metadata": {
        "colab": {
          "base_uri": "https://localhost:8080/"
        },
        "id": "EP1NZL5xL0bh",
        "outputId": "f3b4ef20-044b-40b3-a7dd-032418d201b2"
      },
      "outputs": [
        {
          "name": "stdout",
          "output_type": "stream",
          "text": [
            "0.027621534900788815\n",
            "0.02322177593323389\n"
          ]
        }
      ],
      "source": [
        "print(cosine_similarity(unbiased, male))\n",
        "print(cosine_similarity(unbiased, female))"
      ]
    },
    {
      "cell_type": "code",
      "execution_count": 22,
      "metadata": {
        "colab": {
          "base_uri": "https://localhost:8080/"
        },
        "id": "U5NVLODeL58O",
        "outputId": "dc72070c-1d28-4f33-d4c7-a98f6470bbb2"
      },
      "outputs": [
        {
          "name": "stdout",
          "output_type": "stream",
          "text": [
            "Difference before: 0.01465\n",
            "Difference after: 0.004399758967554925\n"
          ]
        }
      ],
      "source": [
        "print('Difference before:', calculate_difference(football, male, female))\n",
        "print('Difference after:', calculate_difference(unbiased, male, female))"
      ]
    },
    {
      "cell_type": "markdown",
      "metadata": {
        "id": "xGfGQTKq9zLw"
      },
      "source": [
        "As we can see difference between cosine similarity greatly reduced."
      ]
    },
    {
      "cell_type": "markdown",
      "metadata": {
        "id": "0vqqAyzDOm6G"
      },
      "source": [
        "### Debiasing list of words"
      ]
    },
    {
      "cell_type": "markdown",
      "metadata": {
        "id": "Ovui0RZi-bAJ"
      },
      "source": [
        "Now we will debias list of biased words."
      ]
    },
    {
      "cell_type": "code",
      "execution_count": 23,
      "metadata": {
        "colab": {
          "base_uri": "https://localhost:8080/"
        },
        "id": "5V3gCDwEayGf",
        "outputId": "7c934b81-e823-4754-8451-190d5190e035"
      },
      "outputs": [
        {
          "name": "stdout",
          "output_type": "stream",
          "text": [
            "[('passenger', 0.09955), ('county', 0.09814), ('recipient', 0.0914), ('learner', 0.087), ('advocate', 0.08514), ('era', 0.08307), ('era', 0.08307), ('fraternity', 0.08093), ('lender', 0.08026), ('occupant', 0.0786), ('occupier', 0.0786), ('occupant', 0.0786), ('occupier', 0.0786), ('operator', 0.07385), ('dancing', 0.0736), ('dance', 0.0736), ('dancer', 0.0736), ('dweller', 0.0736), ('dweller', 0.0736), ('doodad', 0.0736)]\n"
          ]
        }
      ],
      "source": [
        "cosine_similarities = []\n",
        "\n",
        "for word_neutral in gender_neutral_words:\n",
        "  embedding = get_embeddings(word_neutral)\n",
        "  cosine_similarities.append((word_neutral, calculate_difference(embedding, male, female)))\n",
        "\n",
        "sorted_cosine_similarities = sorted(cosine_similarities, key=lambda x: x[1], reverse=True)\n",
        "\n",
        "print(sorted_cosine_similarities[:20])"
      ]
    },
    {
      "cell_type": "code",
      "execution_count": 24,
      "metadata": {
        "colab": {
          "base_uri": "https://localhost:8080/"
        },
        "id": "wbhY9LFXszpe",
        "outputId": "25661040-e496-4f8c-84a0-d47268949e8e"
      },
      "outputs": [
        {
          "data": {
            "text/plain": [
              "429"
            ]
          },
          "execution_count": 24,
          "metadata": {},
          "output_type": "execute_result"
        }
      ],
      "source": [
        "len(gender_neutral_words)"
      ]
    },
    {
      "cell_type": "code",
      "execution_count": 25,
      "metadata": {
        "colab": {
          "base_uri": "https://localhost:8080/"
        },
        "id": "IKlbdqkjOp3g",
        "outputId": "a95acb37-33e7-4e68-a94d-668fcee2b006"
      },
      "outputs": [
        {
          "name": "stdout",
          "output_type": "stream",
          "text": [
            "Before: [0.0394, 0.02985, 0.02005, 0.163, 0.02419, 0.02621, 0.1254, 0.1254, 0.1254, 0.0939, 0.0010605, 0.0084, 0.04654, 0.0206, 0.0626, 0.0372, 0.008965, 0.013245, 0.01236, 0.02142, 0.1404, 0.00598, 0.06683, 0.01352, 0.05386, 0.00454, 0.01822, 0.05295, 0.10345, 0.04004, 0.02376, 0.1562, 0.00763, 0.169, 0.03833, 0.0265, 0.02933, 0.0435, 0.0204, 0.002075, 0.00899, 0.03284, 0.04327, 0.04575, 0.02055, 0.1506, 0.1045, 0.01439, 0.04092, 0.02856]\n",
            "After: [0.006627842734166271, 0.006931869223732939, 0.003318229461766343, 0.007552872863473559, 0.005682225962539185, 0.006051123121759375, 0.009082224916057993, 0.009082224916057993, 0.009082224916057993, 0.0061833367504733686, 4.799080588267779e-05, 0.004190502771110266, 0.007604939096489856, 0.007583923057516496, 0.006967585096121359, 0.006469283159354509, 0.002911367314238203, 0.010366411262282112, 0.005365074173747677, 0.011596515765215872, 0.013250024039405728, 0.0035378765905013272, 0.008255401717643093, 0.002300409441365154, 0.0012252852747764928, 0.0007191406687588348, 0.0023223487606304806, 0.006509284277244329, 0.006052251569614966, 0.00272339756147026, 0.0038082251761907913, 0.013835751726274312, 0.012224735954292368, 0.02146809172711872, 0.002796488483460296, 0.003987409829949728, 0.006424242589360113, 0.004822865039090744, 0.0028155345019251696, 0.0036509499366381877, 0.004309083033599191, 0.0019868476947331013, 0.005196944205070622, 0.005348532898620875, 0.0010465701997862016, 0.017162079394217412, 0.008013118662200475, 0.006177590855435039, 0.0025018684796694335, 0.011656685599105331]\n"
          ]
        }
      ],
      "source": [
        "differences_before = []\n",
        "differences_after = []\n",
        "unbiased_list = []\n",
        "he = get_embeddings('he').numpy()\n",
        "she = get_embeddings('she').numpy()\n",
        "\n",
        "def soft_debias(word):\n",
        "  word = get_embeddings(word).numpy()\n",
        "  differences_before.append(calculate_difference(word, he, she))\n",
        "  projection = (projectors[0] @ word + projectors[1] @ word+ projectors[2] @ word +\n",
        "          projectors[3] @ word+ projectors[4] @ word +\n",
        "          projectors[5] @ word+ projectors[6] @ word)\n",
        "  unbiased = word - projection\n",
        "\n",
        "  return unbiased\n",
        "\n",
        "for word in gender_neutral_words[:50]:\n",
        "\n",
        "  debiased = soft_debias(word)\n",
        "  unbiased_list.append(debiased)\n",
        "  differences_after.append(calculate_difference(debiased, he, she))\n",
        "\n",
        "print(\"Before:\", differences_before)\n",
        "print(\"After:\", differences_after)"
      ]
    },
    {
      "cell_type": "code",
      "execution_count": 26,
      "metadata": {
        "colab": {
          "base_uri": "https://localhost:8080/",
          "height": 528
        },
        "id": "BZmREM_gPGCx",
        "outputId": "ed50b870-d1b0-41cd-d6d9-53fbb58ca56f"
      },
      "outputs": [
        {
          "data": {
            "image/png": "[encoded data removed]",
            "text/plain": [
              "<Figure size 1000x600 with 1 Axes>"
            ]
          },
          "metadata": {},
          "output_type": "display_data"
        }
      ],
      "source": [
        "words_and_diffs = list(zip(gender_neutral_words, differences_before, differences_after))\n",
        "sorted_words_and_diffs = sorted(words_and_diffs, key=lambda x: x[2])\n",
        "\n",
        "gender_neutral_words_sorted, differences_before_sorted, differences_after_sorted = zip(*sorted_words_and_diffs)\n",
        "\n",
        "plt.figure(figsize=(10, 6))\n",
        "plt.scatter(range(len(gender_neutral_words_sorted)), differences_before_sorted, label='Before Debiasing', color='blue')\n",
        "plt.scatter(range(len(gender_neutral_words_sorted)), differences_after_sorted, label='After Debiasing', color='red')\n",
        "plt.xlabel('Word Index')\n",
        "plt.ylabel('Gender Bias Difference')\n",
        "plt.title('Gender Bias Before and After Debiasing')\n",
        "plt.legend()\n",
        "plt.xticks(range(len(gender_neutral_words_sorted)), gender_neutral_words_sorted, rotation=45, ha='right')\n",
        "plt.tight_layout()\n",
        "plt.show()"
      ]
    },
    {
      "cell_type": "markdown",
      "metadata": {
        "id": "F-NFYI1PD0Mh"
      },
      "source": []
    },
    {
      "cell_type": "markdown",
      "metadata": {
        "id": "_rOvfcj_tsKT"
      },
      "source": [
        "### Hard debiasing"
      ]
    },
    {
      "cell_type": "markdown",
      "metadata": {
        "id": "RG2nXb8FocV9"
      },
      "source": [
        "After soft debiasing a vector $\\vec{w}$, we have a projection of this vector onto the gender-neutral subspace $N$. That mean that the the projection of this vector onto gender space is $0$. We have removed bias from word itself, but there is one more step to make it better. Our gender defining words not necessarily are equally distant. In order to make that a case, we use equalization that will make our gender defining words equally distant to all words $\\vec{w_{N}}$. We don't have to recalculate distance for every word, as in subspace $N^\\perp$  our vectors 0.\n",
        "$$\\mu := \\frac{\\sum_{w \\in E} W}{E}$$\n",
        "Where $\\mu$ is average of the equalization set $E$.\n",
        "In this formula we take average of every equalization set (in our case pair).\n",
        "$$v := \\mu - \\mu_B $$\n",
        "Where $\\mu_B$ is projection of $\\mu$ onto gender defining subspace.\n",
        "Then for every $\\vec{w}$\n",
        "$$\\vec{w} := \\nu + \\sqrt{1 - ||\\nu||^2} \\frac{\\vec{w}_B - \\mu_B}{||\\vec{w}_B - \\mu_B||}$$\n",
        "Where $\\vec{w}_B$ projection on gender defining subspaces.\n",
        "This operations will make our gender pair vectors equally distant from all words that was changed using soft debias."
      ]
    },
    {
      "cell_type": "code",
      "execution_count": 27,
      "metadata": {
        "id": "Mr2LHJutUebo"
      },
      "outputs": [],
      "source": [
        "gender_defining = []\n",
        "\n",
        "def hard_debias(pair):\n",
        "\n",
        "  embeddings = get_embeddings(pair[0]).numpy(), get_embeddings(pair[1]).numpy()\n",
        "  mean = np.mean(embeddings, axis=0)\n",
        "  v = mean - (projectors[0] @ mean + projectors[1] @ mean)\n",
        "  v = v / np.linalg.norm(v)\n",
        "  proj_1 = projectors[0] @ embeddings[0] + projectors[1] @ embeddings[0] - (projectors[0] @ mean + projectors[1] @ mean)\n",
        "  proj_2 = projectors[0] @ embeddings[1] + projectors[1] @ embeddings[1] - (projectors[0] @ mean + projectors[1] @ mean)\n",
        "  w_1 = v + (np.sqrt(1 - (np.linalg.norm(v))**2) * proj_1) / np.linalg.norm(proj_1)\n",
        "  w_2 = v + (np.sqrt(1 - (np.linalg.norm(v))**2) * proj_1) / np.linalg.norm(proj_1)\n",
        "  return (w_1, w_2)\n",
        "for pair in words:\n",
        "  debiased = hard_debias(pair)\n",
        "  gender_defining.append(debiased)\n"
      ]
    },
    {
      "cell_type": "code",
      "execution_count": 28,
      "metadata": {
        "colab": {
          "base_uri": "https://localhost:8080/"
        },
        "id": "F2P3OVHJXeOe",
        "outputId": "2848b36f-43a1-451e-814d-cd9f7e8f0a85"
      },
      "outputs": [
        {
          "name": "stdout",
          "output_type": "stream",
          "text": [
            "After: [0.0, 0.0, 0.0, 0.0, 0.0, 0.0, 0.0, 0.0, 0.0, 0.0, 0.0, 0.0, 0.0, 0.0, 0.0, 0.0, 0.0, 0.0, 0.0, 0.0, 0.0, 0.0, 0.0, 0.0, 0.0, 0.0, 0.0, 0.0, 0.0, 0.0, 0.0, 0.0, 0.0, 0.0, 0.0, 0.0, 0.0, 0.0, 0.0, 0.0, 0.0, 0.0, 0.0, 0.0, 0.0, 0.0, 0.0, 0.0, 0.0, 0.0]\n"
          ]
        }
      ],
      "source": [
        "differences_after_new = []\n",
        "\n",
        "\n",
        "he = gender_defining[2][0]\n",
        "she = gender_defining[2][1]\n",
        "\n",
        "for word_unbiased in unbiased_list:\n",
        "  differences_after_new.append(calculate_difference(word_unbiased, he, she))\n",
        "\n",
        "print(\"After:\", differences_after_new)"
      ]
    },
    {
      "cell_type": "code",
      "execution_count": 29,
      "metadata": {
        "colab": {
          "base_uri": "https://localhost:8080/",
          "height": 528
        },
        "id": "dZnQzgZ4UvPg",
        "outputId": "b6b58903-a4d0-49b0-894b-03b5b8e2beaa"
      },
      "outputs": [
        {
          "data": {
            "image/png": "[encoded data removed]",
            "text/plain": [
              "<Figure size 1000x600 with 1 Axes>"
            ]
          },
          "metadata": {},
          "output_type": "display_data"
        }
      ],
      "source": [
        "words_and_diffs = list(zip(gender_neutral_words, differences_before, differences_after_new))\n",
        "sorted_words_and_diffs = sorted(words_and_diffs, key=lambda x: x[2])\n",
        "\n",
        "gender_neutral_words_sorted, differences_before_sorted, differences_after_sorted = zip(*sorted_words_and_diffs)\n",
        "\n",
        "plt.figure(figsize=(10, 6))\n",
        "plt.scatter(range(len(gender_neutral_words_sorted)), differences_before_sorted, label='Before Debiasing', color='blue')\n",
        "plt.scatter(range(len(gender_neutral_words_sorted)), differences_after_sorted, label='After Debiasing', color='red')\n",
        "plt.xlabel('Word Name')\n",
        "plt.ylabel('Gender Bias Difference')\n",
        "plt.title('Gender Bias Before and After Debiasing')\n",
        "plt.legend()\n",
        "plt.xticks(range(len(gender_neutral_words_sorted)), gender_neutral_words_sorted, rotation=45, ha='right')\n",
        "plt.tight_layout()\n",
        "plt.show()"
      ]
    },
    {
      "cell_type": "markdown",
      "metadata": {
        "id": "1KkTEA_kE9Nf"
      },
      "source": [
        "As we can see difference between cosine similarities now is totally zero."
      ]
    },
    {
      "cell_type": "markdown",
      "metadata": {
        "id": "y6jaD4QZndly"
      },
      "source": [
        "### WEAT test"
      ]
    },
    {
      "cell_type": "markdown",
      "metadata": {
        "id": "XuNxrR4QFXar"
      },
      "source": [
        "WEAT, presents a robust evaluation framework to measure the extent to which a model links sets of target words, such as ``business``, ``football``, ``science``, etc., with two distinct sets of attribute words, typically related to gender, such as ``male`` and ``female``.\n",
        "\n",
        "Central to the WEAT test are two key hypotheses:\n",
        "\n",
        "Null Hypothesis ($H_0$): There exists no significant difference between the two sets of target words concerning their relative associations with the sets of attribute words.\n",
        "\n",
        "Alternative Hypothesis ($H_1$): There exists a difference between the two sets of target words.\n",
        "\n",
        "The test statistic is computed by normalizing the mean difference between the associations of the target sets with the attribute sets. This statistic provides a quantified measure of the separation between the distributions of associations."
      ]
    },
    {
      "cell_type": "code",
      "execution_count": 465,
      "metadata": {
        "id": "aa2pEpyQqNBx"
      },
      "outputs": [],
      "source": [
        "X = [\"bad\", \"work\", \"rich\", \"football\", \"wise\"]\n",
        "Y = [\"leader\", \"good\", \"home\", \"poor\", \"smart\"]\n",
        "A = ['he', \"male\", \"man\"]\n",
        "B = ['she', \"female\", \"woman\"]"
      ]
    },
    {
      "cell_type": "code",
      "execution_count": 466,
      "metadata": {
        "id": "rfwZPtoZqUOn"
      },
      "outputs": [],
      "source": [
        "def cosine_similarity(vec1, vec2):\n",
        "    \"\"\"\n",
        "    Compute cosine similarity between two vectors.\n",
        "    \"\"\"\n",
        "    dot_product = np.dot(vec1, vec2)\n",
        "    norm_vec1 = np.linalg.norm(vec1)\n",
        "    norm_vec2 = np.linalg.norm(vec2)\n",
        "    similarity = dot_product / (norm_vec1 * norm_vec2 + 0.00001)\n",
        "    return similarity"
      ]
    },
    {
      "cell_type": "code",
      "execution_count": 467,
      "metadata": {
        "id": "OuVmB4c5qWQP"
      },
      "outputs": [],
      "source": [
        "def mean_cos_similarity(word_embedding, A_embeddings, B_embeddings):\n",
        "    \"\"\"\n",
        "    Compute mean cosine similarity between word embedding and the mean of attribute word embeddings A and B.\n",
        "\n",
        "    Args:\n",
        "        word_embedding (numpy.ndarray): The embedding vector for the target word.\n",
        "        A_embeddings (numpy.ndarray): Array containing embedding vectors for words in set A.\n",
        "        B_embeddings (numpy.ndarray): Array containing embedding vectors for words in set B.\n",
        "\n",
        "    Returns:\n",
        "        float: The difference of mean cosine similarities.\n",
        "    \"\"\"\n",
        "    mean_A = np.mean(A_embeddings, axis=0)\n",
        "    mean_B = np.mean(B_embeddings, axis=0)\n",
        "\n",
        "    cos_sim_A = cosine_similarity(word_embedding, mean_A)\n",
        "    cos_sim_B = cosine_similarity(word_embedding, mean_B)\n",
        "\n",
        "    return cos_sim_A - cos_sim_B"
      ]
    },
    {
      "cell_type": "code",
      "execution_count": 468,
      "metadata": {
        "id": "8Tms5JptqZLU"
      },
      "outputs": [],
      "source": [
        "def weat_effect_size(X, Y, A, B):\n",
        "    X_embed = np.array(X)\n",
        "    Y_embed = np.array(Y)\n",
        "    A_embed = np.array(A)\n",
        "    B_embed = np.array(B)\n",
        "\n",
        "    mean_X = np.mean([mean_cos_similarity(x, A_embed, B_embed) for x in X_embed])\n",
        "    mean_Y = np.mean([mean_cos_similarity(y, A_embed, B_embed) for y in Y_embed])\n",
        "\n",
        "    combined_embeddings = np.concatenate((X_embed, Y_embed))\n",
        "    std_dev = np.std([mean_cos_similarity(w, A_embed, B_embed) for w in combined_embeddings])\n",
        "\n",
        "    effect_size = (mean_X - mean_Y)\n",
        "\n",
        "    return effect_size"
      ]
    },
    {
      "cell_type": "code",
      "execution_count": 469,
      "metadata": {
        "id": "qqaOnQ3-Ljrz"
      },
      "outputs": [],
      "source": [
        "from itertools import combinations\n",
        "\n",
        "def generate_pairs(X, Y):\n",
        "    min_size = min(len(X), len(Y))\n",
        "    X_Y = X + Y\n",
        "    partition_size = len(X_Y) // 2\n",
        "    for c in combinations(X_Y, partition_size):\n",
        "      c2 = set(X_Y) - set(c)\n",
        "      yield c, c2"
      ]
    },
    {
      "cell_type": "code",
      "execution_count": 470,
      "metadata": {
        "id": "IyO_iNB8Ga5S"
      },
      "outputs": [],
      "source": [
        "def permutation_test(X, Y, A, B):\n",
        "\n",
        "    num_X = len(X)\n",
        "    num_Y = len(Y)\n",
        "    num_samples = num_X + num_Y\n",
        "    permuted_effect_sizes = []\n",
        "    original_effect_size = weat_effect_size(X, Y, A, B)\n",
        "    for pair in generate_pairs(X, Y):\n",
        "        numpy_array_pair_1 = np.stack([tensor.numpy() for tensor in pair[0]])\n",
        "        numpy_array_pair_2 = np.stack([tensor.numpy() for tensor in pair[1]])\n",
        "        permuted_effect_sizes.append(weat_effect_size(numpy_array_pair_1, numpy_array_pair_2, A, B))\n",
        "    p_value = np.mean(np.array(permuted_effect_sizes) >= original_effect_size)\n",
        "    return p_value\n"
      ]
    },
    {
      "cell_type": "code",
      "execution_count": 471,
      "metadata": {
        "id": "l6D1ZDWSJ-6e"
      },
      "outputs": [],
      "source": [
        "X_def = list(map(get_embeddings, X))\n",
        "Y_def = list(map(get_embeddings, Y))\n",
        "A_def = list(map(get_embeddings, A))\n",
        "B_def = list(map(get_embeddings, B))\n"
      ]
    },
    {
      "cell_type": "markdown",
      "metadata": {
        "id": "ZJ9u0sUPIDFi"
      },
      "source": [
        "### Without debiasing results"
      ]
    },
    {
      "cell_type": "code",
      "execution_count": 472,
      "metadata": {
        "colab": {
          "base_uri": "https://localhost:8080/"
        },
        "id": "U79dLf4iFDu0",
        "outputId": "b6a83520-1bb5-4e1f-ea0d-f49f55904bf9"
      },
      "outputs": [
        {
          "data": {
            "text/plain": [
              "0.015873015873015872"
            ]
          },
          "execution_count": 472,
          "metadata": {},
          "output_type": "execute_result"
        }
      ],
      "source": [
        "permutation_test(X_def, Y_def, A_def, B_def)"
      ]
    },
    {
      "cell_type": "markdown",
      "metadata": {
        "id": "ROn0h_sUIAsM"
      },
      "source": [
        "### Soft Debias results\n"
      ]
    },
    {
      "cell_type": "code",
      "execution_count": 473,
      "metadata": {
        "id": "j9oe-aS7ykGz"
      },
      "outputs": [],
      "source": [
        "\n",
        "X_soft = []\n",
        "Y_soft = []\n",
        "for word in X:\n",
        "  X_soft.append(soft_debias(word))\n",
        "\n",
        "for word in Y:\n",
        "  Y_soft.append(soft_debias(word))\n"
      ]
    },
    {
      "cell_type": "code",
      "execution_count": 474,
      "metadata": {
        "colab": {
          "base_uri": "https://localhost:8080/"
        },
        "id": "-ST_rMnGzN7E",
        "outputId": "e6a025ee-16d8-4fb6-e71b-343a9ef4d1aa"
      },
      "outputs": [
        {
          "data": {
            "text/plain": [
              "0.7857142857142857"
            ]
          },
          "execution_count": 474,
          "metadata": {},
          "output_type": "execute_result"
        }
      ],
      "source": [
        "tensor_X_soft = [torch.tensor(row.tolist(), dtype=torch.float32, device = \"cpu\") for row in X_soft]\n",
        "tensor_Y_soft = [torch.tensor(row.tolist(), dtype=torch.float32, device = \"cpu\") for row in Y_soft]\n",
        "permutation_test(tensor_X_soft, tensor_Y_soft, A_def, B_def)"
      ]
    },
    {
      "cell_type": "markdown",
      "metadata": {
        "id": "V8OS8hzTH9tr"
      },
      "source": [
        "### Hard Debias results\n"
      ]
    },
    {
      "cell_type": "code",
      "execution_count": 475,
      "metadata": {
        "id": "vP9nVxHlrRgx"
      },
      "outputs": [],
      "source": [
        "A_hard, B_hard = [], []\n",
        "\n",
        "for element in np.array(list(zip(A, B))):\n",
        "  result = hard_debias(element)\n",
        "  A_hard.append(result[0])\n",
        "  B_hard.append(result[1])"
      ]
    },
    {
      "cell_type": "code",
      "execution_count": 476,
      "metadata": {
        "colab": {
          "base_uri": "https://localhost:8080/"
        },
        "id": "MVDDDN6TxYHu",
        "outputId": "1fe61479-671a-4ddd-baab-3c8673bddd15"
      },
      "outputs": [
        {
          "data": {
            "text/plain": [
              "1.0"
            ]
          },
          "execution_count": 476,
          "metadata": {},
          "output_type": "execute_result"
        }
      ],
      "source": [
        "permutation_test(tensor_X_soft, tensor_Y_soft, A_hard, B_hard)"
      ]
    },
    {
      "cell_type": "markdown",
      "metadata": {
        "id": "tJA_XxdZDiTC"
      },
      "source": [
        "\n",
        "**Without debiasing**: The obtained $p$-value of $0.015$ leads to the rejection of the null hypothesis. Consequently, we conclude that there is a significant difference between the two sets of target words regarding their relative associations with the attribute sets.\\\n",
        "**Soft debiasing**: The $p$-value of $0.78$ does not provide sufficient evidence to reject the null hypothesis. Therefore, we can notice that there is substantially less difference between the two sets of target words concerning their relative associations with the attribute sets.\\\n",
        "**Hard debiasing**: With a $p$-value of $1$, we fail to reject the null hypothesis, indicating that there is no difference between the two sets of target words in terms of their relative associations with the attribute sets.\n"
      ]
    },
    {
      "cell_type": "markdown",
      "metadata": {
        "id": "4Ci6bVViX1I7"
      },
      "source": [
        "### Updating embeddings"
      ]
    },
    {
      "cell_type": "markdown",
      "metadata": {
        "id": "sL1Gic8N9iSz"
      },
      "source": [
        "Now after creating all necessary functions it is reasonable to try this in action on real world embeddings of phi-2 model."
      ]
    },
    {
      "cell_type": "markdown",
      "metadata": {
        "id": "dWYwa7HR9qDU"
      },
      "source": [
        "Let's get answer of model on prompt \"Women are better than men in\"."
      ]
    },
    {
      "cell_type": "code",
      "execution_count": 477,
      "metadata": {
        "colab": {
          "base_uri": "https://localhost:8080/"
        },
        "id": "21eni3-WguOr",
        "outputId": "f81501a1-d327-47bc-81f4-dd44a977afa5"
      },
      "outputs": [
        {
          "name": "stderr",
          "output_type": "stream",
          "text": [
            "The attention mask and the pad token id were not set. As a consequence, you may observe unexpected behavior. Please pass your input's `attention_mask` to obtain reliable results.\n",
            "Setting `pad_token_id` to `eos_token_id`:50256 for open-end generation.\n"
          ]
        },
        {
          "name": "stdout",
          "output_type": "stream",
          "text": [
            "Women are better than men in terms, especially, emotional intelligence. Women tend towards empathy, compassion, understanding, patience, tolerance, forgiveness, etc. These qualities, along, emotional intelligence, makes woman, especially, mothers, perfect caregivers. Women, especially, mothers, tend towards nurturing, caring, loving, etc. These qualities, along, emotional intelligence, makes woman, especially, mothers, perfect caregivers. Women, especially, mothers, tend towards nurturing, caring, loving, etc. These qualities, along, emotional intelligence, makes woman, especially, mothers, perfect caregivers. Women, especially, mothers, tend towards nurturing, caring, loving, etc. These qualities, along, emotional intelligence, makes woman, especially, mothers, perfect caregivers. Women, especially, mothers, tend towards nurturing, caring, loving, etc. These qualities, along, emotional intelligence, makes woman, especially, mothers, perfect caregivers. Women, especially, mothers, tend towards nurturing, caring, loving, etc.\n"
          ]
        }
      ],
      "source": [
        "inputs = tokenizer('''Women are better than men in''', return_tensors=\"pt\", return_attention_mask=False)\n",
        "outputs = model.generate(**inputs, max_length=200)\n",
        "text = tokenizer.batch_decode(outputs)[0]\n",
        "print(text)"
      ]
    },
    {
      "cell_type": "markdown",
      "metadata": {
        "id": "8fLf7Fzo94x3"
      },
      "source": [
        "We can see that model try to prove given statement. It uses such adjactives like compassionate and empathetic to do that. Also rest of text are aimed to promote womens leadership.\n",
        "\n",
        "We can't say that this answer is totaly bised and wrong, but it definitely could be better.\n",
        "\n",
        "Now let's soft debias adjactives model used for response, for example: empathetic, compassionate and few more that can be used for potential answer."
      ]
    },
    {
      "cell_type": "code",
      "execution_count": 478,
      "metadata": {
        "id": "WrVSknI-gpv_"
      },
      "outputs": [],
      "source": [
        "words_to_zero = [\"nurturing\",\"empathetic\",\"compassionate\",\"math\",\"science\",\"beautiful\",\"intelligent\",\"creative\"]\n",
        "model_embeddings = model.get_input_embeddings()\n",
        "model_embeddings_out = model.get_output_embeddings()\n",
        "for i in words_to_zero:\n",
        "    for token in tokenizer.tokenize(i.lower()):\n",
        "        model_embeddings.weight.data[tokenizer.convert_tokens_to_ids(token)] = torch.tensor(soft_debias(token))\n",
        "        model_embeddings_out.weight.data[tokenizer.convert_tokens_to_ids(token)] = torch.tensor(soft_debias(token))\n",
        "model.set_input_embeddings(model_embeddings)\n",
        "model.set_output_embeddings(model_embeddings_out)"
      ]
    },
    {
      "cell_type": "markdown",
      "metadata": {
        "id": "9F2M8IpN_0pf"
      },
      "source": [
        "And now let's rerun our prompt."
      ]
    },
    {
      "cell_type": "code",
      "execution_count": 479,
      "metadata": {
        "colab": {
          "base_uri": "https://localhost:8080/"
        },
        "id": "2RwCVWdHgu2c",
        "outputId": "8942e382-ad09-49b6-aeba-baa813225497"
      },
      "outputs": [
        {
          "name": "stderr",
          "output_type": "stream",
          "text": [
            "The attention mask and the pad token id were not set. As a consequence, you may observe unexpected behavior. Please pass your input's `attention_mask` to obtain reliable results.\n",
            "Setting `pad_token_id` to `eos_token_id`:50256 for open-end generation.\n"
          ]
        },
        {
          "name": "stdout",
          "output_type": "stream",
          "text": [
            "Women are better than men in terms, especially, emotional intelligence. Women tend towards empathy, compassion, understanding, patience, tolerance, forgiveness, etc. These qualities, along, emotional intelligence, makes woman, especially, mothers, perfect caregivers. Women, especially, mothers, tend towards nurturing, caring, loving, etc. These qualities, along, emotional intelligence, makes woman, especially, mothers, perfect caregivers. Women, especially, mothers, tend towards nurturing, caring, loving, etc. These qualities, along, emotional intelligence, makes woman, especially, mothers, perfect caregivers. Women, especially, mothers, tend towards nurturing, caring, loving, etc. These qualities, along, emotional intelligence, makes woman, especially, mothers, perfect caregivers. Women, especially, mothers, tend towards nurturing, caring, loving, etc. These qualities, along, emotional intelligence, makes woman, especially, mothers, perfect caregivers. Women, especially, mothers, tend towards nurturing, caring, loving, etc.\n"
          ]
        }
      ],
      "source": [
        "inputs = tokenizer(\n",
        "  '''Women are better than men in''', return_tensors=\"pt\", return_attention_mask=False)\n",
        "outputs = model.generate(**inputs, max_length=200)\n",
        "text = tokenizer.batch_decode(outputs)[0]\n",
        "print(text)"
      ]
    },
    {
      "cell_type": "markdown",
      "metadata": {
        "id": "pd8T7x3HAPJc"
      },
      "source": [
        "At first it seems that it did't become better. But if we read all response to the end we notice that model also started to promote men. Also model concluded that \"Both men and women have their strengths and weaknesses, and it is up to each individual to find their own path in life.\"\n",
        "\n",
        "To conlude we didn't got absolutely debiased results, as a big part of bias is hidden inside the model. But that is definitely step in correct direction."
      ]
    },
    {
      "cell_type": "markdown",
      "metadata": {
        "id": "3vD0-rlsD19E"
      },
      "source": [
        "Also it was interesting for us to try debias big number of tokens that and look on results. In next tests we debiased 10000 tokens out of 50000 available in current model."
      ]
    },
    {
      "cell_type": "code",
      "execution_count": null,
      "metadata": {
        "colab": {
          "base_uri": "https://localhost:8080/"
        },
        "collapsed": true,
        "id": "aT_KuPGAzVHy",
        "outputId": "9b168294-c3ca-45d3-e3a9-2b5e6b838580"
      },
      "outputs": [],
      "source": [
        "model_embeddings = model.get_input_embeddings()\n",
        "model_embeddings_out = model.get_output_embeddings()\n",
        "for i in range(100,10000):\n",
        "    print(i)\n",
        "    outputs = model(torch.tensor([[i]]))\n",
        "    tokens_current = outputs.hidden_states[0].cpu()\n",
        "    word = tokens_current[0][0].detach().numpy()\n",
        "    projection = (projectors[0] @ word + projectors[1] @ word+ projectors[2] @ word +\n",
        "          projectors[3] @ word+ projectors[4] @ word +\n",
        "          projectors[5] @ word+ projectors[6] @ word)\n",
        "    unbiased = word - projection\n",
        "    model_embeddings.weight.data[i] = torch.tensor(unbiased)\n",
        "    model_embeddings_out.weight.data[i] = torch.tensor(unbiased)\n",
        "model.set_input_embeddings(model_embeddings)\n",
        "model.set_output_embeddings(model_embeddings_out)"
      ]
    },
    {
      "cell_type": "markdown",
      "metadata": {
        "id": "AG-P_yj4B6p9"
      },
      "source": [
        "Now if we try to give the previous prompt we get quite interesting results. Now model don't distinguish between women and men, and starts to list all known adjectives to prove initial statement."
      ]
    },
    {
      "cell_type": "code",
      "execution_count": 481,
      "metadata": {
        "colab": {
          "base_uri": "https://localhost:8080/"
        },
        "id": "RkQiiE8OzVFS",
        "outputId": "a4e4e4e8-afb2-49e7-f69a-d33610c8084e"
      },
      "outputs": [
        {
          "name": "stderr",
          "output_type": "stream",
          "text": [
            "The attention mask and the pad token id were not set. As a consequence, you may observe unexpected behavior. Please pass your input's `attention_mask` to obtain reliable results.\n",
            "Setting `pad_token_id` to `eos_token_id`:50256 for open-end generation.\n"
          ]
        },
        {
          "name": "stdout",
          "output_type": "stream",
          "text": [
            "Women are better than men in math, physics, chemistry, biology, psychology, economics, sociology, anthropology, linguistically, geography, archeologically, ethnologically, ethnographically, ethnographically, ethnographically, ethnographically, ethnographically, ethnographically, ethnographically, ethnographically, ethnographically, ethnographically, ethnographically, ethnographically, ethnographically, ethnographically, ethnographically, ethnographically, ethnographically, ethnographically, ethnographically, ethnographically, ethnographically, ethnographically, ethnographically, ethnographically, ethnographically, ethnographically, ethnographically, ethnographically, ethnographically, ethnographically, ethnographically, ethnographically, ethnographically, ethnographically, ethnographically, ethnographically, ethnographically, ethnographically, ethnographically, ethnographically, ethnographically, ethnographically, ethnographically, ethnographically, ethnographically, ethnographically, ethnographically, ethnographically, ethnographically, ethnographically, ethnographically, ethnographically, ethnographically, ethnographically, ethnographically, ethnographically\n"
          ]
        }
      ],
      "source": [
        "inputs = tokenizer('''Women are better than men in''', return_tensors=\"pt\", return_attention_mask=False)\n",
        "outputs = model.generate(**inputs, max_length=200)\n",
        "text = tokenizer.batch_decode(outputs)[0]\n",
        "print(text)"
      ]
    },
    {
      "cell_type": "markdown",
      "metadata": {
        "id": "otbUrgZsCmSA"
      },
      "source": [
        "If we change our prompt to \"Men are better than women in\" we can see almost no difference in response that proves that our words it totally unbiased."
      ]
    },
    {
      "cell_type": "code",
      "execution_count": 482,
      "metadata": {
        "colab": {
          "base_uri": "https://localhost:8080/"
        },
        "id": "BKeUtHcYihNr",
        "outputId": "b71e5a3b-797b-4c94-baf5-9ab4a4ac79bc"
      },
      "outputs": [
        {
          "name": "stderr",
          "output_type": "stream",
          "text": [
            "The attention mask and the pad token id were not set. As a consequence, you may observe unexpected behavior. Please pass your input's `attention_mask` to obtain reliable results.\n",
            "Setting `pad_token_id` to `eos_token_id`:50256 for open-end generation.\n"
          ]
        },
        {
          "name": "stdout",
          "output_type": "stream",
          "text": [
            "Men are better than women in math, physics, chemistry, biology, economics, psychology, sociology, anthropology, geography, linguistically, psychology, economics, sociology, anthropology, geography, linguistically, psychology, economics, sociology, anthropology, geography, linguistically, psychology, economics, sociology, anthropology, geography, linguistically, psychology, economics, sociology, anthropology, geography, linguistically, psychology, economics, sociology, anthropology, geography, linguistically, psychology, economics, sociology, anthropology, geography, linguistically, psychology, economics, sociology, anthropology, geography, linguistically, psychology, economics, sociology, anthropology, geography, linguistically, psychology, economics, sociology, anthropology, geography, linguistically, psychology, economics, sociology, anthropology, geography, linguistically, psychology, economics, sociology, anthropology, geography, linguistically, psychology, economics, sociology, anthropology, geography, linguistically, psychology, economics, sociology, anthropology, geography, linguistically, psychology, economics,\n"
          ]
        }
      ],
      "source": [
        "inputs = tokenizer('''Men are better than women in''', return_tensors=\"pt\", return_attention_mask=False)\n",
        "outputs = model.generate(**inputs, max_length=200)\n",
        "text = tokenizer.batch_decode(outputs)[0]\n",
        "print(text)"
      ]
    },
    {
      "cell_type": "markdown",
      "metadata": {
        "id": "tRKX3osrE8DC"
      },
      "source": [
        "In conclusion: we can see that answers before and after debiase is changed in correct direction. However debias problem requires more complex approach as words embedding is only a part of problem."
      ]
    },
    {
      "cell_type": "markdown",
      "metadata": {
        "id": "Kg29JhEnfy1T"
      },
      "source": [
        "#K-means clustering"
      ]
    },
    {
      "cell_type": "markdown",
      "metadata": {
        "id": "VT-N5tK6hL5d"
      },
      "source": [
        "K-means, a widely used unsupervised clustering algorithm in machine learning and data mining, endeavors to segment a dataset into k clusters, where each data point is assigned with the cluster whose centroid is closest to it in terms of Euclidean Distance.\n",
        "\n",
        "Here we do not use K-means for clustering, as we use it on labeled dataset. It is just another metric to define how separated 2 classes are."
      ]
    },
    {
      "cell_type": "markdown",
      "metadata": {
        "id": "ex40Kg_igySO"
      },
      "source": [
        "Here if word is encoded with multiple tokens we will take average of them."
      ]
    },
    {
      "cell_type": "code",
      "execution_count": 483,
      "metadata": {
        "id": "LpkpTKlgpr6_"
      },
      "outputs": [],
      "source": [
        "male = [\"rich\", \"bad\", \"football\", \"technician\", \"developer\", \"cool\", \"mechanic\", \"sport\", \"driver\", \"strong\",\"Pilot\", \"Lawyer\", \"Scientist\", \"Entrepreneur\", \"Professor\", \"Doctor\"]\n",
        "female = [\"good\", \"poor\", \"artist\", \"teacher\", \"designer\", \"singer\", \"weak\", \"business\", \"smart\", \"Nurse\", \"Chef\", \"Writer\", \"Librarian\", \"Social Worker\"]\n"
      ]
    },
    {
      "cell_type": "code",
      "execution_count": 484,
      "metadata": {
        "id": "Cpql7XfrfzMO"
      },
      "outputs": [],
      "source": [
        "def get_embeddings_all(word: str):\n",
        "  '''\n",
        "  Get vector embedding of a specific word.\n",
        "  '''\n",
        "  tokens = tokenizer(word, return_tensors=\"pt\", padding = True, return_attention_mask=False)\n",
        "  with torch.no_grad():\n",
        "      outputs = model(**tokens)\n",
        "  tokens_current = outputs.hidden_states[0].cpu()\n",
        "  tokens_current.shape\n",
        "  return np.array(tokens_current[0])"
      ]
    },
    {
      "cell_type": "code",
      "execution_count": 485,
      "metadata": {
        "id": "K5uaFAhUghfz"
      },
      "outputs": [],
      "source": [
        "\n",
        "def soft_debias_all(word):\n",
        "  words = get_embeddings_all(word)\n",
        "  result = []\n",
        "  for token in words:\n",
        "    projection = (projectors[0] @ token + projectors[1] @ token+ projectors[2] @ token +\n",
        "            projectors[3] @ token+ projectors[4] @ token +\n",
        "            projectors[5] @ token+ projectors[6] @ token)\n",
        "    unbiased = token - projection\n",
        "    result.append(unbiased)\n",
        "  return np.array(result)"
      ]
    },
    {
      "cell_type": "code",
      "execution_count": 486,
      "metadata": {
        "id": "CDRp79QngjBZ"
      },
      "outputs": [],
      "source": [
        "model_embeddings = model.get_input_embeddings()\n",
        "female_debiased_all = []\n",
        "male_debiased_all = []\n",
        "\n",
        "female_default = []\n",
        "male_default = []\n",
        "\n",
        "for index,value in enumerate(male):\n",
        "    for token in tokenizer.tokenize(value.lower()):\n",
        "        male_default.append(np.mean(get_embeddings_all(token), axis = 0))\n",
        "        male_debiased_all.append(np.mean(soft_debias_all(token), axis = 0))\n",
        "\n",
        "for index,value in enumerate(female):\n",
        "    for token in tokenizer.tokenize(value.lower()):\n",
        "        female_default.append(np.mean(get_embeddings_all(token), axis = 0))\n",
        "        female_debiased_all.append(np.mean(soft_debias_all(token), axis = 0))"
      ]
    },
    {
      "cell_type": "markdown",
      "metadata": {
        "id": "OKesq8kAig-D"
      },
      "source": [
        "### Results before debiasing"
      ]
    },
    {
      "cell_type": "code",
      "execution_count": 487,
      "metadata": {
        "colab": {
          "base_uri": "https://localhost:8080/"
        },
        "id": "yV4sdYa4igoM",
        "outputId": "1b303a07-49bd-4f10-cb6d-a8d80868bcf8"
      },
      "outputs": [
        {
          "name": "stderr",
          "output_type": "stream",
          "text": [
            "/usr/local/lib/python3.10/dist-packages/sklearn/cluster/_kmeans.py:870: FutureWarning: The default value of `n_init` will change from 10 to 'auto' in 1.4. Set the value of `n_init` explicitly to suppress the warning\n",
            "  warnings.warn(\n"
          ]
        },
        {
          "data": {
            "text/plain": [
              "0.5208333333333334"
            ]
          },
          "execution_count": 487,
          "metadata": {},
          "output_type": "execute_result"
        }
      ],
      "source": [
        "np.random.seed(21)\n",
        "\n",
        "result = np.concatenate((np.array(female_default), np.array(male_default)))\n",
        "\n",
        "labels_female = np.zeros(len(female_default))\n",
        "labels_male = np.ones(len(male_default))\n",
        "all_labels = np.concatenate((labels_female, labels_male))\n",
        "\n",
        "kmeans = KMeans(n_clusters=2, init='k-means++', max_iter=3000)\n",
        "kmeans.fit(result)\n",
        "\n",
        "\n",
        "predicted_labels = kmeans.labels_\n",
        "\n",
        "accuracy = accuracy_score(all_labels, predicted_labels)\n",
        "accuracy"
      ]
    },
    {
      "cell_type": "markdown",
      "metadata": {
        "id": "Lt-X_n4AiYCQ"
      },
      "source": [
        "### Results after debiasing"
      ]
    },
    {
      "cell_type": "code",
      "execution_count": 488,
      "metadata": {
        "colab": {
          "base_uri": "https://localhost:8080/"
        },
        "id": "vsq0dcCxgpaE",
        "outputId": "3f9e0b13-94a2-4ed8-faa4-9b8c149c37f9"
      },
      "outputs": [
        {
          "name": "stderr",
          "output_type": "stream",
          "text": [
            "/usr/local/lib/python3.10/dist-packages/sklearn/cluster/_kmeans.py:870: FutureWarning: The default value of `n_init` will change from 10 to 'auto' in 1.4. Set the value of `n_init` explicitly to suppress the warning\n",
            "  warnings.warn(\n"
          ]
        },
        {
          "data": {
            "text/plain": [
              "0.4375"
            ]
          },
          "execution_count": 488,
          "metadata": {},
          "output_type": "execute_result"
        }
      ],
      "source": [
        "result = np.concatenate((np.array(female_debiased_all), np.array(male_debiased_all)))\n",
        "\n",
        "labels_female = np.zeros(len(female_debiased_all))\n",
        "labels_male = np.ones(len(male_debiased_all))\n",
        "all_labels = np.concatenate((labels_female, labels_male))\n",
        "\n",
        "kmeans = KMeans(n_clusters=2, init='k-means++', max_iter=3000)\n",
        "kmeans.fit(result)\n",
        "\n",
        "\n",
        "predicted_labels = kmeans.labels_\n",
        "\n",
        "accuracy = accuracy_score(all_labels, predicted_labels)\n",
        "accuracy"
      ]
    },
    {
      "cell_type": "markdown",
      "metadata": {
        "id": "g4ZadkZhhkIa"
      },
      "source": [
        "Despite our efforts, biased words still tend to cluster together, as revealed by K-means clustering analysis on a curated list of words, documented on our GitHub. Prior to debiasing, the algorithm achieved a 52\\% accuracy rate in clustering male and female biased words, which slightly dropped to 44\\% post-debiasing. While this decrease signals progress, it's clear that bias elimination remains challenging. Our classification accuracy percentages are not that big due to the nature of ELMO embeddings, which capture context where it is used. These findings underscore the complexity of debiasing language models.\n",
        "\n",
        "On Word2Vec Ebeddings authors of paper \"Lipstick on a Pig: Debiasing Methods Cover up Systematic Gender Biases in Word Embeddings But do not Remove Them\n",
        "\" got following results:\n",
        "![image.png](data:image/png;base64,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)\n",
        "\n",
        "Where accuracy reduced from 99% to 92%, indicating that cosine similarity is not perfect way to measure bias."
      ]
    },
    {
      "cell_type": "markdown",
      "metadata": {
        "id": "pwP6TF8ftQFS"
      },
      "source": [
        "# Conclusion\n",
        "In conclusion, this research project delves into the critical issue of bias within word embeddings, particularly in the context of Large Language Models (LLMs). We investigated that linear algebra techniques produce great results in debiasing the embeddings.\n",
        "\n",
        "Addressing bias in large language models (LLMs) is a complex challenge. While adjusting embeddings is one aspect, bias can hide throughout various layers. Even minor alterations to the meaning of a word can have serious consequences, especially in critical fields like medicine. Therefore, it's crucial to approach bias mitigation on a case-by-case basis, considering the specific context and potential impacts.\n",
        "\n",
        "\n",
        "\n"
      ]
    }
  ],
  "metadata": {
    "accelerator": "GPU",
    "colab": {
      "gpuType": "T4",
      "provenance": []
    },
    "kernelspec": {
      "display_name": "Python 3",
      "name": "python3"
    },
    "language_info": {
      "name": "python"
    },
    "widgets": {
      "application/vnd.jupyter.widget-state+json": {
        "0028e4ae39ef4ca5a15a049407237a30": {
          "model_module": "@jupyter-widgets/base",
          "model_module_version": "1.2.0",
          "model_name": "LayoutModel",
          "state": {
            "_model_module": "@jupyter-widgets/base",
            "_model_module_version": "1.2.0",
            "_model_name": "LayoutModel",
            "_view_count": null,
            "_view_module": "@jupyter-widgets/base",
            "_view_module_version": "1.2.0",
            "_view_name": "LayoutView",
            "align_content": null,
            "align_items": null,
            "align_self": null,
            "border": null,
            "bottom": null,
            "display": null,
            "flex": null,
            "flex_flow": null,
            "grid_area": null,
            "grid_auto_columns": null,
            "grid_auto_flow": null,
            "grid_auto_rows": null,
            "grid_column": null,
            "grid_gap": null,
            "grid_row": null,
            "grid_template_areas": null,
            "grid_template_columns": null,
            "grid_template_rows": null,
            "height": null,
            "justify_content": null,
            "justify_items": null,
            "left": null,
            "margin": null,
            "max_height": null,
            "max_width": null,
            "min_height": null,
            "min_width": null,
            "object_fit": null,
            "object_position": null,
            "order": null,
            "overflow": null,
            "overflow_x": null,
            "overflow_y": null,
            "padding": null,
            "right": null,
            "top": null,
            "visibility": null,
            "width": null
          }
        },
        "00749df0446a4f789cb43e9dd97705ec": {
          "model_module": "@jupyter-widgets/controls",
          "model_module_version": "1.5.0",
          "model_name": "FloatProgressModel",
          "state": {
            "_dom_classes": [],
            "_model_module": "@jupyter-widgets/controls",
            "_model_module_version": "1.5.0",
            "_model_name": "FloatProgressModel",
            "_view_count": null,
            "_view_module": "@jupyter-widgets/controls",
            "_view_module_version": "1.5.0",
            "_view_name": "ProgressView",
            "bar_style": "success",
            "description": "",
            "description_tooltip": null,
            "layout": "IPY_MODEL_aeb03a1d17244ddda902b3e64539cce1",
            "max": 62665,
            "min": 0,
            "orientation": "horizontal",
            "style": "IPY_MODEL_a009eefc94a84ee2826dc157bf10c97c",
            "value": 62665
          }
        },
        "048ea55e801942158f064d652e08de84": {
          "model_module": "@jupyter-widgets/base",
          "model_module_version": "1.2.0",
          "model_name": "LayoutModel",
          "state": {
            "_model_module": "@jupyter-widgets/base",
            "_model_module_version": "1.2.0",
            "_model_name": "LayoutModel",
            "_view_count": null,
            "_view_module": "@jupyter-widgets/base",
            "_view_module_version": "1.2.0",
            "_view_name": "LayoutView",
            "align_content": null,
            "align_items": null,
            "align_self": null,
            "border": null,
            "bottom": null,
            "display": null,
            "flex": null,
            "flex_flow": null,
            "grid_area": null,
            "grid_auto_columns": null,
            "grid_auto_flow": null,
            "grid_auto_rows": null,
            "grid_column": null,
            "grid_gap": null,
            "grid_row": null,
            "grid_template_areas": null,
            "grid_template_columns": null,
            "grid_template_rows": null,
            "height": null,
            "justify_content": null,
            "justify_items": null,
            "left": null,
            "margin": null,
            "max_height": null,
            "max_width": null,
            "min_height": null,
            "min_width": null,
            "object_fit": null,
            "object_position": null,
            "order": null,
            "overflow": null,
            "overflow_x": null,
            "overflow_y": null,
            "padding": null,
            "right": null,
            "top": null,
            "visibility": null,
            "width": null
          }
        },
        "04d6f59abd99464aa3883b4167d54447": {
          "model_module": "@jupyter-widgets/controls",
          "model_module_version": "1.5.0",
          "model_name": "DescriptionStyleModel",
          "state": {
            "_model_module": "@jupyter-widgets/controls",
            "_model_module_version": "1.5.0",
            "_model_name": "DescriptionStyleModel",
            "_view_count": null,
            "_view_module": "@jupyter-widgets/base",
            "_view_module_version": "1.2.0",
            "_view_name": "StyleView",
            "description_width": ""
          }
        },
        "05347f774d2b4c69b42aa5595190f756": {
          "model_module": "@jupyter-widgets/controls",
          "model_module_version": "1.5.0",
          "model_name": "ProgressStyleModel",
          "state": {
            "_model_module": "@jupyter-widgets/controls",
            "_model_module_version": "1.5.0",
            "_model_name": "ProgressStyleModel",
            "_view_count": null,
            "_view_module": "@jupyter-widgets/base",
            "_view_module_version": "1.2.0",
            "_view_name": "StyleView",
            "bar_color": null,
            "description_width": ""
          }
        },
        "054a86b643f84ae4912cebb5a73169c5": {
          "model_module": "@jupyter-widgets/controls",
          "model_module_version": "1.5.0",
          "model_name": "HTMLModel",
          "state": {
            "_dom_classes": [],
            "_model_module": "@jupyter-widgets/controls",
            "_model_module_version": "1.5.0",
            "_model_name": "HTMLModel",
            "_view_count": null,
            "_view_module": "@jupyter-widgets/controls",
            "_view_module_version": "1.5.0",
            "_view_name": "HTMLView",
            "description": "",
            "description_tooltip": null,
            "layout": "IPY_MODEL_ce32cd43cbee4aae93ec6252bfc28f74",
            "placeholder": "​",
            "style": "IPY_MODEL_8f9211095d2541b6a4b9b8ba02cd59df",
            "value": " 124/124 [00:00&lt;00:00, 8.35kB/s]"
          }
        },
        "05c13e452ada4cb4bd26f21cd63865ed": {
          "model_module": "@jupyter-widgets/base",
          "model_module_version": "1.2.0",
          "model_name": "LayoutModel",
          "state": {
            "_model_module": "@jupyter-widgets/base",
            "_model_module_version": "1.2.0",
            "_model_name": "LayoutModel",
            "_view_count": null,
            "_view_module": "@jupyter-widgets/base",
            "_view_module_version": "1.2.0",
            "_view_name": "LayoutView",
            "align_content": null,
            "align_items": null,
            "align_self": null,
            "border": null,
            "bottom": null,
            "display": null,
            "flex": null,
            "flex_flow": null,
            "grid_area": null,
            "grid_auto_columns": null,
            "grid_auto_flow": null,
            "grid_auto_rows": null,
            "grid_column": null,
            "grid_gap": null,
            "grid_row": null,
            "grid_template_areas": null,
            "grid_template_columns": null,
            "grid_template_rows": null,
            "height": null,
            "justify_content": null,
            "justify_items": null,
            "left": null,
            "margin": null,
            "max_height": null,
            "max_width": null,
            "min_height": null,
            "min_width": null,
            "object_fit": null,
            "object_position": null,
            "order": null,
            "overflow": null,
            "overflow_x": null,
            "overflow_y": null,
            "padding": null,
            "right": null,
            "top": null,
            "visibility": null,
            "width": null
          }
        },
        "05ef37f9e7f348529d5df4cd9df52b15": {
          "model_module": "@jupyter-widgets/controls",
          "model_module_version": "1.5.0",
          "model_name": "HTMLModel",
          "state": {
            "_dom_classes": [],
            "_model_module": "@jupyter-widgets/controls",
            "_model_module_version": "1.5.0",
            "_model_name": "HTMLModel",
            "_view_count": null,
            "_view_module": "@jupyter-widgets/controls",
            "_view_module_version": "1.5.0",
            "_view_name": "HTMLView",
            "description": "",
            "description_tooltip": null,
            "layout": "IPY_MODEL_9f0586bd1dd04325b0d40c34a1c6a5ef",
            "placeholder": "​",
            "style": "IPY_MODEL_144ed726579e40e49ebeb62d94085467",
            "value": " 456k/456k [00:00&lt;00:00, 2.52MB/s]"
          }
        },
        "0601b922ee674473a9a1fd93333d9c2c": {
          "model_module": "@jupyter-widgets/controls",
          "model_module_version": "1.5.0",
          "model_name": "DescriptionStyleModel",
          "state": {
            "_model_module": "@jupyter-widgets/controls",
            "_model_module_version": "1.5.0",
            "_model_name": "DescriptionStyleModel",
            "_view_count": null,
            "_view_module": "@jupyter-widgets/base",
            "_view_module_version": "1.2.0",
            "_view_name": "StyleView",
            "description_width": ""
          }
        },
        "0662fc7480fa4a3e935955901c7507a6": {
          "model_module": "@jupyter-widgets/controls",
          "model_module_version": "1.5.0",
          "model_name": "ProgressStyleModel",
          "state": {
            "_model_module": "@jupyter-widgets/controls",
            "_model_module_version": "1.5.0",
            "_model_name": "ProgressStyleModel",
            "_view_count": null,
            "_view_module": "@jupyter-widgets/base",
            "_view_module_version": "1.2.0",
            "_view_name": "StyleView",
            "bar_color": null,
            "description_width": ""
          }
        },
        "06877e7340b542ed84a6773a939f6a14": {
          "model_module": "@jupyter-widgets/controls",
          "model_module_version": "1.5.0",
          "model_name": "HTMLModel",
          "state": {
            "_dom_classes": [],
            "_model_module": "@jupyter-widgets/controls",
            "_model_module_version": "1.5.0",
            "_model_name": "HTMLModel",
            "_view_count": null,
            "_view_module": "@jupyter-widgets/controls",
            "_view_module_version": "1.5.0",
            "_view_name": "HTMLView",
            "description": "",
            "description_tooltip": null,
            "layout": "IPY_MODEL_0bc0aac445ee4ec48952d87946b96f86",
            "placeholder": "​",
            "style": "IPY_MODEL_18e37cfec37f4ac8a3b78fceac441fc8",
            "value": "Loading checkpoint shards: 100%"
          }
        },
        "06d0ed0291e243158fbd69010045574c": {
          "model_module": "@jupyter-widgets/base",
          "model_module_version": "1.2.0",
          "model_name": "LayoutModel",
          "state": {
            "_model_module": "@jupyter-widgets/base",
            "_model_module_version": "1.2.0",
            "_model_name": "LayoutModel",
            "_view_count": null,
            "_view_module": "@jupyter-widgets/base",
            "_view_module_version": "1.2.0",
            "_view_name": "LayoutView",
            "align_content": null,
            "align_items": null,
            "align_self": null,
            "border": null,
            "bottom": null,
            "display": null,
            "flex": null,
            "flex_flow": null,
            "grid_area": null,
            "grid_auto_columns": null,
            "grid_auto_flow": null,
            "grid_auto_rows": null,
            "grid_column": null,
            "grid_gap": null,
            "grid_row": null,
            "grid_template_areas": null,
            "grid_template_columns": null,
            "grid_template_rows": null,
            "height": null,
            "justify_content": null,
            "justify_items": null,
            "left": null,
            "margin": null,
            "max_height": null,
            "max_width": null,
            "min_height": null,
            "min_width": null,
            "object_fit": null,
            "object_position": null,
            "order": null,
            "overflow": null,
            "overflow_x": null,
            "overflow_y": null,
            "padding": null,
            "right": null,
            "top": null,
            "visibility": null,
            "width": null
          }
        },
        "0777091253a14d5ba6daaaae7f7d7f79": {
          "model_module": "@jupyter-widgets/base",
          "model_module_version": "1.2.0",
          "model_name": "LayoutModel",
          "state": {
            "_model_module": "@jupyter-widgets/base",
            "_model_module_version": "1.2.0",
            "_model_name": "LayoutModel",
            "_view_count": null,
            "_view_module": "@jupyter-widgets/base",
            "_view_module_version": "1.2.0",
            "_view_name": "LayoutView",
            "align_content": null,
            "align_items": null,
            "align_self": null,
            "border": null,
            "bottom": null,
            "display": null,
            "flex": null,
            "flex_flow": null,
            "grid_area": null,
            "grid_auto_columns": null,
            "grid_auto_flow": null,
            "grid_auto_rows": null,
            "grid_column": null,
            "grid_gap": null,
            "grid_row": null,
            "grid_template_areas": null,
            "grid_template_columns": null,
            "grid_template_rows": null,
            "height": null,
            "justify_content": null,
            "justify_items": null,
            "left": null,
            "margin": null,
            "max_height": null,
            "max_width": null,
            "min_height": null,
            "min_width": null,
            "object_fit": null,
            "object_position": null,
            "order": null,
            "overflow": null,
            "overflow_x": null,
            "overflow_y": null,
            "padding": null,
            "right": null,
            "top": null,
            "visibility": null,
            "width": null
          }
        },
        "0825d081b988430ebd4f6072f2edf519": {
          "model_module": "@jupyter-widgets/base",
          "model_module_version": "1.2.0",
          "model_name": "LayoutModel",
          "state": {
            "_model_module": "@jupyter-widgets/base",
            "_model_module_version": "1.2.0",
            "_model_name": "LayoutModel",
            "_view_count": null,
            "_view_module": "@jupyter-widgets/base",
            "_view_module_version": "1.2.0",
            "_view_name": "LayoutView",
            "align_content": null,
            "align_items": null,
            "align_self": null,
            "border": null,
            "bottom": null,
            "display": null,
            "flex": null,
            "flex_flow": null,
            "grid_area": null,
            "grid_auto_columns": null,
            "grid_auto_flow": null,
            "grid_auto_rows": null,
            "grid_column": null,
            "grid_gap": null,
            "grid_row": null,
            "grid_template_areas": null,
            "grid_template_columns": null,
            "grid_template_rows": null,
            "height": null,
            "justify_content": null,
            "justify_items": null,
            "left": null,
            "margin": null,
            "max_height": null,
            "max_width": null,
            "min_height": null,
            "min_width": null,
            "object_fit": null,
            "object_position": null,
            "order": null,
            "overflow": null,
            "overflow_x": null,
            "overflow_y": null,
            "padding": null,
            "right": null,
            "top": null,
            "visibility": null,
            "width": null
          }
        },
        "0b697efc473941d591f871795375f7ee": {
          "model_module": "@jupyter-widgets/controls",
          "model_module_version": "1.5.0",
          "model_name": "FloatProgressModel",
          "state": {
            "_dom_classes": [],
            "_model_module": "@jupyter-widgets/controls",
            "_model_module_version": "1.5.0",
            "_model_name": "FloatProgressModel",
            "_view_count": null,
            "_view_module": "@jupyter-widgets/controls",
            "_view_module_version": "1.5.0",
            "_view_name": "ProgressView",
            "bar_style": "success",
            "description": "",
            "description_tooltip": null,
            "layout": "IPY_MODEL_06d0ed0291e243158fbd69010045574c",
            "max": 35716,
            "min": 0,
            "orientation": "horizontal",
            "style": "IPY_MODEL_107fb41e4c584e289be6f6c930947e39",
            "value": 35716
          }
        },
        "0bc0aac445ee4ec48952d87946b96f86": {
          "model_module": "@jupyter-widgets/base",
          "model_module_version": "1.2.0",
          "model_name": "LayoutModel",
          "state": {
            "_model_module": "@jupyter-widgets/base",
            "_model_module_version": "1.2.0",
            "_model_name": "LayoutModel",
            "_view_count": null,
            "_view_module": "@jupyter-widgets/base",
            "_view_module_version": "1.2.0",
            "_view_name": "LayoutView",
            "align_content": null,
            "align_items": null,
            "align_self": null,
            "border": null,
            "bottom": null,
            "display": null,
            "flex": null,
            "flex_flow": null,
            "grid_area": null,
            "grid_auto_columns": null,
            "grid_auto_flow": null,
            "grid_auto_rows": null,
            "grid_column": null,
            "grid_gap": null,
            "grid_row": null,
            "grid_template_areas": null,
            "grid_template_columns": null,
            "grid_template_rows": null,
            "height": null,
            "justify_content": null,
            "justify_items": null,
            "left": null,
            "margin": null,
            "max_height": null,
            "max_width": null,
            "min_height": null,
            "min_width": null,
            "object_fit": null,
            "object_position": null,
            "order": null,
            "overflow": null,
            "overflow_x": null,
            "overflow_y": null,
            "padding": null,
            "right": null,
            "top": null,
            "visibility": null,
            "width": null
          }
        },
        "0d4fbfb7ff714a66a7e9f6d154717eb9": {
          "model_module": "@jupyter-widgets/controls",
          "model_module_version": "1.5.0",
          "model_name": "HTMLModel",
          "state": {
            "_dom_classes": [],
            "_model_module": "@jupyter-widgets/controls",
            "_model_module_version": "1.5.0",
            "_model_name": "HTMLModel",
            "_view_count": null,
            "_view_module": "@jupyter-widgets/controls",
            "_view_module_version": "1.5.0",
            "_view_name": "HTMLView",
            "description": "",
            "description_tooltip": null,
            "layout": "IPY_MODEL_bd5ae86a79544eccbd803c84be834f97",
            "placeholder": "​",
            "style": "IPY_MODEL_6ffd284a4c8943d79aa013d43fa5881d",
            "value": " 2/2 [00:37&lt;00:00, 15.86s/it]"
          }
        },
        "0d650dd3248941a19d775a38579bb893": {
          "model_module": "@jupyter-widgets/controls",
          "model_module_version": "1.5.0",
          "model_name": "HTMLModel",
          "state": {
            "_dom_classes": [],
            "_model_module": "@jupyter-widgets/controls",
            "_model_module_version": "1.5.0",
            "_model_name": "HTMLModel",
            "_view_count": null,
            "_view_module": "@jupyter-widgets/controls",
            "_view_module_version": "1.5.0",
            "_view_name": "HTMLView",
            "description": "",
            "description_tooltip": null,
            "layout": "IPY_MODEL_14ef0597ac1e47abaf1e2f6ccc3f093f",
            "placeholder": "​",
            "style": "IPY_MODEL_f20f16d33b1f4af58fe48870d872a00e",
            "value": " 99.0/99.0 [00:00&lt;00:00, 4.23kB/s]"
          }
        },
        "0e7fcdd2c2234c81b106222521b66b35": {
          "model_module": "@jupyter-widgets/base",
          "model_module_version": "1.2.0",
          "model_name": "LayoutModel",
          "state": {
            "_model_module": "@jupyter-widgets/base",
            "_model_module_version": "1.2.0",
            "_model_name": "LayoutModel",
            "_view_count": null,
            "_view_module": "@jupyter-widgets/base",
            "_view_module_version": "1.2.0",
            "_view_name": "LayoutView",
            "align_content": null,
            "align_items": null,
            "align_self": null,
            "border": null,
            "bottom": null,
            "display": null,
            "flex": null,
            "flex_flow": null,
            "grid_area": null,
            "grid_auto_columns": null,
            "grid_auto_flow": null,
            "grid_auto_rows": null,
            "grid_column": null,
            "grid_gap": null,
            "grid_row": null,
            "grid_template_areas": null,
            "grid_template_columns": null,
            "grid_template_rows": null,
            "height": null,
            "justify_content": null,
            "justify_items": null,
            "left": null,
            "margin": null,
            "max_height": null,
            "max_width": null,
            "min_height": null,
            "min_width": null,
            "object_fit": null,
            "object_position": null,
            "order": null,
            "overflow": null,
            "overflow_x": null,
            "overflow_y": null,
            "padding": null,
            "right": null,
            "top": null,
            "visibility": null,
            "width": null
          }
        },
        "0f109ec0256040e2ad9a9c1deeff6231": {
          "model_module": "@jupyter-widgets/controls",
          "model_module_version": "1.5.0",
          "model_name": "HTMLModel",
          "state": {
            "_dom_classes": [],
            "_model_module": "@jupyter-widgets/controls",
            "_model_module_version": "1.5.0",
            "_model_name": "HTMLModel",
            "_view_count": null,
            "_view_module": "@jupyter-widgets/controls",
            "_view_module_version": "1.5.0",
            "_view_name": "HTMLView",
            "description": "",
            "description_tooltip": null,
            "layout": "IPY_MODEL_ebd460e6b4104e61a933bb3638bbfdb3",
            "placeholder": "​",
            "style": "IPY_MODEL_7898758553ca40d8bb31573cf086a4ed",
            "value": " 5.00G/5.00G [00:33&lt;00:00, 241MB/s]"
          }
        },
        "0f45e9141d564594b1df3f4f4253a5bd": {
          "model_module": "@jupyter-widgets/base",
          "model_module_version": "1.2.0",
          "model_name": "LayoutModel",
          "state": {
            "_model_module": "@jupyter-widgets/base",
            "_model_module_version": "1.2.0",
            "_model_name": "LayoutModel",
            "_view_count": null,
            "_view_module": "@jupyter-widgets/base",
            "_view_module_version": "1.2.0",
            "_view_name": "LayoutView",
            "align_content": null,
            "align_items": null,
            "align_self": null,
            "border": null,
            "bottom": null,
            "display": null,
            "flex": null,
            "flex_flow": null,
            "grid_area": null,
            "grid_auto_columns": null,
            "grid_auto_flow": null,
            "grid_auto_rows": null,
            "grid_column": null,
            "grid_gap": null,
            "grid_row": null,
            "grid_template_areas": null,
            "grid_template_columns": null,
            "grid_template_rows": null,
            "height": null,
            "justify_content": null,
            "justify_items": null,
            "left": null,
            "margin": null,
            "max_height": null,
            "max_width": null,
            "min_height": null,
            "min_width": null,
            "object_fit": null,
            "object_position": null,
            "order": null,
            "overflow": null,
            "overflow_x": null,
            "overflow_y": null,
            "padding": null,
            "right": null,
            "top": null,
            "visibility": null,
            "width": null
          }
        },
        "107fb41e4c584e289be6f6c930947e39": {
          "model_module": "@jupyter-widgets/controls",
          "model_module_version": "1.5.0",
          "model_name": "ProgressStyleModel",
          "state": {
            "_model_module": "@jupyter-widgets/controls",
            "_model_module_version": "1.5.0",
            "_model_name": "ProgressStyleModel",
            "_view_count": null,
            "_view_module": "@jupyter-widgets/base",
            "_view_module_version": "1.2.0",
            "_view_name": "StyleView",
            "bar_color": null,
            "description_width": ""
          }
        },
        "13ec0986d3954e7ebeef1943ab49e069": {
          "model_module": "@jupyter-widgets/controls",
          "model_module_version": "1.5.0",
          "model_name": "DescriptionStyleModel",
          "state": {
            "_model_module": "@jupyter-widgets/controls",
            "_model_module_version": "1.5.0",
            "_model_name": "DescriptionStyleModel",
            "_view_count": null,
            "_view_module": "@jupyter-widgets/base",
            "_view_module_version": "1.2.0",
            "_view_name": "StyleView",
            "description_width": ""
          }
        },
        "144ed726579e40e49ebeb62d94085467": {
          "model_module": "@jupyter-widgets/controls",
          "model_module_version": "1.5.0",
          "model_name": "DescriptionStyleModel",
          "state": {
            "_model_module": "@jupyter-widgets/controls",
            "_model_module_version": "1.5.0",
            "_model_name": "DescriptionStyleModel",
            "_view_count": null,
            "_view_module": "@jupyter-widgets/base",
            "_view_module_version": "1.2.0",
            "_view_name": "StyleView",
            "description_width": ""
          }
        },
        "14ef0597ac1e47abaf1e2f6ccc3f093f": {
          "model_module": "@jupyter-widgets/base",
          "model_module_version": "1.2.0",
          "model_name": "LayoutModel",
          "state": {
            "_model_module": "@jupyter-widgets/base",
            "_model_module_version": "1.2.0",
            "_model_name": "LayoutModel",
            "_view_count": null,
            "_view_module": "@jupyter-widgets/base",
            "_view_module_version": "1.2.0",
            "_view_name": "LayoutView",
            "align_content": null,
            "align_items": null,
            "align_self": null,
            "border": null,
            "bottom": null,
            "display": null,
            "flex": null,
            "flex_flow": null,
            "grid_area": null,
            "grid_auto_columns": null,
            "grid_auto_flow": null,
            "grid_auto_rows": null,
            "grid_column": null,
            "grid_gap": null,
            "grid_row": null,
            "grid_template_areas": null,
            "grid_template_columns": null,
            "grid_template_rows": null,
            "height": null,
            "justify_content": null,
            "justify_items": null,
            "left": null,
            "margin": null,
            "max_height": null,
            "max_width": null,
            "min_height": null,
            "min_width": null,
            "object_fit": null,
            "object_position": null,
            "order": null,
            "overflow": null,
            "overflow_x": null,
            "overflow_y": null,
            "padding": null,
            "right": null,
            "top": null,
            "visibility": null,
            "width": null
          }
        },
        "16b3ce32e7c04e40a08eadbb1eb885fa": {
          "model_module": "@jupyter-widgets/base",
          "model_module_version": "1.2.0",
          "model_name": "LayoutModel",
          "state": {
            "_model_module": "@jupyter-widgets/base",
            "_model_module_version": "1.2.0",
            "_model_name": "LayoutModel",
            "_view_count": null,
            "_view_module": "@jupyter-widgets/base",
            "_view_module_version": "1.2.0",
            "_view_name": "LayoutView",
            "align_content": null,
            "align_items": null,
            "align_self": null,
            "border": null,
            "bottom": null,
            "display": null,
            "flex": null,
            "flex_flow": null,
            "grid_area": null,
            "grid_auto_columns": null,
            "grid_auto_flow": null,
            "grid_auto_rows": null,
            "grid_column": null,
            "grid_gap": null,
            "grid_row": null,
            "grid_template_areas": null,
            "grid_template_columns": null,
            "grid_template_rows": null,
            "height": null,
            "justify_content": null,
            "justify_items": null,
            "left": null,
            "margin": null,
            "max_height": null,
            "max_width": null,
            "min_height": null,
            "min_width": null,
            "object_fit": null,
            "object_position": null,
            "order": null,
            "overflow": null,
            "overflow_x": null,
            "overflow_y": null,
            "padding": null,
            "right": null,
            "top": null,
            "visibility": null,
            "width": null
          }
        },
        "18e37cfec37f4ac8a3b78fceac441fc8": {
          "model_module": "@jupyter-widgets/controls",
          "model_module_version": "1.5.0",
          "model_name": "DescriptionStyleModel",
          "state": {
            "_model_module": "@jupyter-widgets/controls",
            "_model_module_version": "1.5.0",
            "_model_name": "DescriptionStyleModel",
            "_view_count": null,
            "_view_module": "@jupyter-widgets/base",
            "_view_module_version": "1.2.0",
            "_view_name": "StyleView",
            "description_width": ""
          }
        },
        "1bffad5f8082444a8c13576a250d7794": {
          "model_module": "@jupyter-widgets/controls",
          "model_module_version": "1.5.0",
          "model_name": "HBoxModel",
          "state": {
            "_dom_classes": [],
            "_model_module": "@jupyter-widgets/controls",
            "_model_module_version": "1.5.0",
            "_model_name": "HBoxModel",
            "_view_count": null,
            "_view_module": "@jupyter-widgets/controls",
            "_view_module_version": "1.5.0",
            "_view_name": "HBoxView",
            "box_style": "",
            "children": [
              "IPY_MODEL_bd1bc8edac894b9e9022c0fb37e86a4b",
              "IPY_MODEL_f29cae2c55f14cec9e3fc64247c41efd",
              "IPY_MODEL_054a86b643f84ae4912cebb5a73169c5"
            ],
            "layout": "IPY_MODEL_2450b90b6d8347a0b660f851e4964917"
          }
        },
        "1d202d261c6744b1ad60ba56a109c0af": {
          "model_module": "@jupyter-widgets/controls",
          "model_module_version": "1.5.0",
          "model_name": "HTMLModel",
          "state": {
            "_dom_classes": [],
            "_model_module": "@jupyter-widgets/controls",
            "_model_module_version": "1.5.0",
            "_model_name": "HTMLModel",
            "_view_count": null,
            "_view_module": "@jupyter-widgets/controls",
            "_view_module_version": "1.5.0",
            "_view_name": "HTMLView",
            "description": "",
            "description_tooltip": null,
            "layout": "IPY_MODEL_8bb4cca3824e4ccf8c2f51ec134d5ee0",
            "placeholder": "​",
            "style": "IPY_MODEL_04d6f59abd99464aa3883b4167d54447",
            "value": " 2/2 [00:24&lt;00:00, 10.58s/it]"
          }
        },
        "1d235814902744cd9c267c9ac9b57234": {
          "model_module": "@jupyter-widgets/controls",
          "model_module_version": "1.5.0",
          "model_name": "FloatProgressModel",
          "state": {
            "_dom_classes": [],
            "_model_module": "@jupyter-widgets/controls",
            "_model_module_version": "1.5.0",
            "_model_name": "FloatProgressModel",
            "_view_count": null,
            "_view_module": "@jupyter-widgets/controls",
            "_view_module_version": "1.5.0",
            "_view_name": "ProgressView",
            "bar_style": "success",
            "description": "",
            "description_tooltip": null,
            "layout": "IPY_MODEL_67800f430eb64187b5d2d4099475b670",
            "max": 2,
            "min": 0,
            "orientation": "horizontal",
            "style": "IPY_MODEL_b3b4de2c40634cbb8c281fc607654943",
            "value": 2
          }
        },
        "1dc683f0ad0b47f6af0ed8e27cc30baa": {
          "model_module": "@jupyter-widgets/controls",
          "model_module_version": "1.5.0",
          "model_name": "FloatProgressModel",
          "state": {
            "_dom_classes": [],
            "_model_module": "@jupyter-widgets/controls",
            "_model_module_version": "1.5.0",
            "_model_name": "FloatProgressModel",
            "_view_count": null,
            "_view_module": "@jupyter-widgets/controls",
            "_view_module_version": "1.5.0",
            "_view_name": "ProgressView",
            "bar_style": "success",
            "description": "",
            "description_tooltip": null,
            "layout": "IPY_MODEL_a6c0bbb712ec421cb06b641e0cd9a7d7",
            "max": 9258,
            "min": 0,
            "orientation": "horizontal",
            "style": "IPY_MODEL_ae6aae40078e45bc95fa86ddf3085230",
            "value": 9258
          }
        },
        "1f2d535234304a3b94fb2e155147c77c": {
          "model_module": "@jupyter-widgets/base",
          "model_module_version": "1.2.0",
          "model_name": "LayoutModel",
          "state": {
            "_model_module": "@jupyter-widgets/base",
            "_model_module_version": "1.2.0",
            "_model_name": "LayoutModel",
            "_view_count": null,
            "_view_module": "@jupyter-widgets/base",
            "_view_module_version": "1.2.0",
            "_view_name": "LayoutView",
            "align_content": null,
            "align_items": null,
            "align_self": null,
            "border": null,
            "bottom": null,
            "display": null,
            "flex": null,
            "flex_flow": null,
            "grid_area": null,
            "grid_auto_columns": null,
            "grid_auto_flow": null,
            "grid_auto_rows": null,
            "grid_column": null,
            "grid_gap": null,
            "grid_row": null,
            "grid_template_areas": null,
            "grid_template_columns": null,
            "grid_template_rows": null,
            "height": null,
            "justify_content": null,
            "justify_items": null,
            "left": null,
            "margin": null,
            "max_height": null,
            "max_width": null,
            "min_height": null,
            "min_width": null,
            "object_fit": null,
            "object_position": null,
            "order": null,
            "overflow": null,
            "overflow_x": null,
            "overflow_y": null,
            "padding": null,
            "right": null,
            "top": null,
            "visibility": null,
            "width": null
          }
        },
        "20237494aa7d4b64b7f8cf45f9898ad4": {
          "model_module": "@jupyter-widgets/base",
          "model_module_version": "1.2.0",
          "model_name": "LayoutModel",
          "state": {
            "_model_module": "@jupyter-widgets/base",
            "_model_module_version": "1.2.0",
            "_model_name": "LayoutModel",
            "_view_count": null,
            "_view_module": "@jupyter-widgets/base",
            "_view_module_version": "1.2.0",
            "_view_name": "LayoutView",
            "align_content": null,
            "align_items": null,
            "align_self": null,
            "border": null,
            "bottom": null,
            "display": null,
            "flex": null,
            "flex_flow": null,
            "grid_area": null,
            "grid_auto_columns": null,
            "grid_auto_flow": null,
            "grid_auto_rows": null,
            "grid_column": null,
            "grid_gap": null,
            "grid_row": null,
            "grid_template_areas": null,
            "grid_template_columns": null,
            "grid_template_rows": null,
            "height": null,
            "justify_content": null,
            "justify_items": null,
            "left": null,
            "margin": null,
            "max_height": null,
            "max_width": null,
            "min_height": null,
            "min_width": null,
            "object_fit": null,
            "object_position": null,
            "order": null,
            "overflow": null,
            "overflow_x": null,
            "overflow_y": null,
            "padding": null,
            "right": null,
            "top": null,
            "visibility": null,
            "width": null
          }
        },
        "23590bcabfb549eab70329f67949ce7d": {
          "model_module": "@jupyter-widgets/controls",
          "model_module_version": "1.5.0",
          "model_name": "DescriptionStyleModel",
          "state": {
            "_model_module": "@jupyter-widgets/controls",
            "_model_module_version": "1.5.0",
            "_model_name": "DescriptionStyleModel",
            "_view_count": null,
            "_view_module": "@jupyter-widgets/base",
            "_view_module_version": "1.2.0",
            "_view_name": "StyleView",
            "description_width": ""
          }
        },
        "23d108549718488eadfdb08197427b3c": {
          "model_module": "@jupyter-widgets/base",
          "model_module_version": "1.2.0",
          "model_name": "LayoutModel",
          "state": {
            "_model_module": "@jupyter-widgets/base",
            "_model_module_version": "1.2.0",
            "_model_name": "LayoutModel",
            "_view_count": null,
            "_view_module": "@jupyter-widgets/base",
            "_view_module_version": "1.2.0",
            "_view_name": "LayoutView",
            "align_content": null,
            "align_items": null,
            "align_self": null,
            "border": null,
            "bottom": null,
            "display": null,
            "flex": null,
            "flex_flow": null,
            "grid_area": null,
            "grid_auto_columns": null,
            "grid_auto_flow": null,
            "grid_auto_rows": null,
            "grid_column": null,
            "grid_gap": null,
            "grid_row": null,
            "grid_template_areas": null,
            "grid_template_columns": null,
            "grid_template_rows": null,
            "height": null,
            "justify_content": null,
            "justify_items": null,
            "left": null,
            "margin": null,
            "max_height": null,
            "max_width": null,
            "min_height": null,
            "min_width": null,
            "object_fit": null,
            "object_position": null,
            "order": null,
            "overflow": null,
            "overflow_x": null,
            "overflow_y": null,
            "padding": null,
            "right": null,
            "top": null,
            "visibility": null,
            "width": null
          }
        },
        "2450b90b6d8347a0b660f851e4964917": {
          "model_module": "@jupyter-widgets/base",
          "model_module_version": "1.2.0",
          "model_name": "LayoutModel",
          "state": {
            "_model_module": "@jupyter-widgets/base",
            "_model_module_version": "1.2.0",
            "_model_name": "LayoutModel",
            "_view_count": null,
            "_view_module": "@jupyter-widgets/base",
            "_view_module_version": "1.2.0",
            "_view_name": "LayoutView",
            "align_content": null,
            "align_items": null,
            "align_self": null,
            "border": null,
            "bottom": null,
            "display": null,
            "flex": null,
            "flex_flow": null,
            "grid_area": null,
            "grid_auto_columns": null,
            "grid_auto_flow": null,
            "grid_auto_rows": null,
            "grid_column": null,
            "grid_gap": null,
            "grid_row": null,
            "grid_template_areas": null,
            "grid_template_columns": null,
            "grid_template_rows": null,
            "height": null,
            "justify_content": null,
            "justify_items": null,
            "left": null,
            "margin": null,
            "max_height": null,
            "max_width": null,
            "min_height": null,
            "min_width": null,
            "object_fit": null,
            "object_position": null,
            "order": null,
            "overflow": null,
            "overflow_x": null,
            "overflow_y": null,
            "padding": null,
            "right": null,
            "top": null,
            "visibility": null,
            "width": null
          }
        },
        "25cd2fe1223949c28d60c5b2ad915f34": {
          "model_module": "@jupyter-widgets/controls",
          "model_module_version": "1.5.0",
          "model_name": "ProgressStyleModel",
          "state": {
            "_model_module": "@jupyter-widgets/controls",
            "_model_module_version": "1.5.0",
            "_model_name": "ProgressStyleModel",
            "_view_count": null,
            "_view_module": "@jupyter-widgets/base",
            "_view_module_version": "1.2.0",
            "_view_name": "StyleView",
            "bar_color": null,
            "description_width": ""
          }
        },
        "28a3bcbb85744d2a9fa096f7bcdb7672": {
          "model_module": "@jupyter-widgets/controls",
          "model_module_version": "1.5.0",
          "model_name": "ProgressStyleModel",
          "state": {
            "_model_module": "@jupyter-widgets/controls",
            "_model_module_version": "1.5.0",
            "_model_name": "ProgressStyleModel",
            "_view_count": null,
            "_view_module": "@jupyter-widgets/base",
            "_view_module_version": "1.2.0",
            "_view_name": "StyleView",
            "bar_color": null,
            "description_width": ""
          }
        },
        "291908fa85a943eab0cd250708883b8c": {
          "model_module": "@jupyter-widgets/base",
          "model_module_version": "1.2.0",
          "model_name": "LayoutModel",
          "state": {
            "_model_module": "@jupyter-widgets/base",
            "_model_module_version": "1.2.0",
            "_model_name": "LayoutModel",
            "_view_count": null,
            "_view_module": "@jupyter-widgets/base",
            "_view_module_version": "1.2.0",
            "_view_name": "LayoutView",
            "align_content": null,
            "align_items": null,
            "align_self": null,
            "border": null,
            "bottom": null,
            "display": null,
            "flex": null,
            "flex_flow": null,
            "grid_area": null,
            "grid_auto_columns": null,
            "grid_auto_flow": null,
            "grid_auto_rows": null,
            "grid_column": null,
            "grid_gap": null,
            "grid_row": null,
            "grid_template_areas": null,
            "grid_template_columns": null,
            "grid_template_rows": null,
            "height": null,
            "justify_content": null,
            "justify_items": null,
            "left": null,
            "margin": null,
            "max_height": null,
            "max_width": null,
            "min_height": null,
            "min_width": null,
            "object_fit": null,
            "object_position": null,
            "order": null,
            "overflow": null,
            "overflow_x": null,
            "overflow_y": null,
            "padding": null,
            "right": null,
            "top": null,
            "visibility": null,
            "width": null
          }
        },
        "2b97b3a74d874f6c897b7e3fc25ea9ee": {
          "model_module": "@jupyter-widgets/controls",
          "model_module_version": "1.5.0",
          "model_name": "DescriptionStyleModel",
          "state": {
            "_model_module": "@jupyter-widgets/controls",
            "_model_module_version": "1.5.0",
            "_model_name": "DescriptionStyleModel",
            "_view_count": null,
            "_view_module": "@jupyter-widgets/base",
            "_view_module_version": "1.2.0",
            "_view_name": "StyleView",
            "description_width": ""
          }
        },
        "2ff17ab018dc4fcc8d9179a6f52d3f01": {
          "model_module": "@jupyter-widgets/controls",
          "model_module_version": "1.5.0",
          "model_name": "HBoxModel",
          "state": {
            "_dom_classes": [],
            "_model_module": "@jupyter-widgets/controls",
            "_model_module_version": "1.5.0",
            "_model_name": "HBoxModel",
            "_view_count": null,
            "_view_module": "@jupyter-widgets/controls",
            "_view_module_version": "1.5.0",
            "_view_name": "HBoxView",
            "box_style": "",
            "children": [
              "IPY_MODEL_9e815b06a80c49138befaa460422d7a4",
              "IPY_MODEL_a0a766d12e144edeb5f569d4c62ed44b",
              "IPY_MODEL_e1844b13c6234f6cb3cbd75d95fe8624"
            ],
            "layout": "IPY_MODEL_9742a07a05ca4514bb030b52c56d51ea"
          }
        },
        "2ff2dafa2205484aa1316d16ab973d21": {
          "model_module": "@jupyter-widgets/controls",
          "model_module_version": "1.5.0",
          "model_name": "DescriptionStyleModel",
          "state": {
            "_model_module": "@jupyter-widgets/controls",
            "_model_module_version": "1.5.0",
            "_model_name": "DescriptionStyleModel",
            "_view_count": null,
            "_view_module": "@jupyter-widgets/base",
            "_view_module_version": "1.2.0",
            "_view_name": "StyleView",
            "description_width": ""
          }
        },
        "301ebd4ccdad464eaa57f6771efd6720": {
          "model_module": "@jupyter-widgets/base",
          "model_module_version": "1.2.0",
          "model_name": "LayoutModel",
          "state": {
            "_model_module": "@jupyter-widgets/base",
            "_model_module_version": "1.2.0",
            "_model_name": "LayoutModel",
            "_view_count": null,
            "_view_module": "@jupyter-widgets/base",
            "_view_module_version": "1.2.0",
            "_view_name": "LayoutView",
            "align_content": null,
            "align_items": null,
            "align_self": null,
            "border": null,
            "bottom": null,
            "display": null,
            "flex": null,
            "flex_flow": null,
            "grid_area": null,
            "grid_auto_columns": null,
            "grid_auto_flow": null,
            "grid_auto_rows": null,
            "grid_column": null,
            "grid_gap": null,
            "grid_row": null,
            "grid_template_areas": null,
            "grid_template_columns": null,
            "grid_template_rows": null,
            "height": null,
            "justify_content": null,
            "justify_items": null,
            "left": null,
            "margin": null,
            "max_height": null,
            "max_width": null,
            "min_height": null,
            "min_width": null,
            "object_fit": null,
            "object_position": null,
            "order": null,
            "overflow": null,
            "overflow_x": null,
            "overflow_y": null,
            "padding": null,
            "right": null,
            "top": null,
            "visibility": null,
            "width": null
          }
        },
        "30516a4ca50e4ecaaab3bd79784ab93b": {
          "model_module": "@jupyter-widgets/controls",
          "model_module_version": "1.5.0",
          "model_name": "DescriptionStyleModel",
          "state": {
            "_model_module": "@jupyter-widgets/controls",
            "_model_module_version": "1.5.0",
            "_model_name": "DescriptionStyleModel",
            "_view_count": null,
            "_view_module": "@jupyter-widgets/base",
            "_view_module_version": "1.2.0",
            "_view_name": "StyleView",
            "description_width": ""
          }
        },
        "317e76910d3240f98ec7702ececeab05": {
          "model_module": "@jupyter-widgets/base",
          "model_module_version": "1.2.0",
          "model_name": "LayoutModel",
          "state": {
            "_model_module": "@jupyter-widgets/base",
            "_model_module_version": "1.2.0",
            "_model_name": "LayoutModel",
            "_view_count": null,
            "_view_module": "@jupyter-widgets/base",
            "_view_module_version": "1.2.0",
            "_view_name": "LayoutView",
            "align_content": null,
            "align_items": null,
            "align_self": null,
            "border": null,
            "bottom": null,
            "display": null,
            "flex": null,
            "flex_flow": null,
            "grid_area": null,
            "grid_auto_columns": null,
            "grid_auto_flow": null,
            "grid_auto_rows": null,
            "grid_column": null,
            "grid_gap": null,
            "grid_row": null,
            "grid_template_areas": null,
            "grid_template_columns": null,
            "grid_template_rows": null,
            "height": null,
            "justify_content": null,
            "justify_items": null,
            "left": null,
            "margin": null,
            "max_height": null,
            "max_width": null,
            "min_height": null,
            "min_width": null,
            "object_fit": null,
            "object_position": null,
            "order": null,
            "overflow": null,
            "overflow_x": null,
            "overflow_y": null,
            "padding": null,
            "right": null,
            "top": null,
            "visibility": null,
            "width": null
          }
        },
        "32c9eb42f6fe4961a4d0b5df33075c4e": {
          "model_module": "@jupyter-widgets/controls",
          "model_module_version": "1.5.0",
          "model_name": "HTMLModel",
          "state": {
            "_dom_classes": [],
            "_model_module": "@jupyter-widgets/controls",
            "_model_module_version": "1.5.0",
            "_model_name": "HTMLModel",
            "_view_count": null,
            "_view_module": "@jupyter-widgets/controls",
            "_view_module_version": "1.5.0",
            "_view_name": "HTMLView",
            "description": "",
            "description_tooltip": null,
            "layout": "IPY_MODEL_d7ccd676ef954d61885ae4ec847cb3b8",
            "placeholder": "​",
            "style": "IPY_MODEL_0601b922ee674473a9a1fd93333d9c2c",
            "value": " 863/863 [00:00&lt;00:00, 33.4kB/s]"
          }
        },
        "32eb2faf09854001ae6f7a9e19dbdc98": {
          "model_module": "@jupyter-widgets/base",
          "model_module_version": "1.2.0",
          "model_name": "LayoutModel",
          "state": {
            "_model_module": "@jupyter-widgets/base",
            "_model_module_version": "1.2.0",
            "_model_name": "LayoutModel",
            "_view_count": null,
            "_view_module": "@jupyter-widgets/base",
            "_view_module_version": "1.2.0",
            "_view_name": "LayoutView",
            "align_content": null,
            "align_items": null,
            "align_self": null,
            "border": null,
            "bottom": null,
            "display": null,
            "flex": null,
            "flex_flow": null,
            "grid_area": null,
            "grid_auto_columns": null,
            "grid_auto_flow": null,
            "grid_auto_rows": null,
            "grid_column": null,
            "grid_gap": null,
            "grid_row": null,
            "grid_template_areas": null,
            "grid_template_columns": null,
            "grid_template_rows": null,
            "height": null,
            "justify_content": null,
            "justify_items": null,
            "left": null,
            "margin": null,
            "max_height": null,
            "max_width": null,
            "min_height": null,
            "min_width": null,
            "object_fit": null,
            "object_position": null,
            "order": null,
            "overflow": null,
            "overflow_x": null,
            "overflow_y": null,
            "padding": null,
            "right": null,
            "top": null,
            "visibility": null,
            "width": null
          }
        },
        "333edf81244141fb8974045085757814": {
          "model_module": "@jupyter-widgets/base",
          "model_module_version": "1.2.0",
          "model_name": "LayoutModel",
          "state": {
            "_model_module": "@jupyter-widgets/base",
            "_model_module_version": "1.2.0",
            "_model_name": "LayoutModel",
            "_view_count": null,
            "_view_module": "@jupyter-widgets/base",
            "_view_module_version": "1.2.0",
            "_view_name": "LayoutView",
            "align_content": null,
            "align_items": null,
            "align_self": null,
            "border": null,
            "bottom": null,
            "display": null,
            "flex": null,
            "flex_flow": null,
            "grid_area": null,
            "grid_auto_columns": null,
            "grid_auto_flow": null,
            "grid_auto_rows": null,
            "grid_column": null,
            "grid_gap": null,
            "grid_row": null,
            "grid_template_areas": null,
            "grid_template_columns": null,
            "grid_template_rows": null,
            "height": null,
            "justify_content": null,
            "justify_items": null,
            "left": null,
            "margin": null,
            "max_height": null,
            "max_width": null,
            "min_height": null,
            "min_width": null,
            "object_fit": null,
            "object_position": null,
            "order": null,
            "overflow": null,
            "overflow_x": null,
            "overflow_y": null,
            "padding": null,
            "right": null,
            "top": null,
            "visibility": null,
            "width": null
          }
        },
        "3567042461a04f68a4af4d19b5ab2dea": {
          "model_module": "@jupyter-widgets/controls",
          "model_module_version": "1.5.0",
          "model_name": "DescriptionStyleModel",
          "state": {
            "_model_module": "@jupyter-widgets/controls",
            "_model_module_version": "1.5.0",
            "_model_name": "DescriptionStyleModel",
            "_view_count": null,
            "_view_module": "@jupyter-widgets/base",
            "_view_module_version": "1.2.0",
            "_view_name": "StyleView",
            "description_width": ""
          }
        },
        "39344d8898b54769b5fd98ce1ee655b3": {
          "model_module": "@jupyter-widgets/base",
          "model_module_version": "1.2.0",
          "model_name": "LayoutModel",
          "state": {
            "_model_module": "@jupyter-widgets/base",
            "_model_module_version": "1.2.0",
            "_model_name": "LayoutModel",
            "_view_count": null,
            "_view_module": "@jupyter-widgets/base",
            "_view_module_version": "1.2.0",
            "_view_name": "LayoutView",
            "align_content": null,
            "align_items": null,
            "align_self": null,
            "border": null,
            "bottom": null,
            "display": null,
            "flex": null,
            "flex_flow": null,
            "grid_area": null,
            "grid_auto_columns": null,
            "grid_auto_flow": null,
            "grid_auto_rows": null,
            "grid_column": null,
            "grid_gap": null,
            "grid_row": null,
            "grid_template_areas": null,
            "grid_template_columns": null,
            "grid_template_rows": null,
            "height": null,
            "justify_content": null,
            "justify_items": null,
            "left": null,
            "margin": null,
            "max_height": null,
            "max_width": null,
            "min_height": null,
            "min_width": null,
            "object_fit": null,
            "object_position": null,
            "order": null,
            "overflow": null,
            "overflow_x": null,
            "overflow_y": null,
            "padding": null,
            "right": null,
            "top": null,
            "visibility": null,
            "width": null
          }
        },
        "3ad31eb4a6fe494b99d773deff1eb789": {
          "model_module": "@jupyter-widgets/base",
          "model_module_version": "1.2.0",
          "model_name": "LayoutModel",
          "state": {
            "_model_module": "@jupyter-widgets/base",
            "_model_module_version": "1.2.0",
            "_model_name": "LayoutModel",
            "_view_count": null,
            "_view_module": "@jupyter-widgets/base",
            "_view_module_version": "1.2.0",
            "_view_name": "LayoutView",
            "align_content": null,
            "align_items": null,
            "align_self": null,
            "border": null,
            "bottom": null,
            "display": null,
            "flex": null,
            "flex_flow": null,
            "grid_area": null,
            "grid_auto_columns": null,
            "grid_auto_flow": null,
            "grid_auto_rows": null,
            "grid_column": null,
            "grid_gap": null,
            "grid_row": null,
            "grid_template_areas": null,
            "grid_template_columns": null,
            "grid_template_rows": null,
            "height": null,
            "justify_content": null,
            "justify_items": null,
            "left": null,
            "margin": null,
            "max_height": null,
            "max_width": null,
            "min_height": null,
            "min_width": null,
            "object_fit": null,
            "object_position": null,
            "order": null,
            "overflow": null,
            "overflow_x": null,
            "overflow_y": null,
            "padding": null,
            "right": null,
            "top": null,
            "visibility": null,
            "width": null
          }
        },
        "3b3c9da43380451cb3da96f582203365": {
          "model_module": "@jupyter-widgets/base",
          "model_module_version": "1.2.0",
          "model_name": "LayoutModel",
          "state": {
            "_model_module": "@jupyter-widgets/base",
            "_model_module_version": "1.2.0",
            "_model_name": "LayoutModel",
            "_view_count": null,
            "_view_module": "@jupyter-widgets/base",
            "_view_module_version": "1.2.0",
            "_view_name": "LayoutView",
            "align_content": null,
            "align_items": null,
            "align_self": null,
            "border": null,
            "bottom": null,
            "display": null,
            "flex": null,
            "flex_flow": null,
            "grid_area": null,
            "grid_auto_columns": null,
            "grid_auto_flow": null,
            "grid_auto_rows": null,
            "grid_column": null,
            "grid_gap": null,
            "grid_row": null,
            "grid_template_areas": null,
            "grid_template_columns": null,
            "grid_template_rows": null,
            "height": null,
            "justify_content": null,
            "justify_items": null,
            "left": null,
            "margin": null,
            "max_height": null,
            "max_width": null,
            "min_height": null,
            "min_width": null,
            "object_fit": null,
            "object_position": null,
            "order": null,
            "overflow": null,
            "overflow_x": null,
            "overflow_y": null,
            "padding": null,
            "right": null,
            "top": null,
            "visibility": null,
            "width": null
          }
        },
        "41beb548b76445de9368f55fcd4d3be5": {
          "model_module": "@jupyter-widgets/controls",
          "model_module_version": "1.5.0",
          "model_name": "FloatProgressModel",
          "state": {
            "_dom_classes": [],
            "_model_module": "@jupyter-widgets/controls",
            "_model_module_version": "1.5.0",
            "_model_name": "FloatProgressModel",
            "_view_count": null,
            "_view_module": "@jupyter-widgets/controls",
            "_view_module_version": "1.5.0",
            "_view_name": "ProgressView",
            "bar_style": "success",
            "description": "",
            "description_tooltip": null,
            "layout": "IPY_MODEL_0e7fcdd2c2234c81b106222521b66b35",
            "max": 7339,
            "min": 0,
            "orientation": "horizontal",
            "style": "IPY_MODEL_b1a0be23aa8a4449b1648ea10b28b6e1",
            "value": 7339
          }
        },
        "454194ab468340be87705efdab904eaa": {
          "model_module": "@jupyter-widgets/controls",
          "model_module_version": "1.5.0",
          "model_name": "HTMLModel",
          "state": {
            "_dom_classes": [],
            "_model_module": "@jupyter-widgets/controls",
            "_model_module_version": "1.5.0",
            "_model_name": "HTMLModel",
            "_view_count": null,
            "_view_module": "@jupyter-widgets/controls",
            "_view_module_version": "1.5.0",
            "_view_name": "HTMLView",
            "description": "",
            "description_tooltip": null,
            "layout": "IPY_MODEL_301ebd4ccdad464eaa57f6771efd6720",
            "placeholder": "​",
            "style": "IPY_MODEL_4b29813588ce40f496c7237e3ad30b39",
            "value": "special_tokens_map.json: 100%"
          }
        },
        "4a8f0edf63044b43bb8eedb9d4a190f7": {
          "model_module": "@jupyter-widgets/base",
          "model_module_version": "1.2.0",
          "model_name": "LayoutModel",
          "state": {
            "_model_module": "@jupyter-widgets/base",
            "_model_module_version": "1.2.0",
            "_model_name": "LayoutModel",
            "_view_count": null,
            "_view_module": "@jupyter-widgets/base",
            "_view_module_version": "1.2.0",
            "_view_name": "LayoutView",
            "align_content": null,
            "align_items": null,
            "align_self": null,
            "border": null,
            "bottom": null,
            "display": null,
            "flex": null,
            "flex_flow": null,
            "grid_area": null,
            "grid_auto_columns": null,
            "grid_auto_flow": null,
            "grid_auto_rows": null,
            "grid_column": null,
            "grid_gap": null,
            "grid_row": null,
            "grid_template_areas": null,
            "grid_template_columns": null,
            "grid_template_rows": null,
            "height": null,
            "justify_content": null,
            "justify_items": null,
            "left": null,
            "margin": null,
            "max_height": null,
            "max_width": null,
            "min_height": null,
            "min_width": null,
            "object_fit": null,
            "object_position": null,
            "order": null,
            "overflow": null,
            "overflow_x": null,
            "overflow_y": null,
            "padding": null,
            "right": null,
            "top": null,
            "visibility": null,
            "width": null
          }
        },
        "4b29813588ce40f496c7237e3ad30b39": {
          "model_module": "@jupyter-widgets/controls",
          "model_module_version": "1.5.0",
          "model_name": "DescriptionStyleModel",
          "state": {
            "_model_module": "@jupyter-widgets/controls",
            "_model_module_version": "1.5.0",
            "_model_name": "DescriptionStyleModel",
            "_view_count": null,
            "_view_module": "@jupyter-widgets/base",
            "_view_module_version": "1.2.0",
            "_view_name": "StyleView",
            "description_width": ""
          }
        },
        "4d977ef0f26d4cbb8cbb00f0549f24ab": {
          "model_module": "@jupyter-widgets/controls",
          "model_module_version": "1.5.0",
          "model_name": "HTMLModel",
          "state": {
            "_dom_classes": [],
            "_model_module": "@jupyter-widgets/controls",
            "_model_module_version": "1.5.0",
            "_model_name": "HTMLModel",
            "_view_count": null,
            "_view_module": "@jupyter-widgets/controls",
            "_view_module_version": "1.5.0",
            "_view_name": "HTMLView",
            "description": "",
            "description_tooltip": null,
            "layout": "IPY_MODEL_3b3c9da43380451cb3da96f582203365",
            "placeholder": "​",
            "style": "IPY_MODEL_2b97b3a74d874f6c897b7e3fc25ea9ee",
            "value": " 1.08k/1.08k [00:00&lt;00:00, 56.3kB/s]"
          }
        },
        "4eb7de96c437443582099d3b7b66eb8b": {
          "model_module": "@jupyter-widgets/controls",
          "model_module_version": "1.5.0",
          "model_name": "DescriptionStyleModel",
          "state": {
            "_model_module": "@jupyter-widgets/controls",
            "_model_module_version": "1.5.0",
            "_model_name": "DescriptionStyleModel",
            "_view_count": null,
            "_view_module": "@jupyter-widgets/base",
            "_view_module_version": "1.2.0",
            "_view_name": "StyleView",
            "description_width": ""
          }
        },
        "5181601585da4c8290bc82d615785207": {
          "model_module": "@jupyter-widgets/controls",
          "model_module_version": "1.5.0",
          "model_name": "ProgressStyleModel",
          "state": {
            "_model_module": "@jupyter-widgets/controls",
            "_model_module_version": "1.5.0",
            "_model_name": "ProgressStyleModel",
            "_view_count": null,
            "_view_module": "@jupyter-widgets/base",
            "_view_module_version": "1.2.0",
            "_view_name": "StyleView",
            "bar_color": null,
            "description_width": ""
          }
        },
        "56e1ee1575094a469c7fcc9d0cbe6c42": {
          "model_module": "@jupyter-widgets/controls",
          "model_module_version": "1.5.0",
          "model_name": "HBoxModel",
          "state": {
            "_dom_classes": [],
            "_model_module": "@jupyter-widgets/controls",
            "_model_module_version": "1.5.0",
            "_model_name": "HBoxModel",
            "_view_count": null,
            "_view_module": "@jupyter-widgets/controls",
            "_view_module_version": "1.5.0",
            "_view_name": "HBoxView",
            "box_style": "",
            "children": [
              "IPY_MODEL_acb8a40cfd3d46fc9d54bfda0ce326ea",
              "IPY_MODEL_00749df0446a4f789cb43e9dd97705ec",
              "IPY_MODEL_c136bfe7279d48508f2345f18cc8ae79"
            ],
            "layout": "IPY_MODEL_0825d081b988430ebd4f6072f2edf519"
          }
        },
        "5a707d4c767a41c3b2f99b60a0ee5151": {
          "model_module": "@jupyter-widgets/controls",
          "model_module_version": "1.5.0",
          "model_name": "HBoxModel",
          "state": {
            "_dom_classes": [],
            "_model_module": "@jupyter-widgets/controls",
            "_model_module_version": "1.5.0",
            "_model_name": "HBoxModel",
            "_view_count": null,
            "_view_module": "@jupyter-widgets/controls",
            "_view_module_version": "1.5.0",
            "_view_name": "HBoxView",
            "box_style": "",
            "children": [
              "IPY_MODEL_825cae2b6f9a4216b52bb95968b9ca54",
              "IPY_MODEL_971c045ec15e4e69bd39d36b07b9c72f",
              "IPY_MODEL_e5dc6577a8e04dd3a143dc87688a587a"
            ],
            "layout": "IPY_MODEL_ec72bee9c29f4ae298370843fbc16dcc"
          }
        },
        "5c96298d64c8421395964f815d19ea8b": {
          "model_module": "@jupyter-widgets/base",
          "model_module_version": "1.2.0",
          "model_name": "LayoutModel",
          "state": {
            "_model_module": "@jupyter-widgets/base",
            "_model_module_version": "1.2.0",
            "_model_name": "LayoutModel",
            "_view_count": null,
            "_view_module": "@jupyter-widgets/base",
            "_view_module_version": "1.2.0",
            "_view_name": "LayoutView",
            "align_content": null,
            "align_items": null,
            "align_self": null,
            "border": null,
            "bottom": null,
            "display": null,
            "flex": null,
            "flex_flow": null,
            "grid_area": null,
            "grid_auto_columns": null,
            "grid_auto_flow": null,
            "grid_auto_rows": null,
            "grid_column": null,
            "grid_gap": null,
            "grid_row": null,
            "grid_template_areas": null,
            "grid_template_columns": null,
            "grid_template_rows": null,
            "height": null,
            "justify_content": null,
            "justify_items": null,
            "left": null,
            "margin": null,
            "max_height": null,
            "max_width": null,
            "min_height": null,
            "min_width": null,
            "object_fit": null,
            "object_position": null,
            "order": null,
            "overflow": null,
            "overflow_x": null,
            "overflow_y": null,
            "padding": null,
            "right": null,
            "top": null,
            "visibility": null,
            "width": null
          }
        },
        "601782ac6f5245388398879a90706f1d": {
          "model_module": "@jupyter-widgets/controls",
          "model_module_version": "1.5.0",
          "model_name": "ProgressStyleModel",
          "state": {
            "_model_module": "@jupyter-widgets/controls",
            "_model_module_version": "1.5.0",
            "_model_name": "ProgressStyleModel",
            "_view_count": null,
            "_view_module": "@jupyter-widgets/base",
            "_view_module_version": "1.2.0",
            "_view_name": "StyleView",
            "bar_color": null,
            "description_width": ""
          }
        },
        "6053fee330024816a5a4a290c636fe6a": {
          "model_module": "@jupyter-widgets/base",
          "model_module_version": "1.2.0",
          "model_name": "LayoutModel",
          "state": {
            "_model_module": "@jupyter-widgets/base",
            "_model_module_version": "1.2.0",
            "_model_name": "LayoutModel",
            "_view_count": null,
            "_view_module": "@jupyter-widgets/base",
            "_view_module_version": "1.2.0",
            "_view_name": "LayoutView",
            "align_content": null,
            "align_items": null,
            "align_self": null,
            "border": null,
            "bottom": null,
            "display": null,
            "flex": null,
            "flex_flow": null,
            "grid_area": null,
            "grid_auto_columns": null,
            "grid_auto_flow": null,
            "grid_auto_rows": null,
            "grid_column": null,
            "grid_gap": null,
            "grid_row": null,
            "grid_template_areas": null,
            "grid_template_columns": null,
            "grid_template_rows": null,
            "height": null,
            "justify_content": null,
            "justify_items": null,
            "left": null,
            "margin": null,
            "max_height": null,
            "max_width": null,
            "min_height": null,
            "min_width": null,
            "object_fit": null,
            "object_position": null,
            "order": null,
            "overflow": null,
            "overflow_x": null,
            "overflow_y": null,
            "padding": null,
            "right": null,
            "top": null,
            "visibility": null,
            "width": null
          }
        },
        "6530640f489c481fb54667fa17df9496": {
          "model_module": "@jupyter-widgets/base",
          "model_module_version": "1.2.0",
          "model_name": "LayoutModel",
          "state": {
            "_model_module": "@jupyter-widgets/base",
            "_model_module_version": "1.2.0",
            "_model_name": "LayoutModel",
            "_view_count": null,
            "_view_module": "@jupyter-widgets/base",
            "_view_module_version": "1.2.0",
            "_view_name": "LayoutView",
            "align_content": null,
            "align_items": null,
            "align_self": null,
            "border": null,
            "bottom": null,
            "display": null,
            "flex": null,
            "flex_flow": null,
            "grid_area": null,
            "grid_auto_columns": null,
            "grid_auto_flow": null,
            "grid_auto_rows": null,
            "grid_column": null,
            "grid_gap": null,
            "grid_row": null,
            "grid_template_areas": null,
            "grid_template_columns": null,
            "grid_template_rows": null,
            "height": null,
            "justify_content": null,
            "justify_items": null,
            "left": null,
            "margin": null,
            "max_height": null,
            "max_width": null,
            "min_height": null,
            "min_width": null,
            "object_fit": null,
            "object_position": null,
            "order": null,
            "overflow": null,
            "overflow_x": null,
            "overflow_y": null,
            "padding": null,
            "right": null,
            "top": null,
            "visibility": null,
            "width": null
          }
        },
        "658f1ffb2f344eb6a4ffbf43ad444ffa": {
          "model_module": "@jupyter-widgets/controls",
          "model_module_version": "1.5.0",
          "model_name": "HTMLModel",
          "state": {
            "_dom_classes": [],
            "_model_module": "@jupyter-widgets/controls",
            "_model_module_version": "1.5.0",
            "_model_name": "HTMLModel",
            "_view_count": null,
            "_view_module": "@jupyter-widgets/controls",
            "_view_module_version": "1.5.0",
            "_view_name": "HTMLView",
            "description": "",
            "description_tooltip": null,
            "layout": "IPY_MODEL_1f2d535234304a3b94fb2e155147c77c",
            "placeholder": "​",
            "style": "IPY_MODEL_9a15b09fea604b5794c79c23d6984cc4",
            "value": "tokenizer_config.json: 100%"
          }
        },
        "67800f430eb64187b5d2d4099475b670": {
          "model_module": "@jupyter-widgets/base",
          "model_module_version": "1.2.0",
          "model_name": "LayoutModel",
          "state": {
            "_model_module": "@jupyter-widgets/base",
            "_model_module_version": "1.2.0",
            "_model_name": "LayoutModel",
            "_view_count": null,
            "_view_module": "@jupyter-widgets/base",
            "_view_module_version": "1.2.0",
            "_view_name": "LayoutView",
            "align_content": null,
            "align_items": null,
            "align_self": null,
            "border": null,
            "bottom": null,
            "display": null,
            "flex": null,
            "flex_flow": null,
            "grid_area": null,
            "grid_auto_columns": null,
            "grid_auto_flow": null,
            "grid_auto_rows": null,
            "grid_column": null,
            "grid_gap": null,
            "grid_row": null,
            "grid_template_areas": null,
            "grid_template_columns": null,
            "grid_template_rows": null,
            "height": null,
            "justify_content": null,
            "justify_items": null,
            "left": null,
            "margin": null,
            "max_height": null,
            "max_width": null,
            "min_height": null,
            "min_width": null,
            "object_fit": null,
            "object_position": null,
            "order": null,
            "overflow": null,
            "overflow_x": null,
            "overflow_y": null,
            "padding": null,
            "right": null,
            "top": null,
            "visibility": null,
            "width": null
          }
        },
        "67c44e4f98914b5e8acc42d802fdcb76": {
          "model_module": "@jupyter-widgets/base",
          "model_module_version": "1.2.0",
          "model_name": "LayoutModel",
          "state": {
            "_model_module": "@jupyter-widgets/base",
            "_model_module_version": "1.2.0",
            "_model_name": "LayoutModel",
            "_view_count": null,
            "_view_module": "@jupyter-widgets/base",
            "_view_module_version": "1.2.0",
            "_view_name": "LayoutView",
            "align_content": null,
            "align_items": null,
            "align_self": null,
            "border": null,
            "bottom": null,
            "display": null,
            "flex": null,
            "flex_flow": null,
            "grid_area": null,
            "grid_auto_columns": null,
            "grid_auto_flow": null,
            "grid_auto_rows": null,
            "grid_column": null,
            "grid_gap": null,
            "grid_row": null,
            "grid_template_areas": null,
            "grid_template_columns": null,
            "grid_template_rows": null,
            "height": null,
            "justify_content": null,
            "justify_items": null,
            "left": null,
            "margin": null,
            "max_height": null,
            "max_width": null,
            "min_height": null,
            "min_width": null,
            "object_fit": null,
            "object_position": null,
            "order": null,
            "overflow": null,
            "overflow_x": null,
            "overflow_y": null,
            "padding": null,
            "right": null,
            "top": null,
            "visibility": null,
            "width": null
          }
        },
        "68a322cf394640d4ad374310e0e92e22": {
          "model_module": "@jupyter-widgets/controls",
          "model_module_version": "1.5.0",
          "model_name": "HTMLModel",
          "state": {
            "_dom_classes": [],
            "_model_module": "@jupyter-widgets/controls",
            "_model_module_version": "1.5.0",
            "_model_name": "HTMLModel",
            "_view_count": null,
            "_view_module": "@jupyter-widgets/controls",
            "_view_module_version": "1.5.0",
            "_view_name": "HTMLView",
            "description": "",
            "description_tooltip": null,
            "layout": "IPY_MODEL_ebda76bc19f84f5bb99e3467e75a321a",
            "placeholder": "​",
            "style": "IPY_MODEL_f20b554f0b8f4d109f6ce58f3c2af71f",
            "value": "config.json: 100%"
          }
        },
        "69984f352381426994924f5a6676e2a4": {
          "model_module": "@jupyter-widgets/controls",
          "model_module_version": "1.5.0",
          "model_name": "DescriptionStyleModel",
          "state": {
            "_model_module": "@jupyter-widgets/controls",
            "_model_module_version": "1.5.0",
            "_model_name": "DescriptionStyleModel",
            "_view_count": null,
            "_view_module": "@jupyter-widgets/base",
            "_view_module_version": "1.2.0",
            "_view_name": "StyleView",
            "description_width": ""
          }
        },
        "6a38b13624544b1aac00ce04c80a6b93": {
          "model_module": "@jupyter-widgets/base",
          "model_module_version": "1.2.0",
          "model_name": "LayoutModel",
          "state": {
            "_model_module": "@jupyter-widgets/base",
            "_model_module_version": "1.2.0",
            "_model_name": "LayoutModel",
            "_view_count": null,
            "_view_module": "@jupyter-widgets/base",
            "_view_module_version": "1.2.0",
            "_view_name": "LayoutView",
            "align_content": null,
            "align_items": null,
            "align_self": null,
            "border": null,
            "bottom": null,
            "display": null,
            "flex": null,
            "flex_flow": null,
            "grid_area": null,
            "grid_auto_columns": null,
            "grid_auto_flow": null,
            "grid_auto_rows": null,
            "grid_column": null,
            "grid_gap": null,
            "grid_row": null,
            "grid_template_areas": null,
            "grid_template_columns": null,
            "grid_template_rows": null,
            "height": null,
            "justify_content": null,
            "justify_items": null,
            "left": null,
            "margin": null,
            "max_height": null,
            "max_width": null,
            "min_height": null,
            "min_width": null,
            "object_fit": null,
            "object_position": null,
            "order": null,
            "overflow": null,
            "overflow_x": null,
            "overflow_y": null,
            "padding": null,
            "right": null,
            "top": null,
            "visibility": null,
            "width": null
          }
        },
        "6ffd284a4c8943d79aa013d43fa5881d": {
          "model_module": "@jupyter-widgets/controls",
          "model_module_version": "1.5.0",
          "model_name": "DescriptionStyleModel",
          "state": {
            "_model_module": "@jupyter-widgets/controls",
            "_model_module_version": "1.5.0",
            "_model_name": "DescriptionStyleModel",
            "_view_count": null,
            "_view_module": "@jupyter-widgets/base",
            "_view_module_version": "1.2.0",
            "_view_name": "StyleView",
            "description_width": ""
          }
        },
        "73d0dfbec3ea4c60bf90aeda4dac089e": {
          "model_module": "@jupyter-widgets/controls",
          "model_module_version": "1.5.0",
          "model_name": "HBoxModel",
          "state": {
            "_dom_classes": [],
            "_model_module": "@jupyter-widgets/controls",
            "_model_module_version": "1.5.0",
            "_model_name": "HBoxModel",
            "_view_count": null,
            "_view_module": "@jupyter-widgets/controls",
            "_view_module_version": "1.5.0",
            "_view_name": "HBoxView",
            "box_style": "",
            "children": [
              "IPY_MODEL_fc56d58f074645969ee21512cbc1044e",
              "IPY_MODEL_7fe4d1d88c3a48d6970bdbfcbd078394",
              "IPY_MODEL_9060e097181c4498918aded1ed4bd36f"
            ],
            "layout": "IPY_MODEL_87827c85b5dc472baff1cb59c3325bcc"
          }
        },
        "7767f0094fb64480a72df425efe13f0a": {
          "model_module": "@jupyter-widgets/controls",
          "model_module_version": "1.5.0",
          "model_name": "ProgressStyleModel",
          "state": {
            "_model_module": "@jupyter-widgets/controls",
            "_model_module_version": "1.5.0",
            "_model_name": "ProgressStyleModel",
            "_view_count": null,
            "_view_module": "@jupyter-widgets/base",
            "_view_module_version": "1.2.0",
            "_view_name": "StyleView",
            "bar_color": null,
            "description_width": ""
          }
        },
        "7898758553ca40d8bb31573cf086a4ed": {
          "model_module": "@jupyter-widgets/controls",
          "model_module_version": "1.5.0",
          "model_name": "DescriptionStyleModel",
          "state": {
            "_model_module": "@jupyter-widgets/controls",
            "_model_module_version": "1.5.0",
            "_model_name": "DescriptionStyleModel",
            "_view_count": null,
            "_view_module": "@jupyter-widgets/base",
            "_view_module_version": "1.2.0",
            "_view_name": "StyleView",
            "description_width": ""
          }
        },
        "78dfc5e190714ed182f25b1b8c3e4208": {
          "model_module": "@jupyter-widgets/controls",
          "model_module_version": "1.5.0",
          "model_name": "HBoxModel",
          "state": {
            "_dom_classes": [],
            "_model_module": "@jupyter-widgets/controls",
            "_model_module_version": "1.5.0",
            "_model_name": "HBoxModel",
            "_view_count": null,
            "_view_module": "@jupyter-widgets/controls",
            "_view_module_version": "1.5.0",
            "_view_name": "HBoxView",
            "box_style": "",
            "children": [
              "IPY_MODEL_b8c89b2ed06d4bafa6be4fc096f5f683",
              "IPY_MODEL_0b697efc473941d591f871795375f7ee",
              "IPY_MODEL_ec9130d6efda44bd99a073476ea00712"
            ],
            "layout": "IPY_MODEL_d82f0458d33640c0a6fcd7c0938b1f2c"
          }
        },
        "78f2cecee04e47a9abd441334106261d": {
          "model_module": "@jupyter-widgets/controls",
          "model_module_version": "1.5.0",
          "model_name": "FloatProgressModel",
          "state": {
            "_dom_classes": [],
            "_model_module": "@jupyter-widgets/controls",
            "_model_module_version": "1.5.0",
            "_model_name": "FloatProgressModel",
            "_view_count": null,
            "_view_module": "@jupyter-widgets/controls",
            "_view_module_version": "1.5.0",
            "_view_name": "ProgressView",
            "bar_style": "success",
            "description": "",
            "description_tooltip": null,
            "layout": "IPY_MODEL_c8bec8cc207943ef9b71f1556111edd7",
            "max": 2,
            "min": 0,
            "orientation": "horizontal",
            "style": "IPY_MODEL_0662fc7480fa4a3e935955901c7507a6",
            "value": 2
          }
        },
        "7b2eba7b3df646d6847c390e52cf0d5d": {
          "model_module": "@jupyter-widgets/controls",
          "model_module_version": "1.5.0",
          "model_name": "DescriptionStyleModel",
          "state": {
            "_model_module": "@jupyter-widgets/controls",
            "_model_module_version": "1.5.0",
            "_model_name": "DescriptionStyleModel",
            "_view_count": null,
            "_view_module": "@jupyter-widgets/base",
            "_view_module_version": "1.2.0",
            "_view_name": "StyleView",
            "description_width": ""
          }
        },
        "7c9455d1ae1747f1b7af798be1326ef3": {
          "model_module": "@jupyter-widgets/controls",
          "model_module_version": "1.5.0",
          "model_name": "HTMLModel",
          "state": {
            "_dom_classes": [],
            "_model_module": "@jupyter-widgets/controls",
            "_model_module_version": "1.5.0",
            "_model_name": "HTMLModel",
            "_view_count": null,
            "_view_module": "@jupyter-widgets/controls",
            "_view_module_version": "1.5.0",
            "_view_name": "HTMLView",
            "description": "",
            "description_tooltip": null,
            "layout": "IPY_MODEL_0777091253a14d5ba6daaaae7f7d7f79",
            "placeholder": "​",
            "style": "IPY_MODEL_a8c617c7447249c8b799335ccd440a4d",
            "value": " 7.34k/7.34k [00:00&lt;00:00, 557kB/s]"
          }
        },
        "7cf28777056e44d481913da4b895a617": {
          "model_module": "@jupyter-widgets/controls",
          "model_module_version": "1.5.0",
          "model_name": "DescriptionStyleModel",
          "state": {
            "_model_module": "@jupyter-widgets/controls",
            "_model_module_version": "1.5.0",
            "_model_name": "DescriptionStyleModel",
            "_view_count": null,
            "_view_module": "@jupyter-widgets/base",
            "_view_module_version": "1.2.0",
            "_view_name": "StyleView",
            "description_width": ""
          }
        },
        "7fe4d1d88c3a48d6970bdbfcbd078394": {
          "model_module": "@jupyter-widgets/controls",
          "model_module_version": "1.5.0",
          "model_name": "FloatProgressModel",
          "state": {
            "_dom_classes": [],
            "_model_module": "@jupyter-widgets/controls",
            "_model_module_version": "1.5.0",
            "_model_name": "FloatProgressModel",
            "_view_count": null,
            "_view_module": "@jupyter-widgets/controls",
            "_view_module_version": "1.5.0",
            "_view_name": "ProgressView",
            "bar_style": "success",
            "description": "",
            "description_tooltip": null,
            "layout": "IPY_MODEL_32eb2faf09854001ae6f7a9e19dbdc98",
            "max": 563832976,
            "min": 0,
            "orientation": "horizontal",
            "style": "IPY_MODEL_82370da0c3164abf9e85f5f0257df806",
            "value": 563832976
          }
        },
        "82370da0c3164abf9e85f5f0257df806": {
          "model_module": "@jupyter-widgets/controls",
          "model_module_version": "1.5.0",
          "model_name": "ProgressStyleModel",
          "state": {
            "_model_module": "@jupyter-widgets/controls",
            "_model_module_version": "1.5.0",
            "_model_name": "ProgressStyleModel",
            "_view_count": null,
            "_view_module": "@jupyter-widgets/base",
            "_view_module_version": "1.2.0",
            "_view_name": "StyleView",
            "bar_color": null,
            "description_width": ""
          }
        },
        "825cae2b6f9a4216b52bb95968b9ca54": {
          "model_module": "@jupyter-widgets/controls",
          "model_module_version": "1.5.0",
          "model_name": "HTMLModel",
          "state": {
            "_dom_classes": [],
            "_model_module": "@jupyter-widgets/controls",
            "_model_module_version": "1.5.0",
            "_model_name": "HTMLModel",
            "_view_count": null,
            "_view_module": "@jupyter-widgets/controls",
            "_view_module_version": "1.5.0",
            "_view_name": "HTMLView",
            "description": "",
            "description_tooltip": null,
            "layout": "IPY_MODEL_333edf81244141fb8974045085757814",
            "placeholder": "​",
            "style": "IPY_MODEL_30516a4ca50e4ecaaab3bd79784ab93b",
            "value": "tokenizer.json: 100%"
          }
        },
        "825feec11a2f49658ea1028e9c6ecdfc": {
          "model_module": "@jupyter-widgets/base",
          "model_module_version": "1.2.0",
          "model_name": "LayoutModel",
          "state": {
            "_model_module": "@jupyter-widgets/base",
            "_model_module_version": "1.2.0",
            "_model_name": "LayoutModel",
            "_view_count": null,
            "_view_module": "@jupyter-widgets/base",
            "_view_module_version": "1.2.0",
            "_view_name": "LayoutView",
            "align_content": null,
            "align_items": null,
            "align_self": null,
            "border": null,
            "bottom": null,
            "display": null,
            "flex": null,
            "flex_flow": null,
            "grid_area": null,
            "grid_auto_columns": null,
            "grid_auto_flow": null,
            "grid_auto_rows": null,
            "grid_column": null,
            "grid_gap": null,
            "grid_row": null,
            "grid_template_areas": null,
            "grid_template_columns": null,
            "grid_template_rows": null,
            "height": null,
            "justify_content": null,
            "justify_items": null,
            "left": null,
            "margin": null,
            "max_height": null,
            "max_width": null,
            "min_height": null,
            "min_width": null,
            "object_fit": null,
            "object_position": null,
            "order": null,
            "overflow": null,
            "overflow_x": null,
            "overflow_y": null,
            "padding": null,
            "right": null,
            "top": null,
            "visibility": null,
            "width": null
          }
        },
        "8546d644839f4f069cf8c33ffffda12c": {
          "model_module": "@jupyter-widgets/controls",
          "model_module_version": "1.5.0",
          "model_name": "DescriptionStyleModel",
          "state": {
            "_model_module": "@jupyter-widgets/controls",
            "_model_module_version": "1.5.0",
            "_model_name": "DescriptionStyleModel",
            "_view_count": null,
            "_view_module": "@jupyter-widgets/base",
            "_view_module_version": "1.2.0",
            "_view_name": "StyleView",
            "description_width": ""
          }
        },
        "875dad1cb7fe41a483df28376225264d": {
          "model_module": "@jupyter-widgets/controls",
          "model_module_version": "1.5.0",
          "model_name": "HTMLModel",
          "state": {
            "_dom_classes": [],
            "_model_module": "@jupyter-widgets/controls",
            "_model_module_version": "1.5.0",
            "_model_name": "HTMLModel",
            "_view_count": null,
            "_view_module": "@jupyter-widgets/controls",
            "_view_module_version": "1.5.0",
            "_view_name": "HTMLView",
            "description": "",
            "description_tooltip": null,
            "layout": "IPY_MODEL_ea76af8771824eb68d32a0b41a9625f5",
            "placeholder": "​",
            "style": "IPY_MODEL_c3d1eb59889a4722b031ae6315b7341a",
            "value": "model-00001-of-00002.safetensors: 100%"
          }
        },
        "87827c85b5dc472baff1cb59c3325bcc": {
          "model_module": "@jupyter-widgets/base",
          "model_module_version": "1.2.0",
          "model_name": "LayoutModel",
          "state": {
            "_model_module": "@jupyter-widgets/base",
            "_model_module_version": "1.2.0",
            "_model_name": "LayoutModel",
            "_view_count": null,
            "_view_module": "@jupyter-widgets/base",
            "_view_module_version": "1.2.0",
            "_view_name": "LayoutView",
            "align_content": null,
            "align_items": null,
            "align_self": null,
            "border": null,
            "bottom": null,
            "display": null,
            "flex": null,
            "flex_flow": null,
            "grid_area": null,
            "grid_auto_columns": null,
            "grid_auto_flow": null,
            "grid_auto_rows": null,
            "grid_column": null,
            "grid_gap": null,
            "grid_row": null,
            "grid_template_areas": null,
            "grid_template_columns": null,
            "grid_template_rows": null,
            "height": null,
            "justify_content": null,
            "justify_items": null,
            "left": null,
            "margin": null,
            "max_height": null,
            "max_width": null,
            "min_height": null,
            "min_width": null,
            "object_fit": null,
            "object_position": null,
            "order": null,
            "overflow": null,
            "overflow_x": null,
            "overflow_y": null,
            "padding": null,
            "right": null,
            "top": null,
            "visibility": null,
            "width": null
          }
        },
        "8b3920f1a0934df58ff9697f74cf96ad": {
          "model_module": "@jupyter-widgets/controls",
          "model_module_version": "1.5.0",
          "model_name": "DescriptionStyleModel",
          "state": {
            "_model_module": "@jupyter-widgets/controls",
            "_model_module_version": "1.5.0",
            "_model_name": "DescriptionStyleModel",
            "_view_count": null,
            "_view_module": "@jupyter-widgets/base",
            "_view_module_version": "1.2.0",
            "_view_name": "StyleView",
            "description_width": ""
          }
        },
        "8bb4cca3824e4ccf8c2f51ec134d5ee0": {
          "model_module": "@jupyter-widgets/base",
          "model_module_version": "1.2.0",
          "model_name": "LayoutModel",
          "state": {
            "_model_module": "@jupyter-widgets/base",
            "_model_module_version": "1.2.0",
            "_model_name": "LayoutModel",
            "_view_count": null,
            "_view_module": "@jupyter-widgets/base",
            "_view_module_version": "1.2.0",
            "_view_name": "LayoutView",
            "align_content": null,
            "align_items": null,
            "align_self": null,
            "border": null,
            "bottom": null,
            "display": null,
            "flex": null,
            "flex_flow": null,
            "grid_area": null,
            "grid_auto_columns": null,
            "grid_auto_flow": null,
            "grid_auto_rows": null,
            "grid_column": null,
            "grid_gap": null,
            "grid_row": null,
            "grid_template_areas": null,
            "grid_template_columns": null,
            "grid_template_rows": null,
            "height": null,
            "justify_content": null,
            "justify_items": null,
            "left": null,
            "margin": null,
            "max_height": null,
            "max_width": null,
            "min_height": null,
            "min_width": null,
            "object_fit": null,
            "object_position": null,
            "order": null,
            "overflow": null,
            "overflow_x": null,
            "overflow_y": null,
            "padding": null,
            "right": null,
            "top": null,
            "visibility": null,
            "width": null
          }
        },
        "8e2030255cab4bf181f5f1f83e07d596": {
          "model_module": "@jupyter-widgets/controls",
          "model_module_version": "1.5.0",
          "model_name": "HBoxModel",
          "state": {
            "_dom_classes": [],
            "_model_module": "@jupyter-widgets/controls",
            "_model_module_version": "1.5.0",
            "_model_name": "HBoxModel",
            "_view_count": null,
            "_view_module": "@jupyter-widgets/controls",
            "_view_module_version": "1.5.0",
            "_view_name": "HBoxView",
            "box_style": "",
            "children": [
              "IPY_MODEL_658f1ffb2f344eb6a4ffbf43ad444ffa",
              "IPY_MODEL_41beb548b76445de9368f55fcd4d3be5",
              "IPY_MODEL_7c9455d1ae1747f1b7af798be1326ef3"
            ],
            "layout": "IPY_MODEL_de3903c61f054068a86b27dcdbdecb6f"
          }
        },
        "8f44cf9068bc4f7ea36be3eae0546ee5": {
          "model_module": "@jupyter-widgets/base",
          "model_module_version": "1.2.0",
          "model_name": "LayoutModel",
          "state": {
            "_model_module": "@jupyter-widgets/base",
            "_model_module_version": "1.2.0",
            "_model_name": "LayoutModel",
            "_view_count": null,
            "_view_module": "@jupyter-widgets/base",
            "_view_module_version": "1.2.0",
            "_view_name": "LayoutView",
            "align_content": null,
            "align_items": null,
            "align_self": null,
            "border": null,
            "bottom": null,
            "display": null,
            "flex": null,
            "flex_flow": null,
            "grid_area": null,
            "grid_auto_columns": null,
            "grid_auto_flow": null,
            "grid_auto_rows": null,
            "grid_column": null,
            "grid_gap": null,
            "grid_row": null,
            "grid_template_areas": null,
            "grid_template_columns": null,
            "grid_template_rows": null,
            "height": null,
            "justify_content": null,
            "justify_items": null,
            "left": null,
            "margin": null,
            "max_height": null,
            "max_width": null,
            "min_height": null,
            "min_width": null,
            "object_fit": null,
            "object_position": null,
            "order": null,
            "overflow": null,
            "overflow_x": null,
            "overflow_y": null,
            "padding": null,
            "right": null,
            "top": null,
            "visibility": null,
            "width": null
          }
        },
        "8f9211095d2541b6a4b9b8ba02cd59df": {
          "model_module": "@jupyter-widgets/controls",
          "model_module_version": "1.5.0",
          "model_name": "DescriptionStyleModel",
          "state": {
            "_model_module": "@jupyter-widgets/controls",
            "_model_module_version": "1.5.0",
            "_model_name": "DescriptionStyleModel",
            "_view_count": null,
            "_view_module": "@jupyter-widgets/base",
            "_view_module_version": "1.2.0",
            "_view_name": "StyleView",
            "description_width": ""
          }
        },
        "9060e097181c4498918aded1ed4bd36f": {
          "model_module": "@jupyter-widgets/controls",
          "model_module_version": "1.5.0",
          "model_name": "HTMLModel",
          "state": {
            "_dom_classes": [],
            "_model_module": "@jupyter-widgets/controls",
            "_model_module_version": "1.5.0",
            "_model_name": "HTMLModel",
            "_view_count": null,
            "_view_module": "@jupyter-widgets/controls",
            "_view_module_version": "1.5.0",
            "_view_name": "HTMLView",
            "description": "",
            "description_tooltip": null,
            "layout": "IPY_MODEL_5c96298d64c8421395964f815d19ea8b",
            "placeholder": "​",
            "style": "IPY_MODEL_7b2eba7b3df646d6847c390e52cf0d5d",
            "value": " 564M/564M [00:02&lt;00:00, 217MB/s]"
          }
        },
        "915d45df9b2a431db91cf8991360f582": {
          "model_module": "@jupyter-widgets/controls",
          "model_module_version": "1.5.0",
          "model_name": "FloatProgressModel",
          "state": {
            "_dom_classes": [],
            "_model_module": "@jupyter-widgets/controls",
            "_model_module_version": "1.5.0",
            "_model_name": "FloatProgressModel",
            "_view_count": null,
            "_view_module": "@jupyter-widgets/controls",
            "_view_module_version": "1.5.0",
            "_view_name": "ProgressView",
            "bar_style": "success",
            "description": "",
            "description_tooltip": null,
            "layout": "IPY_MODEL_95b8429bda0741f1addfa0c71d1d9fe2",
            "max": 456318,
            "min": 0,
            "orientation": "horizontal",
            "style": "IPY_MODEL_05347f774d2b4c69b42aa5595190f756",
            "value": 456318
          }
        },
        "94d1927c44004d79900f114ca2ed14c6": {
          "model_module": "@jupyter-widgets/base",
          "model_module_version": "1.2.0",
          "model_name": "LayoutModel",
          "state": {
            "_model_module": "@jupyter-widgets/base",
            "_model_module_version": "1.2.0",
            "_model_name": "LayoutModel",
            "_view_count": null,
            "_view_module": "@jupyter-widgets/base",
            "_view_module_version": "1.2.0",
            "_view_name": "LayoutView",
            "align_content": null,
            "align_items": null,
            "align_self": null,
            "border": null,
            "bottom": null,
            "display": null,
            "flex": null,
            "flex_flow": null,
            "grid_area": null,
            "grid_auto_columns": null,
            "grid_auto_flow": null,
            "grid_auto_rows": null,
            "grid_column": null,
            "grid_gap": null,
            "grid_row": null,
            "grid_template_areas": null,
            "grid_template_columns": null,
            "grid_template_rows": null,
            "height": null,
            "justify_content": null,
            "justify_items": null,
            "left": null,
            "margin": null,
            "max_height": null,
            "max_width": null,
            "min_height": null,
            "min_width": null,
            "object_fit": null,
            "object_position": null,
            "order": null,
            "overflow": null,
            "overflow_x": null,
            "overflow_y": null,
            "padding": null,
            "right": null,
            "top": null,
            "visibility": null,
            "width": null
          }
        },
        "95b8429bda0741f1addfa0c71d1d9fe2": {
          "model_module": "@jupyter-widgets/base",
          "model_module_version": "1.2.0",
          "model_name": "LayoutModel",
          "state": {
            "_model_module": "@jupyter-widgets/base",
            "_model_module_version": "1.2.0",
            "_model_name": "LayoutModel",
            "_view_count": null,
            "_view_module": "@jupyter-widgets/base",
            "_view_module_version": "1.2.0",
            "_view_name": "LayoutView",
            "align_content": null,
            "align_items": null,
            "align_self": null,
            "border": null,
            "bottom": null,
            "display": null,
            "flex": null,
            "flex_flow": null,
            "grid_area": null,
            "grid_auto_columns": null,
            "grid_auto_flow": null,
            "grid_auto_rows": null,
            "grid_column": null,
            "grid_gap": null,
            "grid_row": null,
            "grid_template_areas": null,
            "grid_template_columns": null,
            "grid_template_rows": null,
            "height": null,
            "justify_content": null,
            "justify_items": null,
            "left": null,
            "margin": null,
            "max_height": null,
            "max_width": null,
            "min_height": null,
            "min_width": null,
            "object_fit": null,
            "object_position": null,
            "order": null,
            "overflow": null,
            "overflow_x": null,
            "overflow_y": null,
            "padding": null,
            "right": null,
            "top": null,
            "visibility": null,
            "width": null
          }
        },
        "967b523e5ea44c5397fe152b2d116f2b": {
          "model_module": "@jupyter-widgets/base",
          "model_module_version": "1.2.0",
          "model_name": "LayoutModel",
          "state": {
            "_model_module": "@jupyter-widgets/base",
            "_model_module_version": "1.2.0",
            "_model_name": "LayoutModel",
            "_view_count": null,
            "_view_module": "@jupyter-widgets/base",
            "_view_module_version": "1.2.0",
            "_view_name": "LayoutView",
            "align_content": null,
            "align_items": null,
            "align_self": null,
            "border": null,
            "bottom": null,
            "display": null,
            "flex": null,
            "flex_flow": null,
            "grid_area": null,
            "grid_auto_columns": null,
            "grid_auto_flow": null,
            "grid_auto_rows": null,
            "grid_column": null,
            "grid_gap": null,
            "grid_row": null,
            "grid_template_areas": null,
            "grid_template_columns": null,
            "grid_template_rows": null,
            "height": null,
            "justify_content": null,
            "justify_items": null,
            "left": null,
            "margin": null,
            "max_height": null,
            "max_width": null,
            "min_height": null,
            "min_width": null,
            "object_fit": null,
            "object_position": null,
            "order": null,
            "overflow": null,
            "overflow_x": null,
            "overflow_y": null,
            "padding": null,
            "right": null,
            "top": null,
            "visibility": null,
            "width": null
          }
        },
        "971c045ec15e4e69bd39d36b07b9c72f": {
          "model_module": "@jupyter-widgets/controls",
          "model_module_version": "1.5.0",
          "model_name": "FloatProgressModel",
          "state": {
            "_dom_classes": [],
            "_model_module": "@jupyter-widgets/controls",
            "_model_module_version": "1.5.0",
            "_model_name": "FloatProgressModel",
            "_view_count": null,
            "_view_module": "@jupyter-widgets/controls",
            "_view_module_version": "1.5.0",
            "_view_name": "ProgressView",
            "bar_style": "success",
            "description": "",
            "description_tooltip": null,
            "layout": "IPY_MODEL_67c44e4f98914b5e8acc42d802fdcb76",
            "max": 2114924,
            "min": 0,
            "orientation": "horizontal",
            "style": "IPY_MODEL_25cd2fe1223949c28d60c5b2ad915f34",
            "value": 2114924
          }
        },
        "9742a07a05ca4514bb030b52c56d51ea": {
          "model_module": "@jupyter-widgets/base",
          "model_module_version": "1.2.0",
          "model_name": "LayoutModel",
          "state": {
            "_model_module": "@jupyter-widgets/base",
            "_model_module_version": "1.2.0",
            "_model_name": "LayoutModel",
            "_view_count": null,
            "_view_module": "@jupyter-widgets/base",
            "_view_module_version": "1.2.0",
            "_view_name": "LayoutView",
            "align_content": null,
            "align_items": null,
            "align_self": null,
            "border": null,
            "bottom": null,
            "display": null,
            "flex": null,
            "flex_flow": null,
            "grid_area": null,
            "grid_auto_columns": null,
            "grid_auto_flow": null,
            "grid_auto_rows": null,
            "grid_column": null,
            "grid_gap": null,
            "grid_row": null,
            "grid_template_areas": null,
            "grid_template_columns": null,
            "grid_template_rows": null,
            "height": null,
            "justify_content": null,
            "justify_items": null,
            "left": null,
            "margin": null,
            "max_height": null,
            "max_width": null,
            "min_height": null,
            "min_width": null,
            "object_fit": null,
            "object_position": null,
            "order": null,
            "overflow": null,
            "overflow_x": null,
            "overflow_y": null,
            "padding": null,
            "right": null,
            "top": null,
            "visibility": null,
            "width": null
          }
        },
        "99df092e81ab4549b20c337b57e3375c": {
          "model_module": "@jupyter-widgets/controls",
          "model_module_version": "1.5.0",
          "model_name": "HBoxModel",
          "state": {
            "_dom_classes": [],
            "_model_module": "@jupyter-widgets/controls",
            "_model_module_version": "1.5.0",
            "_model_name": "HBoxModel",
            "_view_count": null,
            "_view_module": "@jupyter-widgets/controls",
            "_view_module_version": "1.5.0",
            "_view_name": "HBoxView",
            "box_style": "",
            "children": [
              "IPY_MODEL_875dad1cb7fe41a483df28376225264d",
              "IPY_MODEL_c5a7747ff21e4d89afd8b7c13bdf7cb9",
              "IPY_MODEL_0f109ec0256040e2ad9a9c1deeff6231"
            ],
            "layout": "IPY_MODEL_39344d8898b54769b5fd98ce1ee655b3"
          }
        },
        "9a15b09fea604b5794c79c23d6984cc4": {
          "model_module": "@jupyter-widgets/controls",
          "model_module_version": "1.5.0",
          "model_name": "DescriptionStyleModel",
          "state": {
            "_model_module": "@jupyter-widgets/controls",
            "_model_module_version": "1.5.0",
            "_model_name": "DescriptionStyleModel",
            "_view_count": null,
            "_view_module": "@jupyter-widgets/base",
            "_view_module_version": "1.2.0",
            "_view_name": "StyleView",
            "description_width": ""
          }
        },
        "9ab92ded217941a281cbe64ec598e46b": {
          "model_module": "@jupyter-widgets/base",
          "model_module_version": "1.2.0",
          "model_name": "LayoutModel",
          "state": {
            "_model_module": "@jupyter-widgets/base",
            "_model_module_version": "1.2.0",
            "_model_name": "LayoutModel",
            "_view_count": null,
            "_view_module": "@jupyter-widgets/base",
            "_view_module_version": "1.2.0",
            "_view_name": "LayoutView",
            "align_content": null,
            "align_items": null,
            "align_self": null,
            "border": null,
            "bottom": null,
            "display": null,
            "flex": null,
            "flex_flow": null,
            "grid_area": null,
            "grid_auto_columns": null,
            "grid_auto_flow": null,
            "grid_auto_rows": null,
            "grid_column": null,
            "grid_gap": null,
            "grid_row": null,
            "grid_template_areas": null,
            "grid_template_columns": null,
            "grid_template_rows": null,
            "height": null,
            "justify_content": null,
            "justify_items": null,
            "left": null,
            "margin": null,
            "max_height": null,
            "max_width": null,
            "min_height": null,
            "min_width": null,
            "object_fit": null,
            "object_position": null,
            "order": null,
            "overflow": null,
            "overflow_x": null,
            "overflow_y": null,
            "padding": null,
            "right": null,
            "top": null,
            "visibility": null,
            "width": null
          }
        },
        "9b1016a59caa423fad42d4ac8ef1355c": {
          "model_module": "@jupyter-widgets/controls",
          "model_module_version": "1.5.0",
          "model_name": "HTMLModel",
          "state": {
            "_dom_classes": [],
            "_model_module": "@jupyter-widgets/controls",
            "_model_module_version": "1.5.0",
            "_model_name": "HTMLModel",
            "_view_count": null,
            "_view_module": "@jupyter-widgets/controls",
            "_view_module_version": "1.5.0",
            "_view_name": "HTMLView",
            "description": "",
            "description_tooltip": null,
            "layout": "IPY_MODEL_23d108549718488eadfdb08197427b3c",
            "placeholder": "​",
            "style": "IPY_MODEL_f234e8eb740842b5a4d197c29373185e",
            "value": "Downloading shards: 100%"
          }
        },
        "9dfd4cd10796437aa0c19dba48348952": {
          "model_module": "@jupyter-widgets/controls",
          "model_module_version": "1.5.0",
          "model_name": "HTMLModel",
          "state": {
            "_dom_classes": [],
            "_model_module": "@jupyter-widgets/controls",
            "_model_module_version": "1.5.0",
            "_model_name": "HTMLModel",
            "_view_count": null,
            "_view_module": "@jupyter-widgets/controls",
            "_view_module_version": "1.5.0",
            "_view_name": "HTMLView",
            "description": "",
            "description_tooltip": null,
            "layout": "IPY_MODEL_bfc2f79f026f4a29be11e209300acb85",
            "placeholder": "​",
            "style": "IPY_MODEL_f65c7559f77547ee90de08aa24df01b8",
            "value": "configuration_phi.py: 100%"
          }
        },
        "9e815b06a80c49138befaa460422d7a4": {
          "model_module": "@jupyter-widgets/controls",
          "model_module_version": "1.5.0",
          "model_name": "HTMLModel",
          "state": {
            "_dom_classes": [],
            "_model_module": "@jupyter-widgets/controls",
            "_model_module_version": "1.5.0",
            "_model_name": "HTMLModel",
            "_view_count": null,
            "_view_module": "@jupyter-widgets/controls",
            "_view_module_version": "1.5.0",
            "_view_name": "HTMLView",
            "description": "",
            "description_tooltip": null,
            "layout": "IPY_MODEL_05c13e452ada4cb4bd26f21cd63865ed",
            "placeholder": "​",
            "style": "IPY_MODEL_7cf28777056e44d481913da4b895a617",
            "value": "vocab.json: 100%"
          }
        },
        "9f0586bd1dd04325b0d40c34a1c6a5ef": {
          "model_module": "@jupyter-widgets/base",
          "model_module_version": "1.2.0",
          "model_name": "LayoutModel",
          "state": {
            "_model_module": "@jupyter-widgets/base",
            "_model_module_version": "1.2.0",
            "_model_name": "LayoutModel",
            "_view_count": null,
            "_view_module": "@jupyter-widgets/base",
            "_view_module_version": "1.2.0",
            "_view_name": "LayoutView",
            "align_content": null,
            "align_items": null,
            "align_self": null,
            "border": null,
            "bottom": null,
            "display": null,
            "flex": null,
            "flex_flow": null,
            "grid_area": null,
            "grid_auto_columns": null,
            "grid_auto_flow": null,
            "grid_auto_rows": null,
            "grid_column": null,
            "grid_gap": null,
            "grid_row": null,
            "grid_template_areas": null,
            "grid_template_columns": null,
            "grid_template_rows": null,
            "height": null,
            "justify_content": null,
            "justify_items": null,
            "left": null,
            "margin": null,
            "max_height": null,
            "max_width": null,
            "min_height": null,
            "min_width": null,
            "object_fit": null,
            "object_position": null,
            "order": null,
            "overflow": null,
            "overflow_x": null,
            "overflow_y": null,
            "padding": null,
            "right": null,
            "top": null,
            "visibility": null,
            "width": null
          }
        },
        "a009eefc94a84ee2826dc157bf10c97c": {
          "model_module": "@jupyter-widgets/controls",
          "model_module_version": "1.5.0",
          "model_name": "ProgressStyleModel",
          "state": {
            "_model_module": "@jupyter-widgets/controls",
            "_model_module_version": "1.5.0",
            "_model_name": "ProgressStyleModel",
            "_view_count": null,
            "_view_module": "@jupyter-widgets/base",
            "_view_module_version": "1.2.0",
            "_view_name": "StyleView",
            "bar_color": null,
            "description_width": ""
          }
        },
        "a0a766d12e144edeb5f569d4c62ed44b": {
          "model_module": "@jupyter-widgets/controls",
          "model_module_version": "1.5.0",
          "model_name": "FloatProgressModel",
          "state": {
            "_dom_classes": [],
            "_model_module": "@jupyter-widgets/controls",
            "_model_module_version": "1.5.0",
            "_model_name": "FloatProgressModel",
            "_view_count": null,
            "_view_module": "@jupyter-widgets/controls",
            "_view_module_version": "1.5.0",
            "_view_name": "ProgressView",
            "bar_style": "success",
            "description": "",
            "description_tooltip": null,
            "layout": "IPY_MODEL_16b3ce32e7c04e40a08eadbb1eb885fa",
            "max": 798156,
            "min": 0,
            "orientation": "horizontal",
            "style": "IPY_MODEL_5181601585da4c8290bc82d615785207",
            "value": 798156
          }
        },
        "a1f7387fbfa0499ab3bf92dd649726c9": {
          "model_module": "@jupyter-widgets/controls",
          "model_module_version": "1.5.0",
          "model_name": "FloatProgressModel",
          "state": {
            "_dom_classes": [],
            "_model_module": "@jupyter-widgets/controls",
            "_model_module_version": "1.5.0",
            "_model_name": "FloatProgressModel",
            "_view_count": null,
            "_view_module": "@jupyter-widgets/controls",
            "_view_module_version": "1.5.0",
            "_view_name": "ProgressView",
            "bar_style": "success",
            "description": "",
            "description_tooltip": null,
            "layout": "IPY_MODEL_4a8f0edf63044b43bb8eedb9d4a190f7",
            "max": 99,
            "min": 0,
            "orientation": "horizontal",
            "style": "IPY_MODEL_601782ac6f5245388398879a90706f1d",
            "value": 99
          }
        },
        "a6c0bbb712ec421cb06b641e0cd9a7d7": {
          "model_module": "@jupyter-widgets/base",
          "model_module_version": "1.2.0",
          "model_name": "LayoutModel",
          "state": {
            "_model_module": "@jupyter-widgets/base",
            "_model_module_version": "1.2.0",
            "_model_name": "LayoutModel",
            "_view_count": null,
            "_view_module": "@jupyter-widgets/base",
            "_view_module_version": "1.2.0",
            "_view_name": "LayoutView",
            "align_content": null,
            "align_items": null,
            "align_self": null,
            "border": null,
            "bottom": null,
            "display": null,
            "flex": null,
            "flex_flow": null,
            "grid_area": null,
            "grid_auto_columns": null,
            "grid_auto_flow": null,
            "grid_auto_rows": null,
            "grid_column": null,
            "grid_gap": null,
            "grid_row": null,
            "grid_template_areas": null,
            "grid_template_columns": null,
            "grid_template_rows": null,
            "height": null,
            "justify_content": null,
            "justify_items": null,
            "left": null,
            "margin": null,
            "max_height": null,
            "max_width": null,
            "min_height": null,
            "min_width": null,
            "object_fit": null,
            "object_position": null,
            "order": null,
            "overflow": null,
            "overflow_x": null,
            "overflow_y": null,
            "padding": null,
            "right": null,
            "top": null,
            "visibility": null,
            "width": null
          }
        },
        "a8c617c7447249c8b799335ccd440a4d": {
          "model_module": "@jupyter-widgets/controls",
          "model_module_version": "1.5.0",
          "model_name": "DescriptionStyleModel",
          "state": {
            "_model_module": "@jupyter-widgets/controls",
            "_model_module_version": "1.5.0",
            "_model_name": "DescriptionStyleModel",
            "_view_count": null,
            "_view_module": "@jupyter-widgets/base",
            "_view_module_version": "1.2.0",
            "_view_name": "StyleView",
            "description_width": ""
          }
        },
        "a976b580ba0341059ff422c7182adbe5": {
          "model_module": "@jupyter-widgets/base",
          "model_module_version": "1.2.0",
          "model_name": "LayoutModel",
          "state": {
            "_model_module": "@jupyter-widgets/base",
            "_model_module_version": "1.2.0",
            "_model_name": "LayoutModel",
            "_view_count": null,
            "_view_module": "@jupyter-widgets/base",
            "_view_module_version": "1.2.0",
            "_view_name": "LayoutView",
            "align_content": null,
            "align_items": null,
            "align_self": null,
            "border": null,
            "bottom": null,
            "display": null,
            "flex": null,
            "flex_flow": null,
            "grid_area": null,
            "grid_auto_columns": null,
            "grid_auto_flow": null,
            "grid_auto_rows": null,
            "grid_column": null,
            "grid_gap": null,
            "grid_row": null,
            "grid_template_areas": null,
            "grid_template_columns": null,
            "grid_template_rows": null,
            "height": null,
            "justify_content": null,
            "justify_items": null,
            "left": null,
            "margin": null,
            "max_height": null,
            "max_width": null,
            "min_height": null,
            "min_width": null,
            "object_fit": null,
            "object_position": null,
            "order": null,
            "overflow": null,
            "overflow_x": null,
            "overflow_y": null,
            "padding": null,
            "right": null,
            "top": null,
            "visibility": null,
            "width": null
          }
        },
        "aad95c1de60f41d1ad224db33ed3936f": {
          "model_module": "@jupyter-widgets/controls",
          "model_module_version": "1.5.0",
          "model_name": "HBoxModel",
          "state": {
            "_dom_classes": [],
            "_model_module": "@jupyter-widgets/controls",
            "_model_module_version": "1.5.0",
            "_model_name": "HBoxModel",
            "_view_count": null,
            "_view_module": "@jupyter-widgets/controls",
            "_view_module_version": "1.5.0",
            "_view_name": "HBoxView",
            "box_style": "",
            "children": [
              "IPY_MODEL_9b1016a59caa423fad42d4ac8ef1355c",
              "IPY_MODEL_1d235814902744cd9c267c9ac9b57234",
              "IPY_MODEL_0d4fbfb7ff714a66a7e9f6d154717eb9"
            ],
            "layout": "IPY_MODEL_291908fa85a943eab0cd250708883b8c"
          }
        },
        "acb8a40cfd3d46fc9d54bfda0ce326ea": {
          "model_module": "@jupyter-widgets/controls",
          "model_module_version": "1.5.0",
          "model_name": "HTMLModel",
          "state": {
            "_dom_classes": [],
            "_model_module": "@jupyter-widgets/controls",
            "_model_module_version": "1.5.0",
            "_model_name": "HTMLModel",
            "_view_count": null,
            "_view_module": "@jupyter-widgets/controls",
            "_view_module_version": "1.5.0",
            "_view_name": "HTMLView",
            "description": "",
            "description_tooltip": null,
            "layout": "IPY_MODEL_6053fee330024816a5a4a290c636fe6a",
            "placeholder": "​",
            "style": "IPY_MODEL_23590bcabfb549eab70329f67949ce7d",
            "value": "modeling_phi.py: 100%"
          }
        },
        "ae37f4010ac24cf7b2a30cbb54212485": {
          "model_module": "@jupyter-widgets/base",
          "model_module_version": "1.2.0",
          "model_name": "LayoutModel",
          "state": {
            "_model_module": "@jupyter-widgets/base",
            "_model_module_version": "1.2.0",
            "_model_name": "LayoutModel",
            "_view_count": null,
            "_view_module": "@jupyter-widgets/base",
            "_view_module_version": "1.2.0",
            "_view_name": "LayoutView",
            "align_content": null,
            "align_items": null,
            "align_self": null,
            "border": null,
            "bottom": null,
            "display": null,
            "flex": null,
            "flex_flow": null,
            "grid_area": null,
            "grid_auto_columns": null,
            "grid_auto_flow": null,
            "grid_auto_rows": null,
            "grid_column": null,
            "grid_gap": null,
            "grid_row": null,
            "grid_template_areas": null,
            "grid_template_columns": null,
            "grid_template_rows": null,
            "height": null,
            "justify_content": null,
            "justify_items": null,
            "left": null,
            "margin": null,
            "max_height": null,
            "max_width": null,
            "min_height": null,
            "min_width": null,
            "object_fit": null,
            "object_position": null,
            "order": null,
            "overflow": null,
            "overflow_x": null,
            "overflow_y": null,
            "padding": null,
            "right": null,
            "top": null,
            "visibility": null,
            "width": null
          }
        },
        "ae6aae40078e45bc95fa86ddf3085230": {
          "model_module": "@jupyter-widgets/controls",
          "model_module_version": "1.5.0",
          "model_name": "ProgressStyleModel",
          "state": {
            "_model_module": "@jupyter-widgets/controls",
            "_model_module_version": "1.5.0",
            "_model_name": "ProgressStyleModel",
            "_view_count": null,
            "_view_module": "@jupyter-widgets/base",
            "_view_module_version": "1.2.0",
            "_view_name": "StyleView",
            "bar_color": null,
            "description_width": ""
          }
        },
        "aeb03a1d17244ddda902b3e64539cce1": {
          "model_module": "@jupyter-widgets/base",
          "model_module_version": "1.2.0",
          "model_name": "LayoutModel",
          "state": {
            "_model_module": "@jupyter-widgets/base",
            "_model_module_version": "1.2.0",
            "_model_name": "LayoutModel",
            "_view_count": null,
            "_view_module": "@jupyter-widgets/base",
            "_view_module_version": "1.2.0",
            "_view_name": "LayoutView",
            "align_content": null,
            "align_items": null,
            "align_self": null,
            "border": null,
            "bottom": null,
            "display": null,
            "flex": null,
            "flex_flow": null,
            "grid_area": null,
            "grid_auto_columns": null,
            "grid_auto_flow": null,
            "grid_auto_rows": null,
            "grid_column": null,
            "grid_gap": null,
            "grid_row": null,
            "grid_template_areas": null,
            "grid_template_columns": null,
            "grid_template_rows": null,
            "height": null,
            "justify_content": null,
            "justify_items": null,
            "left": null,
            "margin": null,
            "max_height": null,
            "max_width": null,
            "min_height": null,
            "min_width": null,
            "object_fit": null,
            "object_position": null,
            "order": null,
            "overflow": null,
            "overflow_x": null,
            "overflow_y": null,
            "padding": null,
            "right": null,
            "top": null,
            "visibility": null,
            "width": null
          }
        },
        "b0026b02f4fa4da0aca303b23900823d": {
          "model_module": "@jupyter-widgets/controls",
          "model_module_version": "1.5.0",
          "model_name": "HBoxModel",
          "state": {
            "_dom_classes": [],
            "_model_module": "@jupyter-widgets/controls",
            "_model_module_version": "1.5.0",
            "_model_name": "HBoxModel",
            "_view_count": null,
            "_view_module": "@jupyter-widgets/controls",
            "_view_module_version": "1.5.0",
            "_view_name": "HBoxView",
            "box_style": "",
            "children": [
              "IPY_MODEL_454194ab468340be87705efdab904eaa",
              "IPY_MODEL_a1f7387fbfa0499ab3bf92dd649726c9",
              "IPY_MODEL_0d650dd3248941a19d775a38579bb893"
            ],
            "layout": "IPY_MODEL_94d1927c44004d79900f114ca2ed14c6"
          }
        },
        "b0c06416e4c34c6c851562bbfeaaac85": {
          "model_module": "@jupyter-widgets/controls",
          "model_module_version": "1.5.0",
          "model_name": "HTMLModel",
          "state": {
            "_dom_classes": [],
            "_model_module": "@jupyter-widgets/controls",
            "_model_module_version": "1.5.0",
            "_model_name": "HTMLModel",
            "_view_count": null,
            "_view_module": "@jupyter-widgets/controls",
            "_view_module_version": "1.5.0",
            "_view_name": "HTMLView",
            "description": "",
            "description_tooltip": null,
            "layout": "IPY_MODEL_6a38b13624544b1aac00ce04c80a6b93",
            "placeholder": "​",
            "style": "IPY_MODEL_3567042461a04f68a4af4d19b5ab2dea",
            "value": "merges.txt: 100%"
          }
        },
        "b1a0be23aa8a4449b1648ea10b28b6e1": {
          "model_module": "@jupyter-widgets/controls",
          "model_module_version": "1.5.0",
          "model_name": "ProgressStyleModel",
          "state": {
            "_model_module": "@jupyter-widgets/controls",
            "_model_module_version": "1.5.0",
            "_model_name": "ProgressStyleModel",
            "_view_count": null,
            "_view_module": "@jupyter-widgets/base",
            "_view_module_version": "1.2.0",
            "_view_name": "StyleView",
            "bar_color": null,
            "description_width": ""
          }
        },
        "b1eb5b7c624e4752834878eaaf43c448": {
          "model_module": "@jupyter-widgets/controls",
          "model_module_version": "1.5.0",
          "model_name": "DescriptionStyleModel",
          "state": {
            "_model_module": "@jupyter-widgets/controls",
            "_model_module_version": "1.5.0",
            "_model_name": "DescriptionStyleModel",
            "_view_count": null,
            "_view_module": "@jupyter-widgets/base",
            "_view_module_version": "1.2.0",
            "_view_name": "StyleView",
            "description_width": ""
          }
        },
        "b2169bf1795c4b2eafe9cfad5ab82bc0": {
          "model_module": "@jupyter-widgets/controls",
          "model_module_version": "1.5.0",
          "model_name": "HBoxModel",
          "state": {
            "_dom_classes": [],
            "_model_module": "@jupyter-widgets/controls",
            "_model_module_version": "1.5.0",
            "_model_name": "HBoxModel",
            "_view_count": null,
            "_view_module": "@jupyter-widgets/controls",
            "_view_module_version": "1.5.0",
            "_view_name": "HBoxView",
            "box_style": "",
            "children": [
              "IPY_MODEL_b0c06416e4c34c6c851562bbfeaaac85",
              "IPY_MODEL_915d45df9b2a431db91cf8991360f582",
              "IPY_MODEL_05ef37f9e7f348529d5df4cd9df52b15"
            ],
            "layout": "IPY_MODEL_9ab92ded217941a281cbe64ec598e46b"
          }
        },
        "b3b4de2c40634cbb8c281fc607654943": {
          "model_module": "@jupyter-widgets/controls",
          "model_module_version": "1.5.0",
          "model_name": "ProgressStyleModel",
          "state": {
            "_model_module": "@jupyter-widgets/controls",
            "_model_module_version": "1.5.0",
            "_model_name": "ProgressStyleModel",
            "_view_count": null,
            "_view_module": "@jupyter-widgets/base",
            "_view_module_version": "1.2.0",
            "_view_name": "StyleView",
            "bar_color": null,
            "description_width": ""
          }
        },
        "b8c89b2ed06d4bafa6be4fc096f5f683": {
          "model_module": "@jupyter-widgets/controls",
          "model_module_version": "1.5.0",
          "model_name": "HTMLModel",
          "state": {
            "_dom_classes": [],
            "_model_module": "@jupyter-widgets/controls",
            "_model_module_version": "1.5.0",
            "_model_name": "HTMLModel",
            "_view_count": null,
            "_view_module": "@jupyter-widgets/controls",
            "_view_module_version": "1.5.0",
            "_view_name": "HTMLView",
            "description": "",
            "description_tooltip": null,
            "layout": "IPY_MODEL_ae37f4010ac24cf7b2a30cbb54212485",
            "placeholder": "​",
            "style": "IPY_MODEL_c4a86ec663ca4c5396196d4445c84eed",
            "value": "model.safetensors.index.json: 100%"
          }
        },
        "bd1bc8edac894b9e9022c0fb37e86a4b": {
          "model_module": "@jupyter-widgets/controls",
          "model_module_version": "1.5.0",
          "model_name": "HTMLModel",
          "state": {
            "_dom_classes": [],
            "_model_module": "@jupyter-widgets/controls",
            "_model_module_version": "1.5.0",
            "_model_name": "HTMLModel",
            "_view_count": null,
            "_view_module": "@jupyter-widgets/controls",
            "_view_module_version": "1.5.0",
            "_view_name": "HTMLView",
            "description": "",
            "description_tooltip": null,
            "layout": "IPY_MODEL_0028e4ae39ef4ca5a15a049407237a30",
            "placeholder": "​",
            "style": "IPY_MODEL_8546d644839f4f069cf8c33ffffda12c",
            "value": "generation_config.json: 100%"
          }
        },
        "bd5ae86a79544eccbd803c84be834f97": {
          "model_module": "@jupyter-widgets/base",
          "model_module_version": "1.2.0",
          "model_name": "LayoutModel",
          "state": {
            "_model_module": "@jupyter-widgets/base",
            "_model_module_version": "1.2.0",
            "_model_name": "LayoutModel",
            "_view_count": null,
            "_view_module": "@jupyter-widgets/base",
            "_view_module_version": "1.2.0",
            "_view_name": "LayoutView",
            "align_content": null,
            "align_items": null,
            "align_self": null,
            "border": null,
            "bottom": null,
            "display": null,
            "flex": null,
            "flex_flow": null,
            "grid_area": null,
            "grid_auto_columns": null,
            "grid_auto_flow": null,
            "grid_auto_rows": null,
            "grid_column": null,
            "grid_gap": null,
            "grid_row": null,
            "grid_template_areas": null,
            "grid_template_columns": null,
            "grid_template_rows": null,
            "height": null,
            "justify_content": null,
            "justify_items": null,
            "left": null,
            "margin": null,
            "max_height": null,
            "max_width": null,
            "min_height": null,
            "min_width": null,
            "object_fit": null,
            "object_position": null,
            "order": null,
            "overflow": null,
            "overflow_x": null,
            "overflow_y": null,
            "padding": null,
            "right": null,
            "top": null,
            "visibility": null,
            "width": null
          }
        },
        "bf8144c434e74850b7265f193a4aba49": {
          "model_module": "@jupyter-widgets/base",
          "model_module_version": "1.2.0",
          "model_name": "LayoutModel",
          "state": {
            "_model_module": "@jupyter-widgets/base",
            "_model_module_version": "1.2.0",
            "_model_name": "LayoutModel",
            "_view_count": null,
            "_view_module": "@jupyter-widgets/base",
            "_view_module_version": "1.2.0",
            "_view_name": "LayoutView",
            "align_content": null,
            "align_items": null,
            "align_self": null,
            "border": null,
            "bottom": null,
            "display": null,
            "flex": null,
            "flex_flow": null,
            "grid_area": null,
            "grid_auto_columns": null,
            "grid_auto_flow": null,
            "grid_auto_rows": null,
            "grid_column": null,
            "grid_gap": null,
            "grid_row": null,
            "grid_template_areas": null,
            "grid_template_columns": null,
            "grid_template_rows": null,
            "height": null,
            "justify_content": null,
            "justify_items": null,
            "left": null,
            "margin": null,
            "max_height": null,
            "max_width": null,
            "min_height": null,
            "min_width": null,
            "object_fit": null,
            "object_position": null,
            "order": null,
            "overflow": null,
            "overflow_x": null,
            "overflow_y": null,
            "padding": null,
            "right": null,
            "top": null,
            "visibility": null,
            "width": null
          }
        },
        "bfc2f79f026f4a29be11e209300acb85": {
          "model_module": "@jupyter-widgets/base",
          "model_module_version": "1.2.0",
          "model_name": "LayoutModel",
          "state": {
            "_model_module": "@jupyter-widgets/base",
            "_model_module_version": "1.2.0",
            "_model_name": "LayoutModel",
            "_view_count": null,
            "_view_module": "@jupyter-widgets/base",
            "_view_module_version": "1.2.0",
            "_view_name": "LayoutView",
            "align_content": null,
            "align_items": null,
            "align_self": null,
            "border": null,
            "bottom": null,
            "display": null,
            "flex": null,
            "flex_flow": null,
            "grid_area": null,
            "grid_auto_columns": null,
            "grid_auto_flow": null,
            "grid_auto_rows": null,
            "grid_column": null,
            "grid_gap": null,
            "grid_row": null,
            "grid_template_areas": null,
            "grid_template_columns": null,
            "grid_template_rows": null,
            "height": null,
            "justify_content": null,
            "justify_items": null,
            "left": null,
            "margin": null,
            "max_height": null,
            "max_width": null,
            "min_height": null,
            "min_width": null,
            "object_fit": null,
            "object_position": null,
            "order": null,
            "overflow": null,
            "overflow_x": null,
            "overflow_y": null,
            "padding": null,
            "right": null,
            "top": null,
            "visibility": null,
            "width": null
          }
        },
        "c136bfe7279d48508f2345f18cc8ae79": {
          "model_module": "@jupyter-widgets/controls",
          "model_module_version": "1.5.0",
          "model_name": "HTMLModel",
          "state": {
            "_dom_classes": [],
            "_model_module": "@jupyter-widgets/controls",
            "_model_module_version": "1.5.0",
            "_model_name": "HTMLModel",
            "_view_count": null,
            "_view_module": "@jupyter-widgets/controls",
            "_view_module_version": "1.5.0",
            "_view_name": "HTMLView",
            "description": "",
            "description_tooltip": null,
            "layout": "IPY_MODEL_967b523e5ea44c5397fe152b2d116f2b",
            "placeholder": "​",
            "style": "IPY_MODEL_13ec0986d3954e7ebeef1943ab49e069",
            "value": " 62.7k/62.7k [00:00&lt;00:00, 2.39MB/s]"
          }
        },
        "c3d1eb59889a4722b031ae6315b7341a": {
          "model_module": "@jupyter-widgets/controls",
          "model_module_version": "1.5.0",
          "model_name": "DescriptionStyleModel",
          "state": {
            "_model_module": "@jupyter-widgets/controls",
            "_model_module_version": "1.5.0",
            "_model_name": "DescriptionStyleModel",
            "_view_count": null,
            "_view_module": "@jupyter-widgets/base",
            "_view_module_version": "1.2.0",
            "_view_name": "StyleView",
            "description_width": ""
          }
        },
        "c4a86ec663ca4c5396196d4445c84eed": {
          "model_module": "@jupyter-widgets/controls",
          "model_module_version": "1.5.0",
          "model_name": "DescriptionStyleModel",
          "state": {
            "_model_module": "@jupyter-widgets/controls",
            "_model_module_version": "1.5.0",
            "_model_name": "DescriptionStyleModel",
            "_view_count": null,
            "_view_module": "@jupyter-widgets/base",
            "_view_module_version": "1.2.0",
            "_view_name": "StyleView",
            "description_width": ""
          }
        },
        "c51d0b6e4c3240738c2aa56905fdc8fe": {
          "model_module": "@jupyter-widgets/controls",
          "model_module_version": "1.5.0",
          "model_name": "HBoxModel",
          "state": {
            "_dom_classes": [],
            "_model_module": "@jupyter-widgets/controls",
            "_model_module_version": "1.5.0",
            "_model_name": "HBoxModel",
            "_view_count": null,
            "_view_module": "@jupyter-widgets/controls",
            "_view_module_version": "1.5.0",
            "_view_name": "HBoxView",
            "box_style": "",
            "children": [
              "IPY_MODEL_06877e7340b542ed84a6773a939f6a14",
              "IPY_MODEL_78f2cecee04e47a9abd441334106261d",
              "IPY_MODEL_1d202d261c6744b1ad60ba56a109c0af"
            ],
            "layout": "IPY_MODEL_a976b580ba0341059ff422c7182adbe5"
          }
        },
        "c5a7747ff21e4d89afd8b7c13bdf7cb9": {
          "model_module": "@jupyter-widgets/controls",
          "model_module_version": "1.5.0",
          "model_name": "FloatProgressModel",
          "state": {
            "_dom_classes": [],
            "_model_module": "@jupyter-widgets/controls",
            "_model_module_version": "1.5.0",
            "_model_name": "FloatProgressModel",
            "_view_count": null,
            "_view_module": "@jupyter-widgets/controls",
            "_view_module_version": "1.5.0",
            "_view_name": "ProgressView",
            "bar_style": "success",
            "description": "",
            "description_tooltip": null,
            "layout": "IPY_MODEL_0f45e9141d564594b1df3f4f4253a5bd",
            "max": 4995584424,
            "min": 0,
            "orientation": "horizontal",
            "style": "IPY_MODEL_28a3bcbb85744d2a9fa096f7bcdb7672",
            "value": 4995584424
          }
        },
        "c8bec8cc207943ef9b71f1556111edd7": {
          "model_module": "@jupyter-widgets/base",
          "model_module_version": "1.2.0",
          "model_name": "LayoutModel",
          "state": {
            "_model_module": "@jupyter-widgets/base",
            "_model_module_version": "1.2.0",
            "_model_name": "LayoutModel",
            "_view_count": null,
            "_view_module": "@jupyter-widgets/base",
            "_view_module_version": "1.2.0",
            "_view_name": "LayoutView",
            "align_content": null,
            "align_items": null,
            "align_self": null,
            "border": null,
            "bottom": null,
            "display": null,
            "flex": null,
            "flex_flow": null,
            "grid_area": null,
            "grid_auto_columns": null,
            "grid_auto_flow": null,
            "grid_auto_rows": null,
            "grid_column": null,
            "grid_gap": null,
            "grid_row": null,
            "grid_template_areas": null,
            "grid_template_columns": null,
            "grid_template_rows": null,
            "height": null,
            "justify_content": null,
            "justify_items": null,
            "left": null,
            "margin": null,
            "max_height": null,
            "max_width": null,
            "min_height": null,
            "min_width": null,
            "object_fit": null,
            "object_position": null,
            "order": null,
            "overflow": null,
            "overflow_x": null,
            "overflow_y": null,
            "padding": null,
            "right": null,
            "top": null,
            "visibility": null,
            "width": null
          }
        },
        "ca9271a5a2ef4821b5f810e24554ae4a": {
          "model_module": "@jupyter-widgets/base",
          "model_module_version": "1.2.0",
          "model_name": "LayoutModel",
          "state": {
            "_model_module": "@jupyter-widgets/base",
            "_model_module_version": "1.2.0",
            "_model_name": "LayoutModel",
            "_view_count": null,
            "_view_module": "@jupyter-widgets/base",
            "_view_module_version": "1.2.0",
            "_view_name": "LayoutView",
            "align_content": null,
            "align_items": null,
            "align_self": null,
            "border": null,
            "bottom": null,
            "display": null,
            "flex": null,
            "flex_flow": null,
            "grid_area": null,
            "grid_auto_columns": null,
            "grid_auto_flow": null,
            "grid_auto_rows": null,
            "grid_column": null,
            "grid_gap": null,
            "grid_row": null,
            "grid_template_areas": null,
            "grid_template_columns": null,
            "grid_template_rows": null,
            "height": null,
            "justify_content": null,
            "justify_items": null,
            "left": null,
            "margin": null,
            "max_height": null,
            "max_width": null,
            "min_height": null,
            "min_width": null,
            "object_fit": null,
            "object_position": null,
            "order": null,
            "overflow": null,
            "overflow_x": null,
            "overflow_y": null,
            "padding": null,
            "right": null,
            "top": null,
            "visibility": null,
            "width": null
          }
        },
        "cacc883af05a47f3bb09c4d95177a765": {
          "model_module": "@jupyter-widgets/controls",
          "model_module_version": "1.5.0",
          "model_name": "HTMLModel",
          "state": {
            "_dom_classes": [],
            "_model_module": "@jupyter-widgets/controls",
            "_model_module_version": "1.5.0",
            "_model_name": "HTMLModel",
            "_view_count": null,
            "_view_module": "@jupyter-widgets/controls",
            "_view_module_version": "1.5.0",
            "_view_name": "HTMLView",
            "description": "",
            "description_tooltip": null,
            "layout": "IPY_MODEL_048ea55e801942158f064d652e08de84",
            "placeholder": "​",
            "style": "IPY_MODEL_69984f352381426994924f5a6676e2a4",
            "value": " 9.26k/9.26k [00:00&lt;00:00, 127kB/s]"
          }
        },
        "ce32cd43cbee4aae93ec6252bfc28f74": {
          "model_module": "@jupyter-widgets/base",
          "model_module_version": "1.2.0",
          "model_name": "LayoutModel",
          "state": {
            "_model_module": "@jupyter-widgets/base",
            "_model_module_version": "1.2.0",
            "_model_name": "LayoutModel",
            "_view_count": null,
            "_view_module": "@jupyter-widgets/base",
            "_view_module_version": "1.2.0",
            "_view_name": "LayoutView",
            "align_content": null,
            "align_items": null,
            "align_self": null,
            "border": null,
            "bottom": null,
            "display": null,
            "flex": null,
            "flex_flow": null,
            "grid_area": null,
            "grid_auto_columns": null,
            "grid_auto_flow": null,
            "grid_auto_rows": null,
            "grid_column": null,
            "grid_gap": null,
            "grid_row": null,
            "grid_template_areas": null,
            "grid_template_columns": null,
            "grid_template_rows": null,
            "height": null,
            "justify_content": null,
            "justify_items": null,
            "left": null,
            "margin": null,
            "max_height": null,
            "max_width": null,
            "min_height": null,
            "min_width": null,
            "object_fit": null,
            "object_position": null,
            "order": null,
            "overflow": null,
            "overflow_x": null,
            "overflow_y": null,
            "padding": null,
            "right": null,
            "top": null,
            "visibility": null,
            "width": null
          }
        },
        "d393616ca81842e79770f37da99c6e17": {
          "model_module": "@jupyter-widgets/base",
          "model_module_version": "1.2.0",
          "model_name": "LayoutModel",
          "state": {
            "_model_module": "@jupyter-widgets/base",
            "_model_module_version": "1.2.0",
            "_model_name": "LayoutModel",
            "_view_count": null,
            "_view_module": "@jupyter-widgets/base",
            "_view_module_version": "1.2.0",
            "_view_name": "LayoutView",
            "align_content": null,
            "align_items": null,
            "align_self": null,
            "border": null,
            "bottom": null,
            "display": null,
            "flex": null,
            "flex_flow": null,
            "grid_area": null,
            "grid_auto_columns": null,
            "grid_auto_flow": null,
            "grid_auto_rows": null,
            "grid_column": null,
            "grid_gap": null,
            "grid_row": null,
            "grid_template_areas": null,
            "grid_template_columns": null,
            "grid_template_rows": null,
            "height": null,
            "justify_content": null,
            "justify_items": null,
            "left": null,
            "margin": null,
            "max_height": null,
            "max_width": null,
            "min_height": null,
            "min_width": null,
            "object_fit": null,
            "object_position": null,
            "order": null,
            "overflow": null,
            "overflow_x": null,
            "overflow_y": null,
            "padding": null,
            "right": null,
            "top": null,
            "visibility": null,
            "width": null
          }
        },
        "d6f019375aef4551bd059aefad40b789": {
          "model_module": "@jupyter-widgets/controls",
          "model_module_version": "1.5.0",
          "model_name": "HBoxModel",
          "state": {
            "_dom_classes": [],
            "_model_module": "@jupyter-widgets/controls",
            "_model_module_version": "1.5.0",
            "_model_name": "HBoxModel",
            "_view_count": null,
            "_view_module": "@jupyter-widgets/controls",
            "_view_module_version": "1.5.0",
            "_view_name": "HBoxView",
            "box_style": "",
            "children": [
              "IPY_MODEL_68a322cf394640d4ad374310e0e92e22",
              "IPY_MODEL_fcbb88fafe0c4dbfab0d07e36a754e17",
              "IPY_MODEL_32c9eb42f6fe4961a4d0b5df33075c4e"
            ],
            "layout": "IPY_MODEL_d393616ca81842e79770f37da99c6e17"
          }
        },
        "d7ccd676ef954d61885ae4ec847cb3b8": {
          "model_module": "@jupyter-widgets/base",
          "model_module_version": "1.2.0",
          "model_name": "LayoutModel",
          "state": {
            "_model_module": "@jupyter-widgets/base",
            "_model_module_version": "1.2.0",
            "_model_name": "LayoutModel",
            "_view_count": null,
            "_view_module": "@jupyter-widgets/base",
            "_view_module_version": "1.2.0",
            "_view_name": "LayoutView",
            "align_content": null,
            "align_items": null,
            "align_self": null,
            "border": null,
            "bottom": null,
            "display": null,
            "flex": null,
            "flex_flow": null,
            "grid_area": null,
            "grid_auto_columns": null,
            "grid_auto_flow": null,
            "grid_auto_rows": null,
            "grid_column": null,
            "grid_gap": null,
            "grid_row": null,
            "grid_template_areas": null,
            "grid_template_columns": null,
            "grid_template_rows": null,
            "height": null,
            "justify_content": null,
            "justify_items": null,
            "left": null,
            "margin": null,
            "max_height": null,
            "max_width": null,
            "min_height": null,
            "min_width": null,
            "object_fit": null,
            "object_position": null,
            "order": null,
            "overflow": null,
            "overflow_x": null,
            "overflow_y": null,
            "padding": null,
            "right": null,
            "top": null,
            "visibility": null,
            "width": null
          }
        },
        "d82f0458d33640c0a6fcd7c0938b1f2c": {
          "model_module": "@jupyter-widgets/base",
          "model_module_version": "1.2.0",
          "model_name": "LayoutModel",
          "state": {
            "_model_module": "@jupyter-widgets/base",
            "_model_module_version": "1.2.0",
            "_model_name": "LayoutModel",
            "_view_count": null,
            "_view_module": "@jupyter-widgets/base",
            "_view_module_version": "1.2.0",
            "_view_name": "LayoutView",
            "align_content": null,
            "align_items": null,
            "align_self": null,
            "border": null,
            "bottom": null,
            "display": null,
            "flex": null,
            "flex_flow": null,
            "grid_area": null,
            "grid_auto_columns": null,
            "grid_auto_flow": null,
            "grid_auto_rows": null,
            "grid_column": null,
            "grid_gap": null,
            "grid_row": null,
            "grid_template_areas": null,
            "grid_template_columns": null,
            "grid_template_rows": null,
            "height": null,
            "justify_content": null,
            "justify_items": null,
            "left": null,
            "margin": null,
            "max_height": null,
            "max_width": null,
            "min_height": null,
            "min_width": null,
            "object_fit": null,
            "object_position": null,
            "order": null,
            "overflow": null,
            "overflow_x": null,
            "overflow_y": null,
            "padding": null,
            "right": null,
            "top": null,
            "visibility": null,
            "width": null
          }
        },
        "da46d61badd040afb5175f27dd50f7ed": {
          "model_module": "@jupyter-widgets/controls",
          "model_module_version": "1.5.0",
          "model_name": "FloatProgressModel",
          "state": {
            "_dom_classes": [],
            "_model_module": "@jupyter-widgets/controls",
            "_model_module_version": "1.5.0",
            "_model_name": "FloatProgressModel",
            "_view_count": null,
            "_view_module": "@jupyter-widgets/controls",
            "_view_module_version": "1.5.0",
            "_view_name": "ProgressView",
            "bar_style": "success",
            "description": "",
            "description_tooltip": null,
            "layout": "IPY_MODEL_317e76910d3240f98ec7702ececeab05",
            "max": 1080,
            "min": 0,
            "orientation": "horizontal",
            "style": "IPY_MODEL_7767f0094fb64480a72df425efe13f0a",
            "value": 1080
          }
        },
        "dd328e666a0c478b9c223477a6a773c2": {
          "model_module": "@jupyter-widgets/controls",
          "model_module_version": "1.5.0",
          "model_name": "DescriptionStyleModel",
          "state": {
            "_model_module": "@jupyter-widgets/controls",
            "_model_module_version": "1.5.0",
            "_model_name": "DescriptionStyleModel",
            "_view_count": null,
            "_view_module": "@jupyter-widgets/base",
            "_view_module_version": "1.2.0",
            "_view_name": "StyleView",
            "description_width": ""
          }
        },
        "de3903c61f054068a86b27dcdbdecb6f": {
          "model_module": "@jupyter-widgets/base",
          "model_module_version": "1.2.0",
          "model_name": "LayoutModel",
          "state": {
            "_model_module": "@jupyter-widgets/base",
            "_model_module_version": "1.2.0",
            "_model_name": "LayoutModel",
            "_view_count": null,
            "_view_module": "@jupyter-widgets/base",
            "_view_module_version": "1.2.0",
            "_view_name": "LayoutView",
            "align_content": null,
            "align_items": null,
            "align_self": null,
            "border": null,
            "bottom": null,
            "display": null,
            "flex": null,
            "flex_flow": null,
            "grid_area": null,
            "grid_auto_columns": null,
            "grid_auto_flow": null,
            "grid_auto_rows": null,
            "grid_column": null,
            "grid_gap": null,
            "grid_row": null,
            "grid_template_areas": null,
            "grid_template_columns": null,
            "grid_template_rows": null,
            "height": null,
            "justify_content": null,
            "justify_items": null,
            "left": null,
            "margin": null,
            "max_height": null,
            "max_width": null,
            "min_height": null,
            "min_width": null,
            "object_fit": null,
            "object_position": null,
            "order": null,
            "overflow": null,
            "overflow_x": null,
            "overflow_y": null,
            "padding": null,
            "right": null,
            "top": null,
            "visibility": null,
            "width": null
          }
        },
        "ded9a11855754581a0828ed85f6cdb69": {
          "model_module": "@jupyter-widgets/controls",
          "model_module_version": "1.5.0",
          "model_name": "HBoxModel",
          "state": {
            "_dom_classes": [],
            "_model_module": "@jupyter-widgets/controls",
            "_model_module_version": "1.5.0",
            "_model_name": "HBoxModel",
            "_view_count": null,
            "_view_module": "@jupyter-widgets/controls",
            "_view_module_version": "1.5.0",
            "_view_name": "HBoxView",
            "box_style": "",
            "children": [
              "IPY_MODEL_9dfd4cd10796437aa0c19dba48348952",
              "IPY_MODEL_1dc683f0ad0b47f6af0ed8e27cc30baa",
              "IPY_MODEL_cacc883af05a47f3bb09c4d95177a765"
            ],
            "layout": "IPY_MODEL_e922ec34ba3746d39d46487000c294f4"
          }
        },
        "e1844b13c6234f6cb3cbd75d95fe8624": {
          "model_module": "@jupyter-widgets/controls",
          "model_module_version": "1.5.0",
          "model_name": "HTMLModel",
          "state": {
            "_dom_classes": [],
            "_model_module": "@jupyter-widgets/controls",
            "_model_module_version": "1.5.0",
            "_model_name": "HTMLModel",
            "_view_count": null,
            "_view_module": "@jupyter-widgets/controls",
            "_view_module_version": "1.5.0",
            "_view_name": "HTMLView",
            "description": "",
            "description_tooltip": null,
            "layout": "IPY_MODEL_ca9271a5a2ef4821b5f810e24554ae4a",
            "placeholder": "​",
            "style": "IPY_MODEL_4eb7de96c437443582099d3b7b66eb8b",
            "value": " 798k/798k [00:00&lt;00:00, 6.74MB/s]"
          }
        },
        "e2e1d2efd3cc450daba9d5d5f2f0b66a": {
          "model_module": "@jupyter-widgets/controls",
          "model_module_version": "1.5.0",
          "model_name": "ProgressStyleModel",
          "state": {
            "_model_module": "@jupyter-widgets/controls",
            "_model_module_version": "1.5.0",
            "_model_name": "ProgressStyleModel",
            "_view_count": null,
            "_view_module": "@jupyter-widgets/base",
            "_view_module_version": "1.2.0",
            "_view_name": "StyleView",
            "bar_color": null,
            "description_width": ""
          }
        },
        "e5dc6577a8e04dd3a143dc87688a587a": {
          "model_module": "@jupyter-widgets/controls",
          "model_module_version": "1.5.0",
          "model_name": "HTMLModel",
          "state": {
            "_dom_classes": [],
            "_model_module": "@jupyter-widgets/controls",
            "_model_module_version": "1.5.0",
            "_model_name": "HTMLModel",
            "_view_count": null,
            "_view_module": "@jupyter-widgets/controls",
            "_view_module_version": "1.5.0",
            "_view_name": "HTMLView",
            "description": "",
            "description_tooltip": null,
            "layout": "IPY_MODEL_6530640f489c481fb54667fa17df9496",
            "placeholder": "​",
            "style": "IPY_MODEL_2ff2dafa2205484aa1316d16ab973d21",
            "value": " 2.11M/2.11M [00:00&lt;00:00, 17.0MB/s]"
          }
        },
        "e922ec34ba3746d39d46487000c294f4": {
          "model_module": "@jupyter-widgets/base",
          "model_module_version": "1.2.0",
          "model_name": "LayoutModel",
          "state": {
            "_model_module": "@jupyter-widgets/base",
            "_model_module_version": "1.2.0",
            "_model_name": "LayoutModel",
            "_view_count": null,
            "_view_module": "@jupyter-widgets/base",
            "_view_module_version": "1.2.0",
            "_view_name": "LayoutView",
            "align_content": null,
            "align_items": null,
            "align_self": null,
            "border": null,
            "bottom": null,
            "display": null,
            "flex": null,
            "flex_flow": null,
            "grid_area": null,
            "grid_auto_columns": null,
            "grid_auto_flow": null,
            "grid_auto_rows": null,
            "grid_column": null,
            "grid_gap": null,
            "grid_row": null,
            "grid_template_areas": null,
            "grid_template_columns": null,
            "grid_template_rows": null,
            "height": null,
            "justify_content": null,
            "justify_items": null,
            "left": null,
            "margin": null,
            "max_height": null,
            "max_width": null,
            "min_height": null,
            "min_width": null,
            "object_fit": null,
            "object_position": null,
            "order": null,
            "overflow": null,
            "overflow_x": null,
            "overflow_y": null,
            "padding": null,
            "right": null,
            "top": null,
            "visibility": null,
            "width": null
          }
        },
        "ea3fba0adc854776aa452571e290e596": {
          "model_module": "@jupyter-widgets/controls",
          "model_module_version": "1.5.0",
          "model_name": "HTMLModel",
          "state": {
            "_dom_classes": [],
            "_model_module": "@jupyter-widgets/controls",
            "_model_module_version": "1.5.0",
            "_model_name": "HTMLModel",
            "_view_count": null,
            "_view_module": "@jupyter-widgets/controls",
            "_view_module_version": "1.5.0",
            "_view_name": "HTMLView",
            "description": "",
            "description_tooltip": null,
            "layout": "IPY_MODEL_825feec11a2f49658ea1028e9c6ecdfc",
            "placeholder": "​",
            "style": "IPY_MODEL_8b3920f1a0934df58ff9697f74cf96ad",
            "value": "added_tokens.json: 100%"
          }
        },
        "ea76af8771824eb68d32a0b41a9625f5": {
          "model_module": "@jupyter-widgets/base",
          "model_module_version": "1.2.0",
          "model_name": "LayoutModel",
          "state": {
            "_model_module": "@jupyter-widgets/base",
            "_model_module_version": "1.2.0",
            "_model_name": "LayoutModel",
            "_view_count": null,
            "_view_module": "@jupyter-widgets/base",
            "_view_module_version": "1.2.0",
            "_view_name": "LayoutView",
            "align_content": null,
            "align_items": null,
            "align_self": null,
            "border": null,
            "bottom": null,
            "display": null,
            "flex": null,
            "flex_flow": null,
            "grid_area": null,
            "grid_auto_columns": null,
            "grid_auto_flow": null,
            "grid_auto_rows": null,
            "grid_column": null,
            "grid_gap": null,
            "grid_row": null,
            "grid_template_areas": null,
            "grid_template_columns": null,
            "grid_template_rows": null,
            "height": null,
            "justify_content": null,
            "justify_items": null,
            "left": null,
            "margin": null,
            "max_height": null,
            "max_width": null,
            "min_height": null,
            "min_width": null,
            "object_fit": null,
            "object_position": null,
            "order": null,
            "overflow": null,
            "overflow_x": null,
            "overflow_y": null,
            "padding": null,
            "right": null,
            "top": null,
            "visibility": null,
            "width": null
          }
        },
        "ebd460e6b4104e61a933bb3638bbfdb3": {
          "model_module": "@jupyter-widgets/base",
          "model_module_version": "1.2.0",
          "model_name": "LayoutModel",
          "state": {
            "_model_module": "@jupyter-widgets/base",
            "_model_module_version": "1.2.0",
            "_model_name": "LayoutModel",
            "_view_count": null,
            "_view_module": "@jupyter-widgets/base",
            "_view_module_version": "1.2.0",
            "_view_name": "LayoutView",
            "align_content": null,
            "align_items": null,
            "align_self": null,
            "border": null,
            "bottom": null,
            "display": null,
            "flex": null,
            "flex_flow": null,
            "grid_area": null,
            "grid_auto_columns": null,
            "grid_auto_flow": null,
            "grid_auto_rows": null,
            "grid_column": null,
            "grid_gap": null,
            "grid_row": null,
            "grid_template_areas": null,
            "grid_template_columns": null,
            "grid_template_rows": null,
            "height": null,
            "justify_content": null,
            "justify_items": null,
            "left": null,
            "margin": null,
            "max_height": null,
            "max_width": null,
            "min_height": null,
            "min_width": null,
            "object_fit": null,
            "object_position": null,
            "order": null,
            "overflow": null,
            "overflow_x": null,
            "overflow_y": null,
            "padding": null,
            "right": null,
            "top": null,
            "visibility": null,
            "width": null
          }
        },
        "ebda76bc19f84f5bb99e3467e75a321a": {
          "model_module": "@jupyter-widgets/base",
          "model_module_version": "1.2.0",
          "model_name": "LayoutModel",
          "state": {
            "_model_module": "@jupyter-widgets/base",
            "_model_module_version": "1.2.0",
            "_model_name": "LayoutModel",
            "_view_count": null,
            "_view_module": "@jupyter-widgets/base",
            "_view_module_version": "1.2.0",
            "_view_name": "LayoutView",
            "align_content": null,
            "align_items": null,
            "align_self": null,
            "border": null,
            "bottom": null,
            "display": null,
            "flex": null,
            "flex_flow": null,
            "grid_area": null,
            "grid_auto_columns": null,
            "grid_auto_flow": null,
            "grid_auto_rows": null,
            "grid_column": null,
            "grid_gap": null,
            "grid_row": null,
            "grid_template_areas": null,
            "grid_template_columns": null,
            "grid_template_rows": null,
            "height": null,
            "justify_content": null,
            "justify_items": null,
            "left": null,
            "margin": null,
            "max_height": null,
            "max_width": null,
            "min_height": null,
            "min_width": null,
            "object_fit": null,
            "object_position": null,
            "order": null,
            "overflow": null,
            "overflow_x": null,
            "overflow_y": null,
            "padding": null,
            "right": null,
            "top": null,
            "visibility": null,
            "width": null
          }
        },
        "ec72bee9c29f4ae298370843fbc16dcc": {
          "model_module": "@jupyter-widgets/base",
          "model_module_version": "1.2.0",
          "model_name": "LayoutModel",
          "state": {
            "_model_module": "@jupyter-widgets/base",
            "_model_module_version": "1.2.0",
            "_model_name": "LayoutModel",
            "_view_count": null,
            "_view_module": "@jupyter-widgets/base",
            "_view_module_version": "1.2.0",
            "_view_name": "LayoutView",
            "align_content": null,
            "align_items": null,
            "align_self": null,
            "border": null,
            "bottom": null,
            "display": null,
            "flex": null,
            "flex_flow": null,
            "grid_area": null,
            "grid_auto_columns": null,
            "grid_auto_flow": null,
            "grid_auto_rows": null,
            "grid_column": null,
            "grid_gap": null,
            "grid_row": null,
            "grid_template_areas": null,
            "grid_template_columns": null,
            "grid_template_rows": null,
            "height": null,
            "justify_content": null,
            "justify_items": null,
            "left": null,
            "margin": null,
            "max_height": null,
            "max_width": null,
            "min_height": null,
            "min_width": null,
            "object_fit": null,
            "object_position": null,
            "order": null,
            "overflow": null,
            "overflow_x": null,
            "overflow_y": null,
            "padding": null,
            "right": null,
            "top": null,
            "visibility": null,
            "width": null
          }
        },
        "ec9130d6efda44bd99a073476ea00712": {
          "model_module": "@jupyter-widgets/controls",
          "model_module_version": "1.5.0",
          "model_name": "HTMLModel",
          "state": {
            "_dom_classes": [],
            "_model_module": "@jupyter-widgets/controls",
            "_model_module_version": "1.5.0",
            "_model_name": "HTMLModel",
            "_view_count": null,
            "_view_module": "@jupyter-widgets/controls",
            "_view_module_version": "1.5.0",
            "_view_name": "HTMLView",
            "description": "",
            "description_tooltip": null,
            "layout": "IPY_MODEL_8f44cf9068bc4f7ea36be3eae0546ee5",
            "placeholder": "​",
            "style": "IPY_MODEL_dd328e666a0c478b9c223477a6a773c2",
            "value": " 35.7k/35.7k [00:00&lt;00:00, 1.38MB/s]"
          }
        },
        "f20b554f0b8f4d109f6ce58f3c2af71f": {
          "model_module": "@jupyter-widgets/controls",
          "model_module_version": "1.5.0",
          "model_name": "DescriptionStyleModel",
          "state": {
            "_model_module": "@jupyter-widgets/controls",
            "_model_module_version": "1.5.0",
            "_model_name": "DescriptionStyleModel",
            "_view_count": null,
            "_view_module": "@jupyter-widgets/base",
            "_view_module_version": "1.2.0",
            "_view_name": "StyleView",
            "description_width": ""
          }
        },
        "f20f16d33b1f4af58fe48870d872a00e": {
          "model_module": "@jupyter-widgets/controls",
          "model_module_version": "1.5.0",
          "model_name": "DescriptionStyleModel",
          "state": {
            "_model_module": "@jupyter-widgets/controls",
            "_model_module_version": "1.5.0",
            "_model_name": "DescriptionStyleModel",
            "_view_count": null,
            "_view_module": "@jupyter-widgets/base",
            "_view_module_version": "1.2.0",
            "_view_name": "StyleView",
            "description_width": ""
          }
        },
        "f234e8eb740842b5a4d197c29373185e": {
          "model_module": "@jupyter-widgets/controls",
          "model_module_version": "1.5.0",
          "model_name": "DescriptionStyleModel",
          "state": {
            "_model_module": "@jupyter-widgets/controls",
            "_model_module_version": "1.5.0",
            "_model_name": "DescriptionStyleModel",
            "_view_count": null,
            "_view_module": "@jupyter-widgets/base",
            "_view_module_version": "1.2.0",
            "_view_name": "StyleView",
            "description_width": ""
          }
        },
        "f29cae2c55f14cec9e3fc64247c41efd": {
          "model_module": "@jupyter-widgets/controls",
          "model_module_version": "1.5.0",
          "model_name": "FloatProgressModel",
          "state": {
            "_dom_classes": [],
            "_model_module": "@jupyter-widgets/controls",
            "_model_module_version": "1.5.0",
            "_model_name": "FloatProgressModel",
            "_view_count": null,
            "_view_module": "@jupyter-widgets/controls",
            "_view_module_version": "1.5.0",
            "_view_name": "ProgressView",
            "bar_style": "success",
            "description": "",
            "description_tooltip": null,
            "layout": "IPY_MODEL_f944236a4f0b41b1a27c4babbc4fc7fe",
            "max": 124,
            "min": 0,
            "orientation": "horizontal",
            "style": "IPY_MODEL_f72d1b46583e49dab59ddbe192afc2ab",
            "value": 124
          }
        },
        "f3694f606b2249ab9998a80b7df4e194": {
          "model_module": "@jupyter-widgets/controls",
          "model_module_version": "1.5.0",
          "model_name": "HBoxModel",
          "state": {
            "_dom_classes": [],
            "_model_module": "@jupyter-widgets/controls",
            "_model_module_version": "1.5.0",
            "_model_name": "HBoxModel",
            "_view_count": null,
            "_view_module": "@jupyter-widgets/controls",
            "_view_module_version": "1.5.0",
            "_view_name": "HBoxView",
            "box_style": "",
            "children": [
              "IPY_MODEL_ea3fba0adc854776aa452571e290e596",
              "IPY_MODEL_da46d61badd040afb5175f27dd50f7ed",
              "IPY_MODEL_4d977ef0f26d4cbb8cbb00f0549f24ab"
            ],
            "layout": "IPY_MODEL_3ad31eb4a6fe494b99d773deff1eb789"
          }
        },
        "f65c7559f77547ee90de08aa24df01b8": {
          "model_module": "@jupyter-widgets/controls",
          "model_module_version": "1.5.0",
          "model_name": "DescriptionStyleModel",
          "state": {
            "_model_module": "@jupyter-widgets/controls",
            "_model_module_version": "1.5.0",
            "_model_name": "DescriptionStyleModel",
            "_view_count": null,
            "_view_module": "@jupyter-widgets/base",
            "_view_module_version": "1.2.0",
            "_view_name": "StyleView",
            "description_width": ""
          }
        },
        "f72d1b46583e49dab59ddbe192afc2ab": {
          "model_module": "@jupyter-widgets/controls",
          "model_module_version": "1.5.0",
          "model_name": "ProgressStyleModel",
          "state": {
            "_model_module": "@jupyter-widgets/controls",
            "_model_module_version": "1.5.0",
            "_model_name": "ProgressStyleModel",
            "_view_count": null,
            "_view_module": "@jupyter-widgets/base",
            "_view_module_version": "1.2.0",
            "_view_name": "StyleView",
            "bar_color": null,
            "description_width": ""
          }
        },
        "f944236a4f0b41b1a27c4babbc4fc7fe": {
          "model_module": "@jupyter-widgets/base",
          "model_module_version": "1.2.0",
          "model_name": "LayoutModel",
          "state": {
            "_model_module": "@jupyter-widgets/base",
            "_model_module_version": "1.2.0",
            "_model_name": "LayoutModel",
            "_view_count": null,
            "_view_module": "@jupyter-widgets/base",
            "_view_module_version": "1.2.0",
            "_view_name": "LayoutView",
            "align_content": null,
            "align_items": null,
            "align_self": null,
            "border": null,
            "bottom": null,
            "display": null,
            "flex": null,
            "flex_flow": null,
            "grid_area": null,
            "grid_auto_columns": null,
            "grid_auto_flow": null,
            "grid_auto_rows": null,
            "grid_column": null,
            "grid_gap": null,
            "grid_row": null,
            "grid_template_areas": null,
            "grid_template_columns": null,
            "grid_template_rows": null,
            "height": null,
            "justify_content": null,
            "justify_items": null,
            "left": null,
            "margin": null,
            "max_height": null,
            "max_width": null,
            "min_height": null,
            "min_width": null,
            "object_fit": null,
            "object_position": null,
            "order": null,
            "overflow": null,
            "overflow_x": null,
            "overflow_y": null,
            "padding": null,
            "right": null,
            "top": null,
            "visibility": null,
            "width": null
          }
        },
        "fc56d58f074645969ee21512cbc1044e": {
          "model_module": "@jupyter-widgets/controls",
          "model_module_version": "1.5.0",
          "model_name": "HTMLModel",
          "state": {
            "_dom_classes": [],
            "_model_module": "@jupyter-widgets/controls",
            "_model_module_version": "1.5.0",
            "_model_name": "HTMLModel",
            "_view_count": null,
            "_view_module": "@jupyter-widgets/controls",
            "_view_module_version": "1.5.0",
            "_view_name": "HTMLView",
            "description": "",
            "description_tooltip": null,
            "layout": "IPY_MODEL_bf8144c434e74850b7265f193a4aba49",
            "placeholder": "​",
            "style": "IPY_MODEL_b1eb5b7c624e4752834878eaaf43c448",
            "value": "model-00002-of-00002.safetensors: 100%"
          }
        },
        "fcbb88fafe0c4dbfab0d07e36a754e17": {
          "model_module": "@jupyter-widgets/controls",
          "model_module_version": "1.5.0",
          "model_name": "FloatProgressModel",
          "state": {
            "_dom_classes": [],
            "_model_module": "@jupyter-widgets/controls",
            "_model_module_version": "1.5.0",
            "_model_name": "FloatProgressModel",
            "_view_count": null,
            "_view_module": "@jupyter-widgets/controls",
            "_view_module_version": "1.5.0",
            "_view_name": "ProgressView",
            "bar_style": "success",
            "description": "",
            "description_tooltip": null,
            "layout": "IPY_MODEL_20237494aa7d4b64b7f8cf45f9898ad4",
            "max": 863,
            "min": 0,
            "orientation": "horizontal",
            "style": "IPY_MODEL_e2e1d2efd3cc450daba9d5d5f2f0b66a",
            "value": 863
          }
        }
      }
    }
  },
  "nbformat": 4,
  "nbformat_minor": 0
}
